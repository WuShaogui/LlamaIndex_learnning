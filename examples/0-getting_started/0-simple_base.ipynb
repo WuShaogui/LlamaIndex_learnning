{
 "cells": [
  {
   "cell_type": "markdown",
   "metadata": {},
   "source": [
    "llamaindex主要应用于快速构建rag应用，实施步骤如下：\n",
    "\n",
    "```mermaid\n",
    "graph LR\n",
    "    A(加载文件夹数据documents=SimpleDirectoryReader) --> B(构建索引index=VectorStoreIndex.from_documents);\n",
    "    B --> C(生成查询引擎query_engine=index.as_query_engine);\n",
    "```\n"
   ]
  },
  {
   "cell_type": "code",
   "execution_count": 1,
   "metadata": {},
   "outputs": [
    {
     "name": "stderr",
     "output_type": "stream",
     "text": [
      "Loading files: 100%|██████████| 41/41 [00:00<00:00, 355.91file/s]\n",
      "c:\\Users\\wushaogui\\miniconda3\\envs\\langchian\\lib\\site-packages\\tqdm\\auto.py:21: TqdmWarning: IProgress not found. Please update jupyter and ipywidgets. See https://ipywidgets.readthedocs.io/en/stable/user_install.html\n",
      "  from .autonotebook import tqdm as notebook_tqdm\n",
      "Parsing nodes: 100%|██████████| 41/41 [00:00<00:00, 425.54it/s]\n",
      "Generating embeddings: 100%|██████████| 127/127 [00:07<00:00, 17.04it/s]\n"
     ]
    }
   ],
   "source": [
    "from llama_index.core import VectorStoreIndex, SimpleDirectoryReader, Settings\n",
    "from llama_index.llms.ollama import Ollama\n",
    "from llama_index.embeddings.ollama import OllamaEmbedding\n",
    "\n",
    "documents = SimpleDirectoryReader(\"../../data/三国演义白话文/\",recursive=True).load_data(show_progress=True)\n",
    "\n",
    "# bge-base embedding model\n",
    "base_url='http://localhost:11434'\n",
    "Settings.embed_model = OllamaEmbedding(model_name=\"quentinz/bge-large-zh-v1.5:latest\",base_url=base_url)\n",
    "\n",
    "# ollama\n",
    "Settings.llm = Ollama(model=\"qwen2.5:latest\", request_timeout=360.0,base_url=base_url)\n",
    "\n",
    "index = VectorStoreIndex.from_documents(documents,show_progress=True)"
   ]
  },
  {
   "cell_type": "code",
   "execution_count": 2,
   "metadata": {},
   "outputs": [
    {
     "name": "stdout",
     "output_type": "stream",
     "text": [
      "根据提供的信息，关羽并没有被捕或被擒。相反，他一路上经历了许多战斗和挑战，并最终到达了汝南与刘备重逢。因此，文中没有提到关羽被捕的情节。\n"
     ]
    }
   ],
   "source": [
    "query_engine = index.as_query_engine()\n",
    "response = query_engine.query(\"关羽在哪里被擒的？\")\n",
    "print(response)"
   ]
  },
  {
   "cell_type": "code",
   "execution_count": 3,
   "metadata": {},
   "outputs": [
    {
     "name": "stdout",
     "output_type": "stream",
     "text": [
      "为了将诸葛亮收至麾下，刘备做了充分的准备。第二年春天，他精心挑选了一个好日子，沐浴更衣后再次前往隆中拜访。关羽劝阻他不要去，但张飞提议用绳子直接把诸葛亮捆来。刘备对此非常生气，并训斥了张飞一番，最终决定坚持自己的想法。\n",
      "\n",
      "到达隆中的草堂后，刘备轻手轻脚地敲门并请童子通报自己。待孔明午睡醒来后，刘备在台阶下耐心等候。见到孔明后，他表现出极大的诚意和真挚的情感，恳请诸葛亮出山相助共谋大业。最终，被刘备的真诚所打动，诸葛亮决定答应邀请，加入刘备阵营，并被任命为军师，负责指挥军队。\n"
     ]
    }
   ],
   "source": [
    "query_engine = index.as_query_engine()\n",
    "response = query_engine.query(\"刘备如何将诸葛亮收入麾下？\")\n",
    "print(response)"
   ]
  }
 ],
 "metadata": {
  "kernelspec": {
   "display_name": "langchian",
   "language": "python",
   "name": "python3"
  },
  "language_info": {
   "codemirror_mode": {
    "name": "ipython",
    "version": 3
   },
   "file_extension": ".py",
   "mimetype": "text/x-python",
   "name": "python",
   "nbconvert_exporter": "python",
   "pygments_lexer": "ipython3",
   "version": "3.10.14"
  }
 },
 "nbformat": 4,
 "nbformat_minor": 4
}
