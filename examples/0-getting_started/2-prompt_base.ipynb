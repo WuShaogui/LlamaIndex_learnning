{
 "cells": [
  {
   "cell_type": "markdown",
   "metadata": {},
   "source": [
    "这段代码展示了如何使用LlamaIndex库构建并更新Prompt模板。具体来说：\n",
    "\n",
    "1. **定义Prompt模板**：通过`PromptTemplate`和`ChatPromptTemplate`创建用于文本生成的提示词。\n",
    "2. **使用Prompt模板**：\n",
    "   - 通过`qa_template.format()`和`chat_template.format(topic=topic)`插入上下文信息并生成相应的提示词字符串。\n",
    "   - 使用`qa_template.format_messages()`和`chat_template.format_messages(topic=topic)`生成ChatMessage对象，模拟聊天场景。\n",
    "3. **构建索引与查询引擎**：通过`VectorStoreIndex`从文档中构建向量存储索引，并设置LLM模型和嵌入模型。\n",
    "4. **更新查询引擎的提示词**：将之前定义的文本问答模板应用到查询引擎上。\n",
    "\n",
    "整个过程展示了如何在LlamaIndex中灵活地使用不同类型的Prompt模板来满足特定的应用场景需求。"
   ]
  },
  {
   "cell_type": "code",
   "execution_count": 1,
   "metadata": {
    "execution": {
     "iopub.execute_input": "2024-12-03T07:53:07.256378Z",
     "iopub.status.busy": "2024-12-03T07:53:07.255384Z",
     "iopub.status.idle": "2024-12-03T07:53:07.285250Z",
     "shell.execute_reply": "2024-12-03T07:53:07.281251Z",
     "shell.execute_reply.started": "2024-12-03T07:53:07.256378Z"
    }
   },
   "outputs": [
    {
     "name": "stdout",
     "output_type": "stream",
     "text": [
      "我提供以下上下文信息\n",
      "-------------------\n",
      "在阳光明媚的春日午后，小明和小华相约在公园的樱花树下野餐。铺开格子布，摆上三明治和果汁，两人边吃边聊，笑声不断。樱花随风飘落，像粉色的雪花，落在他们的头上和食物上，增添了几分浪漫。小明突然提议玩一个猜谜游戏，小华兴奋地接受了挑战，两人的友谊在这场智力角逐中更加深厚。\n",
      "-------------------\n",
      "给定这个信息，请回答问题：谁提出玩游戏的？\n",
      "\n"
     ]
    }
   ],
   "source": [
    "from llama_index.core import PromptTemplate\n",
    "\n",
    "template = (\n",
    "    \"我提供以下上下文信息\\n\"\n",
    "    \"-------------------\\n\"\n",
    "    \"{context_str}\\n\"\n",
    "    \"-------------------\\n\"\n",
    "    \"给定这个信息，请回答问题：{query_str}\\n\"\n",
    ")\n",
    "\n",
    "qa_template = PromptTemplate(template=template)\n",
    "\n",
    "# 文本生成场景\n",
    "context_str = \"在阳光明媚的春日午后，小明和小华相约在公园的樱花树下野餐。铺开格子布，摆上三明治和果汁，两人边吃边聊，笑声不断。樱花随风飘落，像粉色的雪花，落在他们的头上和食物上，增添了几分浪漫。小明突然提议玩一个猜谜游戏，小华兴奋地接受了挑战，两人的友谊在这场智力角逐中更加深厚。\"\n",
    "query_str = \"谁提出玩游戏的？\"\n",
    "prompt = qa_template.format(context_str=context_str, query_str=query_str)\n",
    "print(prompt)"
   ]
  },
  {
   "cell_type": "code",
   "execution_count": 2,
   "metadata": {
    "execution": {
     "iopub.execute_input": "2024-12-03T07:58:11.291043Z",
     "iopub.status.busy": "2024-12-03T07:58:11.290041Z",
     "iopub.status.idle": "2024-12-03T07:58:11.313200Z",
     "shell.execute_reply": "2024-12-03T07:58:11.309204Z",
     "shell.execute_reply.started": "2024-12-03T07:58:11.291043Z"
    }
   },
   "outputs": [
    {
     "name": "stdout",
     "output_type": "stream",
     "text": [
      "[ChatMessage(role=<MessageRole.USER: 'user'>, additional_kwargs={}, blocks=[TextBlock(block_type='text', text='我提供以下上下文信息\\n-------------------\\n在阳光明媚的春日午后，小明和小华相约在公园的樱花树下野餐。铺开格子布，摆上三明治和果汁，两人边吃边聊，笑声不断。樱花随风飘落，像粉色的雪花，落在他们的头上和食物上，增添了几分浪漫。小明突然提议玩一个猜谜游戏，小华兴奋地接受了挑战，两人的友谊在这场智力角逐中更加深厚。\\n-------------------\\n给定这个信息，请回答问题：谁提出玩游戏的？\\n')])]\n"
     ]
    }
   ],
   "source": [
    "message=qa_template.format_messages(context_str=context_str, query_str=query_str)\n",
    "print(message)"
   ]
  },
  {
   "cell_type": "markdown",
   "metadata": {
    "execution": {
     "iopub.execute_input": "2024-12-03T07:58:57.023567Z",
     "iopub.status.busy": "2024-12-03T07:58:57.022554Z",
     "iopub.status.idle": "2024-12-03T07:58:57.048263Z",
     "shell.execute_reply": "2024-12-03T07:58:57.043779Z",
     "shell.execute_reply.started": "2024-12-03T07:58:57.023567Z"
    }
   },
   "source": [
    "除了使用PromptTemplate外，类似的方法还可以创建ChatPromptTemplate   "
   ]
  },
  {
   "cell_type": "code",
   "execution_count": 3,
   "metadata": {
    "execution": {
     "iopub.execute_input": "2024-12-03T08:08:34.630859Z",
     "iopub.status.busy": "2024-12-03T08:08:34.630859Z",
     "iopub.status.idle": "2024-12-03T08:08:34.656891Z",
     "shell.execute_reply": "2024-12-03T08:08:34.654888Z",
     "shell.execute_reply.started": "2024-12-03T08:08:34.630859Z"
    }
   },
   "outputs": [
    {
     "name": "stdout",
     "output_type": "stream",
     "text": [
      "system: 你是一个说书人\n",
      "user: 给我讲讲三国演义的空城计？\n",
      "assistant: \n",
      "----------\n",
      "[ChatMessage(role=<MessageRole.SYSTEM: 'system'>, additional_kwargs={}, blocks=[TextBlock(block_type='text', text='你是一个说书人')]), ChatMessage(role=<MessageRole.USER: 'user'>, additional_kwargs={}, blocks=[TextBlock(block_type='text', text='给我讲讲三国演义的空城计？')])]\n"
     ]
    }
   ],
   "source": [
    "from llama_index.core import ChatPromptTemplate\n",
    "from llama_index.core.llms import ChatMessage,MessageRole\n",
    "\n",
    "message_template=[\n",
    "    ChatMessage(content=\"你是一个说书人\",role=MessageRole.SYSTEM),\n",
    "    ChatMessage(content=\"给我讲讲{topic}？\",role=MessageRole.USER)\n",
    "]\n",
    "\n",
    "chat_template=ChatPromptTemplate(message_templates=message_template)\n",
    "\n",
    "topic=\"三国演义的空城计\"\n",
    "\n",
    "# 用于文本生成 \n",
    "prompt=chat_template.format(topic=topic)\n",
    "print(prompt)\n",
    "\n",
    "print('----------')\n",
    "\n",
    "# 用于聊天\n",
    "message=chat_template.format_messages(topic=topic)\n",
    "print(message)"
   ]
  },
  {
   "cell_type": "markdown",
   "metadata": {},
   "source": [
    "通过以上两种方式定义prompt，以下将说明如何将这些prompt用起来"
   ]
  },
  {
   "cell_type": "code",
   "execution_count": 4,
   "metadata": {
    "execution": {
     "iopub.execute_input": "2024-12-03T08:14:25.645401Z",
     "iopub.status.busy": "2024-12-03T08:14:25.644401Z",
     "iopub.status.idle": "2024-12-03T08:14:46.399862Z",
     "shell.execute_reply": "2024-12-03T08:14:46.397865Z",
     "shell.execute_reply.started": "2024-12-03T08:14:25.645401Z"
    }
   },
   "outputs": [
    {
     "name": "stderr",
     "output_type": "stream",
     "text": [
      "Loading files: 100%|██████████| 41/41 [00:00<00:00, 394.94file/s]\n",
      "c:\\Users\\wushaogui\\miniconda3\\envs\\langchian\\lib\\site-packages\\tqdm\\auto.py:21: TqdmWarning: IProgress not found. Please update jupyter and ipywidgets. See https://ipywidgets.readthedocs.io/en/stable/user_install.html\n",
      "  from .autonotebook import tqdm as notebook_tqdm\n",
      "Parsing nodes: 100%|██████████| 41/41 [00:00<00:00, 459.78it/s]\n",
      "Generating embeddings: 100%|██████████| 127/127 [00:06<00:00, 18.39it/s]\n"
     ]
    }
   ],
   "source": [
    "# 构建索引及引擎 \n",
    "from llama_index.core import VectorStoreIndex, SimpleDirectoryReader, Settings\n",
    "from llama_index.llms.ollama import Ollama\n",
    "from llama_index.embeddings.ollama import OllamaEmbedding\n",
    "documents = SimpleDirectoryReader(\"../../data/三国演义白话文/\",recursive=True).load_data(show_progress=True)\n",
    "\n",
    "# bge-base embedding model\n",
    "base_url='http://localhost:11434'\n",
    "Settings.embed_model = OllamaEmbedding(model_name=\"quentinz/bge-large-zh-v1.5:latest\",base_url=base_url)\n",
    "\n",
    "# ollama\n",
    "Settings.llm = Ollama(model=\"qwen2.5:latest\", request_timeout=360.0,base_url=base_url)\n",
    "\n",
    "index = VectorStoreIndex.from_documents(documents,show_progress=True)\n",
    "query_engine = index.as_query_engine(response_mode='compact')"
   ]
  },
  {
   "cell_type": "code",
   "execution_count": 5,
   "metadata": {
    "execution": {
     "iopub.execute_input": "2024-12-03T08:14:48.934668Z",
     "iopub.status.busy": "2024-12-03T08:14:48.933669Z",
     "iopub.status.idle": "2024-12-03T08:14:48.953466Z",
     "shell.execute_reply": "2024-12-03T08:14:48.952412Z",
     "shell.execute_reply.started": "2024-12-03T08:14:48.934668Z"
    }
   },
   "outputs": [
    {
     "name": "stdout",
     "output_type": "stream",
     "text": [
      "{'response_synthesizer:text_qa_template': SelectorPromptTemplate(metadata={'prompt_type': <PromptType.QUESTION_ANSWER: 'text_qa'>}, template_vars=['context_str', 'query_str'], kwargs={}, output_parser=None, template_var_mappings={}, function_mappings={}, default_template=PromptTemplate(metadata={'prompt_type': <PromptType.QUESTION_ANSWER: 'text_qa'>}, template_vars=['context_str', 'query_str'], kwargs={}, output_parser=None, template_var_mappings=None, function_mappings=None, template='Context information is below.\\n---------------------\\n{context_str}\\n---------------------\\nGiven the context information and not prior knowledge, answer the query.\\nQuery: {query_str}\\nAnswer: '), conditionals=[(<function is_chat_model at 0x000002C450CB8160>, ChatPromptTemplate(metadata={'prompt_type': <PromptType.CUSTOM: 'custom'>}, template_vars=['context_str', 'query_str'], kwargs={}, output_parser=None, template_var_mappings=None, function_mappings=None, message_templates=[ChatMessage(role=<MessageRole.SYSTEM: 'system'>, additional_kwargs={}, blocks=[TextBlock(block_type='text', text=\"You are an expert Q&A system that is trusted around the world.\\nAlways answer the query using the provided context information, and not prior knowledge.\\nSome rules to follow:\\n1. Never directly reference the given context in your answer.\\n2. Avoid statements like 'Based on the context, ...' or 'The context information ...' or anything along those lines.\")]), ChatMessage(role=<MessageRole.USER: 'user'>, additional_kwargs={}, blocks=[TextBlock(block_type='text', text='Context information is below.\\n---------------------\\n{context_str}\\n---------------------\\nGiven the context information and not prior knowledge, answer the query.\\nQuery: {query_str}\\nAnswer: ')])]))]), 'response_synthesizer:refine_template': SelectorPromptTemplate(metadata={'prompt_type': <PromptType.REFINE: 'refine'>}, template_vars=['query_str', 'existing_answer', 'context_msg'], kwargs={}, output_parser=None, template_var_mappings={}, function_mappings={}, default_template=PromptTemplate(metadata={'prompt_type': <PromptType.REFINE: 'refine'>}, template_vars=['query_str', 'existing_answer', 'context_msg'], kwargs={}, output_parser=None, template_var_mappings=None, function_mappings=None, template=\"The original query is as follows: {query_str}\\nWe have provided an existing answer: {existing_answer}\\nWe have the opportunity to refine the existing answer (only if needed) with some more context below.\\n------------\\n{context_msg}\\n------------\\nGiven the new context, refine the original answer to better answer the query. If the context isn't useful, return the original answer.\\nRefined Answer: \"), conditionals=[(<function is_chat_model at 0x000002C450CB8160>, ChatPromptTemplate(metadata={'prompt_type': <PromptType.CUSTOM: 'custom'>}, template_vars=['context_msg', 'query_str', 'existing_answer'], kwargs={}, output_parser=None, template_var_mappings=None, function_mappings=None, message_templates=[ChatMessage(role=<MessageRole.USER: 'user'>, additional_kwargs={}, blocks=[TextBlock(block_type='text', text=\"You are an expert Q&A system that strictly operates in two modes when refining existing answers:\\n1. **Rewrite** an original answer using the new context.\\n2. **Repeat** the original answer if the new context isn't useful.\\nNever reference the original answer or context directly in your answer.\\nWhen in doubt, just repeat the original answer.\\nNew Context: {context_msg}\\nQuery: {query_str}\\nOriginal Answer: {existing_answer}\\nNew Answer: \")])]))])}\n"
     ]
    }
   ],
   "source": [
    "# 获取引擎的当前prompt\n",
    "cur_prompt=query_engine.get_prompts()\n",
    "print(cur_prompt)"
   ]
  },
  {
   "cell_type": "code",
   "execution_count": 6,
   "metadata": {
    "execution": {
     "iopub.execute_input": "2024-12-03T08:16:49.381094Z",
     "iopub.status.busy": "2024-12-03T08:16:49.381094Z",
     "iopub.status.idle": "2024-12-03T08:16:49.406123Z",
     "shell.execute_reply": "2024-12-03T08:16:49.404123Z",
     "shell.execute_reply.started": "2024-12-03T08:16:49.381094Z"
    }
   },
   "outputs": [
    {
     "name": "stdout",
     "output_type": "stream",
     "text": [
      "{'response_synthesizer:text_qa_template': PromptTemplate(metadata={'prompt_type': <PromptType.CUSTOM: 'custom'>}, template_vars=['context_str', 'query_str'], kwargs={}, output_parser=None, template_var_mappings=None, function_mappings=None, template='我提供以下上下文信息\\n-------------------\\n{context_str}\\n-------------------\\n给定这个信息，请回答问题：{query_str}\\n'), 'response_synthesizer:refine_template': SelectorPromptTemplate(metadata={'prompt_type': <PromptType.REFINE: 'refine'>}, template_vars=['query_str', 'existing_answer', 'context_msg'], kwargs={}, output_parser=None, template_var_mappings={}, function_mappings={}, default_template=PromptTemplate(metadata={'prompt_type': <PromptType.REFINE: 'refine'>}, template_vars=['query_str', 'existing_answer', 'context_msg'], kwargs={}, output_parser=None, template_var_mappings=None, function_mappings=None, template=\"The original query is as follows: {query_str}\\nWe have provided an existing answer: {existing_answer}\\nWe have the opportunity to refine the existing answer (only if needed) with some more context below.\\n------------\\n{context_msg}\\n------------\\nGiven the new context, refine the original answer to better answer the query. If the context isn't useful, return the original answer.\\nRefined Answer: \"), conditionals=[(<function is_chat_model at 0x000002C450CB8160>, ChatPromptTemplate(metadata={'prompt_type': <PromptType.CUSTOM: 'custom'>}, template_vars=['context_msg', 'query_str', 'existing_answer'], kwargs={}, output_parser=None, template_var_mappings=None, function_mappings=None, message_templates=[ChatMessage(role=<MessageRole.USER: 'user'>, additional_kwargs={}, blocks=[TextBlock(block_type='text', text=\"You are an expert Q&A system that strictly operates in two modes when refining existing answers:\\n1. **Rewrite** an original answer using the new context.\\n2. **Repeat** the original answer if the new context isn't useful.\\nNever reference the original answer or context directly in your answer.\\nWhen in doubt, just repeat the original answer.\\nNew Context: {context_msg}\\nQuery: {query_str}\\nOriginal Answer: {existing_answer}\\nNew Answer: \")])]))])}\n"
     ]
    }
   ],
   "source": [
    "# 更新prompt \n",
    "query_engine.update_prompts(\n",
    "    {'response_synthesizer:text_qa_template':qa_template}\n",
    ")\n",
    "\n",
    "cur_prompt=query_engine.get_prompts()\n",
    "print(cur_prompt)\n"
   ]
  },
  {
   "cell_type": "markdown",
   "metadata": {},
   "source": [
    "可以看到，prompt被更新，和langchian相比，其提示词没有那么抽象"
   ]
  }
 ],
 "metadata": {
  "kernelspec": {
   "display_name": "langchian",
   "language": "python",
   "name": "python3"
  },
  "language_info": {
   "codemirror_mode": {
    "name": "ipython",
    "version": 3
   },
   "file_extension": ".py",
   "mimetype": "text/x-python",
   "name": "python",
   "nbconvert_exporter": "python",
   "pygments_lexer": "ipython3",
   "version": "3.10.14"
  }
 },
 "nbformat": 4,
 "nbformat_minor": 4
}
