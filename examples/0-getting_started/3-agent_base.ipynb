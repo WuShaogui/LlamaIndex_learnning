{
 "cells": [
  {
   "cell_type": "markdown",
   "id": "d513d9d5-e63d-4f76-a019-68c7d1f81841",
   "metadata": {},
   "source": [
    "RAG是给LLMs上外挂知识库，解决的是幻觉、实时性的问题，Agent则是给LLMs外挂工具，解决的是智能化流程、复杂问题的解决能力\n",
    "\n",
    "这段脚本展示了如何使用 LlamaIndex 和相关工具构建一个智能代理（Agent），该代理能够利用外部知识库和各种功能工具来解决复杂的问题。通过设置语言模型、加载文档数据构建向量索引，以及定义具体的工具函数，该代理可以进行对话交互，并根据问题的需要调用不同的工具和查询外部信息。最终，这个代理能够在一系列提示词的引导下，像一个具有思维链能力的智能系统一样，逐步解决问题并提供答案。\n",
    "\n",
    "总得来说，Agent=LLMs+记忆+工具，通过LLMs类似思维链的方式根据工具生成解决问题的步骤，然后根据工具调用结果判断下一步，直到找到问题的答案"
   ]
  },
  {
   "cell_type": "markdown",
   "id": "f1a2d28c",
   "metadata": {},
   "source": [
    "```mermaid\n",
    "flowchart LR\n",
    "    A[普通函数]\n",
    "    B[\"转为tools\n",
    "       FunctionTool.from_defaults\"];\n",
    "    C[\"llamaIndex自带tools\n",
    "      llama_index.tools.tavily_research\"]\n",
    "    D[\"将RAG查询引擎转为tools\n",
    "        QueryEngineTool.from_defaults\"]\n",
    "    E[工具列表tools]\n",
    "    F[\"通过工具创建Agent\n",
    "      ReActAgent.from_tools\"]\n",
    "    A ---> B;\n",
    "    B---> E;\n",
    "    C--->E;\n",
    "    D--->E;\n",
    "    E--->F;\n",
    "```\n",
    "\n",
    "代码总结：\n",
    "\n",
    "- 使用`ReActAgent.from_tools()`方法创建代理实例。该方法接受一个工具列表作为参数，这些工具可能包括数学计算、外部API调用等。\n",
    "- `QueryEngineTool.from_defaults(query_engine)`将查询引擎封装成可以直接使用的工具，并赋予其名称和描述，方便代理在需要时选择使用。"
   ]
  },
  {
   "cell_type": "code",
   "execution_count": 1,
   "id": "d28fecdb",
   "metadata": {},
   "outputs": [],
   "source": [
    "from llama_index.core import Settings\n",
    "from llama_index.llms.ollama import Ollama\n",
    "from llama_index.embeddings.ollama import OllamaEmbedding\n",
    "base_url='http://localhost:11434'\n",
    "Settings.llm = Ollama(model=\"qwen2.5:latest\", request_timeout=360.0,base_url=base_url)\n",
    "Settings.embed_model = OllamaEmbedding(model_name=\"quentinz/bge-large-zh-v1.5:latest\",base_url=base_url)\n"
   ]
  },
  {
   "cell_type": "code",
   "execution_count": 2,
   "id": "b8de1d03-db00-46e8-9bce-84dfc1d114fd",
   "metadata": {
    "execution": {
     "iopub.execute_input": "2024-12-04T05:34:52.460935Z",
     "iopub.status.busy": "2024-12-04T05:34:52.460935Z",
     "iopub.status.idle": "2024-12-04T05:35:01.781203Z",
     "shell.execute_reply": "2024-12-04T05:35:01.781203Z",
     "shell.execute_reply.started": "2024-12-04T05:34:52.460935Z"
    }
   },
   "outputs": [
    {
     "name": "stdout",
     "output_type": "stream",
     "text": [
      "> Running step 8966df7d-bd40-4e07-b20a-f93c1ddcd237. Step input: 1000+157*2？使用工具计算每一步\n",
      "\u001b[1;3;38;5;200mThought: 我需要先进行乘法运算，然后进行加法运算。我将首先使用multiply工具来完成乘法。\n",
      "Action: multiply\n",
      "Action Input: {'a': 157, 'b': 2}\n",
      "\u001b[0m\u001b[1;3;34mObservation: 314\n",
      "\u001b[0m> Running step d0c73742-4fb1-442c-a5b1-5db9b941d01c. Step input: None\n",
      "\u001b[1;3;38;5;200mThought: 我已经得到了157 * 2的结果是314。接下来，我需要使用add工具来进行加法运算。\n",
      "Action: add\n",
      "Action Input: {'a': 1000, 'b': 314}\n",
      "\u001b[0m\u001b[1;3;34mObservation: 1314\n",
      "\u001b[0m> Running step dd89ef73-1d9a-493b-86cc-b3189587fd81. Step input: None\n",
      "\u001b[1;3;38;5;200mThought: 我可以回答这个问题了。我现在知道1000 + 157 * 2等于1314。\n",
      "Answer: 计算结果是1314。\n",
      "\u001b[0m计算结果是1314。\n"
     ]
    }
   ],
   "source": [
    "from llama_index.core.agent import ReActAgent\n",
    "from llama_index.core.tools import FunctionTool\n",
    "\n",
    "def multiply(a: float, b: float) -> float:\n",
    "    \"\"\"Multiply two numbers and returns the product\"\"\"\n",
    "    return a * b\n",
    "multiply_tool = FunctionTool.from_defaults(fn=multiply)\n",
    "\n",
    "def add(a: float, b: float) -> float:\n",
    "    \"\"\"Add two numbers and returns the sum\"\"\"\n",
    "    return a + b\n",
    "add_tool = FunctionTool.from_defaults(fn=add)\n",
    "\n",
    "# 创建代理 \n",
    "agent = ReActAgent.from_tools([multiply_tool, add_tool], verbose=True)\n",
    "response = agent.chat(\"1000+157*2？使用工具计算每一步\")\n",
    "print(response)"
   ]
  },
  {
   "cell_type": "markdown",
   "id": "f49244c7-22b2-4507-b480-44935b722fc0",
   "metadata": {},
   "source": [
    "实际上，agent不仅仅是文本生成，还记忆了历史聊天的过程，回答时会考虑以前的聊天内容"
   ]
  },
  {
   "cell_type": "code",
   "execution_count": 3,
   "id": "ad6b5f4d-2cb5-433f-9d88-35056f0945da",
   "metadata": {
    "execution": {
     "iopub.execute_input": "2024-12-04T05:45:34.616519Z",
     "iopub.status.busy": "2024-12-04T05:45:34.616519Z",
     "iopub.status.idle": "2024-12-04T05:45:43.795650Z",
     "shell.execute_reply": "2024-12-04T05:45:43.793217Z",
     "shell.execute_reply.started": "2024-12-04T05:45:34.616519Z"
    }
   },
   "outputs": [
    {
     "name": "stdout",
     "output_type": "stream",
     "text": [
      "> Running step 5fdec7a6-3f3f-47b4-8a44-1bda9961a384. Step input: 你是一名数学老师，擅长用通俗的语言解决各种数学问题，你的名字叫小数\n",
      "\u001b[1;3;38;5;200mThought: 我可以回答这个问题而不需要使用任何工具。我将用用户的问题中使用的语言来作答。\n",
      "Answer: 你好！很高兴能以小数的身份帮助大家解答数学问题。如果你有任何数学上的疑问或是需要解释某个概念，请随时提问，我会尽力用通俗易懂的语言来解答哦！\n",
      "\u001b[0m--------------------\n",
      "> Running step 1d018ddc-98c2-4b42-ba85-5da712b0299c. Step input: 请问1000*2+234等于多少？\n",
      "\u001b[1;3;38;5;200mThought: 我需要用工具来计算这个表达式的值。\n",
      "Action: multiply\n",
      "Action Input: {'a': 1000.0, 'b': 2.0}\n",
      "\u001b[0m\u001b[1;3;34mObservation: 2000.0\n",
      "\u001b[0m> Running step 1f514a95-349f-4acb-8106-736faf823fca. Step input: None\n",
      "\u001b[1;3;38;5;200mThought: 现在我得到了乘法的结果，下一步是将这个结果加上234。\n",
      "Action: add\n",
      "Action Input: {'a': 2000.0, 'b': 234.0}\n",
      "\u001b[0m\u001b[1;3;34mObservation: 2234.0\n",
      "\u001b[0m> Running step 23415516-cc3c-4201-9835-aa666bdeff0d. Step input: None\n",
      "\u001b[1;3;38;5;200mThought: 我已经得到了最终的答案，现在可以用语言表达出来了。\n",
      "Answer: 1000乘以2再加上234等于2234。\n",
      "\u001b[0m--------------------\n",
      "> Running step 26c1d49b-e37b-4a85-ba31-da75d7dff873. Step input: 你是谁？你能做什么？\n",
      "\u001b[1;3;38;5;200mThought: (Implicit) I can answer without any more tools!\n",
      "Answer: 我是小数，一名数学老师。我可以帮助你解答各种数学问题，用通俗易懂的语言解释数学概念和解决问题的方法。无论是加减乘除、代数几何还是更高级的数学知识，我都会尽力帮助你理解。有什么具体的问题我们可以一起探讨呢？\n",
      "\u001b[0m"
     ]
    }
   ],
   "source": [
    "agent.memory.set([]) # 清空前一次聊天记录 \n",
    "# 短期记忆\n",
    "response = agent.chat('你是一名数学老师，擅长用通俗的语言解决各种数学问题，你的名字叫小数')\n",
    "print('----'*5)\n",
    "response = agent.chat('请问1000*2+234等于多少？')\n",
    "print('----'*5)\n",
    "response = agent.chat('你是谁？你能做什么？')"
   ]
  },
  {
   "cell_type": "markdown",
   "id": "e9d62d4a-23bf-45c0-8013-f44efd47d4d6",
   "metadata": {},
   "source": [
    "Agent的记忆包括短期记忆和长期记忆，短期基于是临时产生的，长期记忆类似向量数据库，因此可以将RAG过程作为工具嵌入到Agent中"
   ]
  },
  {
   "cell_type": "code",
   "execution_count": 4,
   "id": "a1625908-030f-46cb-8d8d-986777abbd90",
   "metadata": {
    "execution": {
     "iopub.execute_input": "2024-12-04T03:56:09.687002Z",
     "iopub.status.busy": "2024-12-04T03:56:09.686001Z",
     "iopub.status.idle": "2024-12-04T03:57:08.042725Z",
     "shell.execute_reply": "2024-12-04T03:57:08.041719Z",
     "shell.execute_reply.started": "2024-12-04T03:56:09.687002Z"
    }
   },
   "outputs": [
    {
     "name": "stderr",
     "output_type": "stream",
     "text": [
      "Loading files: 100%|██████████| 41/41 [00:00<00:00, 177.32file/s]\n",
      "Loading files: 100%|██████████| 34/34 [00:00<00:00, 2611.65file/s]\n",
      "c:\\Users\\wushaogui\\miniconda3\\envs\\langchian\\lib\\site-packages\\tqdm\\auto.py:21: TqdmWarning: IProgress not found. Please update jupyter and ipywidgets. See https://ipywidgets.readthedocs.io/en/stable/user_install.html\n",
      "  from .autonotebook import tqdm as notebook_tqdm\n",
      "Parsing nodes: 100%|██████████| 41/41 [00:00<00:00, 390.16it/s]\n",
      "Generating embeddings: 100%|██████████| 127/127 [00:06<00:00, 21.16it/s]\n",
      "Parsing nodes: 100%|██████████| 34/34 [00:00<00:00, 207.40it/s]\n",
      "Generating embeddings: 100%|██████████| 308/308 [00:14<00:00, 20.80it/s]\n"
     ]
    }
   ],
   "source": [
    "# 加载外挂知识库（向量数据库）\n",
    "from llama_index.core import SimpleDirectoryReader\n",
    "documents1 = SimpleDirectoryReader(\"../../data/三国演义白话文/\",recursive=True).load_data(show_progress=True)\n",
    "documents2 = SimpleDirectoryReader(\"../../data/水浒传白话文/\",recursive=True).load_data(show_progress=True)\n",
    "\n",
    "from llama_index.core import VectorStoreIndex\n",
    "index1 = VectorStoreIndex.from_documents(documents1,show_progress=True)\n",
    "index2 = VectorStoreIndex.from_documents(documents2,show_progress=True)\n",
    "\n",
    "query_engine1 = index1.as_query_engine()\n",
    "query_engine2 = index2.as_query_engine()"
   ]
  },
  {
   "cell_type": "code",
   "execution_count": 5,
   "id": "09ea1070-1a75-4dbb-b3cd-f3ce10c3cdde",
   "metadata": {
    "execution": {
     "iopub.execute_input": "2024-12-04T04:00:20.457702Z",
     "iopub.status.busy": "2024-12-04T04:00:20.456703Z",
     "iopub.status.idle": "2024-12-04T04:00:37.263930Z",
     "shell.execute_reply": "2024-12-04T04:00:37.261972Z",
     "shell.execute_reply.started": "2024-12-04T04:00:20.457702Z"
    }
   },
   "outputs": [
    {
     "name": "stdout",
     "output_type": "stream",
     "text": [
      "> Running step fe24ee20-f712-452e-bd18-dbd13a0678bf. Step input: 忽略时空关系，假设三国演义和水许传能联通，最有可能是哪些人会碰撞发生故事，帮我想出这个故事\n",
      "\u001b[1;3;38;5;200mThought: I need to use a tool to get information about the characters in both novels. However, since we only have tools for \"三国说书人\" and \"水浒传说书人\", I will ask one of them for character lists first.\n",
      "Action: 三国说书人\n",
      "Action Input: {'input': '请告诉我三国演义中有哪些主要人物？'}\n",
      "\u001b[0m\u001b[1;3;34mObservation: 在《三国演义》的故事中，有几位重要的角色：\n",
      "1. 刘备 - 作为蜀汉的创始人之一，他渴望复兴汉室。\n",
      "2. 孙权 - 吴国的君主，与刘备和曹操形成鼎立之势。\n",
      "3. 曹操 - 魏国的实际统治者，以智谋著称。\n",
      "4. 赵云 - 刘备麾下的著名将领，以其勇猛闻名。\n",
      "5. 张飞 - 也是刘备的重要部将之一，性格直率、武艺高强。\n",
      "6. 孙夫人 - 关羽的妻子，与阿斗一起被孙权扣留后成功获救。\n",
      "7. 审荣 - 审配的侄子，在关键时候为曹操打开了城门。\n",
      "8. 陈琳 - 曹操初期重要的文臣之一，曾写下讽刺文章批评曹操。\n",
      "9. 许褚 - 大将军，以勇猛著称，并因处理许攸事件受到曹操责备。\n",
      "10. 郭嘉 - 曹操的谋士，以其智慧和远见在战略上为曹操提供了很多帮助。\n",
      "\u001b[0m> Running step 7b1e5636-ba2e-4f00-8fcf-7ceb248116fc. Step input: None\n",
      "\u001b[1;3;38;5;200mThought: Now I have a list of important characters from \"三国演义\". Next, I will ask the tool for information about Water Margin to get similar character profiles.\n",
      "Action: 水浒传说书人\n",
      "Action Input: {'input': '请告诉我水浒传中有哪些主要人物？'}\n",
      "\u001b[0m\u001b[1;3;34mObservation: 在《水浒传》中出现的主要人物包括卢俊义、李逵、鲁智深、武松、刘唐、宋江、吴用、公孙胜、朱仝、雷横、秦明、林冲和呼延灼、徐宁等。石秀也在其中，他与杨雄一起商议是否加入梁山泊。这些人物在故事中扮演了重要角色。\n",
      "\u001b[0m> Running step a91330e3-c7d5-42e7-b639-c27c877d4187. Step input: None\n",
      "\u001b[1;3;38;5;200mThought: Now I have a list of important characters from \"水浒传\". With both character lists, I can start imagining a potential story that could occur if the two novels were connected. Let's combine some key characters to create an interesting narrative.\n",
      "Action: 三国说书人\n",
      "Action Input: {'input': '刘备和关羽是《三国演义》中非常重要的角色。如果他们能来到梁山泊，会发生什么样的故事？'}\n",
      "\u001b[0m\u001b[1;3;34mObservation: 刘备和关羽若来到梁山泊，可能会发生一系列精彩的故事。\n",
      "\n",
      "首先，他们一抵达梁山，宋江便热情款待，并向众人介绍这两位来自三国时代的英雄。得知他们的身份后，众好汉纷纷表示要结交这样的猛将。在座的好汉们纷纷献计献策，想为刘备和关羽提供帮助。\n",
      "\n",
      "接着，宋江提议共同攻打青州城以显示力量，并邀请刘备和关羽一同参与。在战场上，关羽凭借其卓越的武艺和丰富的战斗经验，迅速赢得了梁山好汉们的尊敬与信赖。而刘备则利用他的智慧和战略眼光，在军事上给予了梁山重要的支持。\n",
      "\n",
      "然而，正当队伍准备进攻时，朱仝突然提醒大家，现在青州城中还有许多官兵驻守，若贸然攻击恐有后患。于是，宋江决定采用智取的方式，首先派遣人手混入城内收集情报。不久之后，刘备凭借出色的交际能力与计谋，成功打入敌军内部并获取了关键信息。\n",
      "\n",
      "得知准确情报后，梁山好汉们制定了详细的作战计划，并在夜色的掩护下发起攻击。关羽冲锋在前，手持青龙偃月刀所向披靡；刘备则指挥着大军进行有力支援。最终，在两人的共同努力下，青州城被成功攻破。\n",
      "\n",
      "战事结束后，宋江为表彰两位英雄，特设盛宴庆贺。席间，众人纷纷称赞他们智勇双全。而刘备和关羽也借机向梁山好汉们传授了许多三国时期的战术与谋略，双方关系更加亲密。\n",
      "\n",
      "不过，在一次闲谈中，关羽无意间提起东吴孙权对他的迫害之事。听到这里，梁山好汉们纷纷表示愤慨，并主动提出要帮助关羽报仇。刘备则劝慰关二爷：“我们虽身处乱世，但也需遵守规矩，不可轻易动武。”\n",
      "\n",
      "最终，在大家的共同商议下决定暂时放弃复仇的想法，转而寻找其他机会以完成更大目标。这次经历不仅加深了梁山好汉们之间的感情，也让刘备和关羽更加深刻地感受到了兄弟情谊的重要性。\n",
      "\n",
      "故事到这里告一段落，但关于他们之间的友情与合作仍然留下了无数想象的空间。\n",
      "\u001b[0m> Running step 9ac42ef7-6753-41b5-8c41-7eb49889999e. Step input: None\n",
      "\u001b[1;3;38;5;200mThought: I can answer without using any more tools.\n",
      "Answer: 假设《三国演义》和《水浒传》能联通，刘备、关羽可能会来到梁山泊。当宋江得知他们的身份后便热情款待，众好汉也纷纷想结交这两位来自三国时代的英雄。\n",
      "\n",
      "宋江提议攻打青州城以展示力量，并邀请刘备和关羽一同参与。关羽凭借其卓越的武艺和丰富的战斗经验，在战场上迅速赢得了梁山好汉们的尊敬与信赖；而刘备则利用他的智慧和战略眼光，在军事上给予了梁山重要的支持。\n",
      "\n",
      "正当队伍准备进攻时，朱仝提醒大家青州城中有许多驻守官兵。于是，宋江决定采用智取的方式，并派遣人手混入敌军内部收集情报。在刘备的出色交际能力与计谋的帮助下，梁山好汉们制定了详细的作战计划并在夜色掩护下成功攻破了青州城。\n",
      "\n",
      "战事结束后，在众人庆祝胜利的宴会上，关羽提起东吴孙权对他的迫害之事。尽管梁山好汉们愤慨，并主动提出要帮助关羽报仇，但刘备劝诫大家不可轻易动武。\n",
      "\n",
      "最终在共同商议后，他们决定暂时放弃复仇的想法，转而寻找其他机会以完成更大的目标。这次经历不仅加深了梁山好汉们的感情，也让刘备和关羽更加深刻地感受到了兄弟情谊的重要性。\n",
      "\n",
      "这个故事充满了精彩的战斗场面、智谋以及深厚的情感交流，展示了这些英雄之间的友情与合作。\n",
      "\u001b[0m假设《三国演义》和《水浒传》能联通，刘备、关羽可能会来到梁山泊。当宋江得知他们的身份后便热情款待，众好汉也纷纷想结交这两位来自三国时代的英雄。\n",
      "\n",
      "宋江提议攻打青州城以展示力量，并邀请刘备和关羽一同参与。关羽凭借其卓越的武艺和丰富的战斗经验，在战场上迅速赢得了梁山好汉们的尊敬与信赖；而刘备则利用他的智慧和战略眼光，在军事上给予了梁山重要的支持。\n",
      "\n",
      "正当队伍准备进攻时，朱仝提醒大家青州城中有许多驻守官兵。于是，宋江决定采用智取的方式，并派遣人手混入敌军内部收集情报。在刘备的出色交际能力与计谋的帮助下，梁山好汉们制定了详细的作战计划并在夜色掩护下成功攻破了青州城。\n",
      "\n",
      "战事结束后，在众人庆祝胜利的宴会上，关羽提起东吴孙权对他的迫害之事。尽管梁山好汉们愤慨，并主动提出要帮助关羽报仇，但刘备劝诫大家不可轻易动武。\n",
      "\n",
      "最终在共同商议后，他们决定暂时放弃复仇的想法，转而寻找其他机会以完成更大的目标。这次经历不仅加深了梁山好汉们的感情，也让刘备和关羽更加深刻地感受到了兄弟情谊的重要性。\n",
      "\n",
      "这个故事充满了精彩的战斗场面、智谋以及深厚的情感交流，展示了这些英雄之间的友情与合作。\n"
     ]
    }
   ],
   "source": [
    "from llama_index.core.tools import QueryEngineTool\n",
    "\n",
    "rag_tool1 = QueryEngineTool.from_defaults(\n",
    "    query_engine1,\n",
    "    name=\"三国说书人\",\n",
    "    description=\"清楚三国演义的所有故事\",\n",
    ")\n",
    "\n",
    "rag_tool2 = QueryEngineTool.from_defaults(\n",
    "    query_engine2,\n",
    "    name=\"水浒传说书人\",\n",
    "    description=\"清楚水浒传的所有故事\",\n",
    ")\n",
    "\n",
    "# 设置更有创意的模型\n",
    "Settings.llm = Ollama(model=\"qwen2.5:latest\",temperature=0.9, request_timeout=360.0,base_url=base_url)\n",
    "\n",
    "\n",
    "# 构建代理 \n",
    "from llama_index.core.agent import ReActAgent\n",
    "agent = ReActAgent.from_tools([rag_tool1,rag_tool2],max_iterations=15, verbose=True)\n",
    "response = agent.chat(\"忽略时空关系，假设三国演义和水许传能联通，最有可能是哪些人会碰撞发生故事，帮我想出这个故事\")\n",
    "print(response)"
   ]
  },
  {
   "cell_type": "markdown",
   "id": "5699b053-2f16-483e-92cc-4a417f39d858",
   "metadata": {},
   "source": [
    "不仅以上工具，在[Llama Hub](https://llamahub.ai/?tab=tools)实现了众多工具，可以直接使用，比如以下使用互联网工具搜索网络内容"
   ]
  },
  {
   "cell_type": "code",
   "execution_count": 6,
   "id": "8b99c759-2eb3-41b5-a9e4-354f08c18784",
   "metadata": {
    "execution": {
     "iopub.execute_input": "2024-12-04T06:36:22.910132Z",
     "iopub.status.busy": "2024-12-04T06:36:22.909130Z",
     "iopub.status.idle": "2024-12-04T06:36:28.985837Z",
     "shell.execute_reply": "2024-12-04T06:36:28.984842Z",
     "shell.execute_reply.started": "2024-12-04T06:36:22.909130Z"
    }
   },
   "outputs": [
    {
     "name": "stdout",
     "output_type": "stream",
     "text": [
      "> Running step 7ac5e21f-4aee-4650-be6e-9d7e1dd66b98. Step input: 准备去新疆玩3天，预算5000\n",
      "\u001b[1;3;38;5;200mThought: 我需要查询一下新疆3天旅行的相关信息以及当地的天气情况来帮助用户制定计划。\n",
      "Action: get_weather\n",
      "Action Input: {'city_name': '乌鲁木齐'}\n",
      "\u001b[0m\u001b[1;3;34mObservation: {'status': '1', 'count': '2', 'info': 'OK', 'infocode': '10000', 'forecasts': [{'city': '乌鲁木齐市', 'adcode': '650100', 'province': '新疆', 'reporttime': '2024-12-26 12:01:04', 'casts': [{'date': '2024-12-26', 'week': '4', 'dayweather': '晴', 'nightweather': '晴', 'daytemp': '-12', 'nighttemp': '-18', 'daywind': '东南', 'nightwind': '东南', 'daypower': '1-3', 'nightpower': '1-3', 'daytemp_float': '-12.0', 'nighttemp_float': '-18.0'}, {'date': '2024-12-27', 'week': '5', 'dayweather': '多云', 'nightweather': '多云', 'daytemp': '-11', 'nighttemp': '-18', 'daywind': '西北', 'nightwind': '西北', 'daypower': '1-3', 'nightpower': '1-3', 'daytemp_float': '-11.0', 'nighttemp_float': '-18.0'}, {'date': '2024-12-28', 'week': '6', 'dayweather': '多云', 'nightweather': '多云', 'daytemp': '-4', 'nighttemp': '-17', 'daywind': '西北', 'nightwind': '西北', 'daypower': '1-3', 'nightpower': '1-3', 'daytemp_float': '-4.0', 'nighttemp_float': '-17.0'}, {'date': '2024-12-29', 'week': '7', 'dayweather': '晴', 'nightweather': '晴', 'daytemp': '-4', 'nighttemp': '-13', 'daywind': '东南', 'nightwind': '东南', 'daypower': '1-3', 'nightpower': '1-3', 'daytemp_float': '-4.0', 'nighttemp_float': '-13.0'}]}, {'city': '乌鲁木齐县', 'adcode': '650121', 'province': '新疆', 'reporttime': '2024-12-26 12:01:04', 'casts': [{'date': '2024-12-26', 'week': '4', 'dayweather': '晴', 'nightweather': '晴', 'daytemp': '-12', 'nighttemp': '-18', 'daywind': '东南', 'nightwind': '东南', 'daypower': '1-3', 'nightpower': '1-3', 'daytemp_float': '-12.0', 'nighttemp_float': '-18.0'}, {'date': '2024-12-27', 'week': '5', 'dayweather': '多云', 'nightweather': '多云', 'daytemp': '-11', 'nighttemp': '-18', 'daywind': '西北', 'nightwind': '西北', 'daypower': '1-3', 'nightpower': '1-3', 'daytemp_float': '-11.0', 'nighttemp_float': '-18.0'}, {'date': '2024-12-28', 'week': '6', 'dayweather': '多云', 'nightweather': '多云', 'daytemp': '-4', 'nighttemp': '-17', 'daywind': '西北', 'nightwind': '西北', 'daypower': '1-3', 'nightpower': '1-3', 'daytemp_float': '-4.0', 'nighttemp_float': '-17.0'}, {'date': '2024-12-29', 'week': '7', 'dayweather': '晴', 'nightweather': '晴', 'daytemp': '-4', 'nighttemp': '-13', 'daywind': '东南', 'nightwind': '东南', 'daypower': '1-3', 'nightpower': '1-3', 'daytemp_float': '-4.0', 'nighttemp_float': '-13.0'}]}]}\n",
      "\u001b[0m> Running step 1fcd7089-f898-4e5e-b942-a0a08f39dbb4. Step input: None\n",
      "\u001b[1;3;38;5;200mThought: 我已经获取到了乌鲁木齐未来几天的天气情况，接下来需要查询一些关于新疆旅游的信息来帮助用户规划行程。\n",
      "Action: search\n",
      "Action Input: {'query': '新疆 3天旅行攻略', 'max_results': 6}\n",
      "\u001b[0m\u001b[1;3;34mObservation: [Document(id_='af9e6262-4114-47e3-975d-28e1080a513c', embedding=None, metadata={'url': 'https://baijiahao.baidu.com/s?id=1801132465158866791'}, excluded_embed_metadata_keys=[], excluded_llm_metadata_keys=[], relationships={}, metadata_template='{key}: {value}', metadata_separator='\\n', text='如果你只有三天时间，不妨参考以下新疆3日游攻略，让你的旅程充实而难忘。 #古今之旅回盼千年# 第一天：乌鲁木齐市区游 抵达乌鲁木齐后，首先可以前往市中心的大巴扎，这里是一个集购物、观光和体验于一体的旅游胜地。', mimetype='text/plain', start_char_idx=None, end_char_idx=None, metadata_seperator='\\n', text_template='{metadata_str}\\n\\n{content}'), Document(id_='1ce25427-ca7b-4304-a738-e0a1e4e56455', embedding=None, metadata={'url': 'https://www.sohu.com/a/774884866_121872303'}, excluded_embed_metadata_keys=[], excluded_llm_metadata_keys=[], relationships={}, metadata_template='{key}: {value}', metadata_separator='\\n', text='去新疆3天的旅游攻略： 第一天：乌鲁木齐市区游. 一大早，我就迫不及待地来到了乌鲁木齐，这座城市既有现代都市的繁华，又保留了浓厚的维吾尔族文化。我首先去了红山公园，登上山顶，整个城市的美景尽收眼底。', mimetype='text/plain', start_char_idx=None, end_char_idx=None, metadata_seperator='\\n', text_template='{metadata_str}\\n\\n{content}'), Document(id_='109658a0-c414-45f1-9dc7-d0f9f7871194', embedding=None, metadata={'url': 'https://zhuanlan.zhihu.com/p/64191945'}, excluded_embed_metadata_keys=[], excluded_llm_metadata_keys=[], relationships={}, metadata_template='{key}: {value}', metadata_separator='\\n', text='有旅友问李导：如果我的小长假在新疆停留只有3天的时间，应该怎么来游览大美新疆才会不虚此行呢？ 李导来为你解锁新疆3天畅游攻略： 第一天：乌鲁木齐-天池-国际大巴扎（游览天山天池，国际大巴扎，晚住乌鲁木齐）…', mimetype='text/plain', start_char_idx=None, end_char_idx=None, metadata_seperator='\\n', text_template='{metadata_str}\\n\\n{content}'), Document(id_='0aea6ff1-1cf5-4cda-8df0-102a05c7f5c1', embedding=None, metadata={'url': 'https://www.sohu.com/a/776237916_121872303'}, excluded_embed_metadata_keys=[], excluded_llm_metadata_keys=[], relationships={}, metadata_template='{key}: {value}', metadata_separator='\\n', text='新疆乌鲁木齐三日游攻略，乌鲁木齐三日游自由行行程安排（含门票+路线+交通）实用! 第1天：新疆博物馆-红山公园-国际大巴扎. 上午：第1站 新疆博物馆. 乌鲁木齐之旅的第1站，从新疆自治区博物馆开始。新疆博物馆是国家一级博物馆，分为地下一层，地上二', mimetype='text/plain', start_char_idx=None, end_char_idx=None, metadata_seperator='\\n', text_template='{metadata_str}\\n\\n{content}'), Document(id_='17bf1c0c-7fb8-4c2a-81e6-1aaec0499207', embedding=None, metadata={'url': 'https://www.163.com/dy/article/J9F8KJEF05568NI7.html'}, excluded_embed_metadata_keys=[], excluded_llm_metadata_keys=[], relationships={}, metadata_template='{key}: {value}', metadata_separator='\\n', text='三天游带你玩转新疆路线行程攻略，乌鲁木齐小包团3日详细消费人均1500元 这份新疆游玩攻略希望能够帮助你规划一次完美的新疆之旅。 无论是壮丽的山脉、广袤的草原还是神秘的沙漠，新疆都将给你带来难以忘怀的美好回忆。', mimetype='text/plain', start_char_idx=None, end_char_idx=None, metadata_seperator='\\n', text_template='{metadata_str}\\n\\n{content}'), Document(id_='a4be9ba3-3fa2-4a7c-ba57-d48c45d4e3f7', embedding=None, metadata={'url': 'https://m.mafengwo.cn/gonglve/ziyouxing/407648.html'}, excluded_embed_metadata_keys=[], excluded_llm_metadata_keys=[], relationships={}, metadata_template='{key}: {value}', metadata_separator='\\n', text='三天精华线. 只留三天时间给伊犁？实在太短了!但通过往返双飞，或火车卧铺过夜，你仍可保证有整整三个白天的旅行时光，将伊犁的经典景观都选个代表、看看精华。 day1：伊宁-喀赞其-特克斯八卦城-琼库什台 day2：琼库什台-喀拉峻', mimetype='text/plain', start_char_idx=None, end_char_idx=None, metadata_seperator='\\n', text_template='{metadata_str}\\n\\n{content}')]\n",
      "\u001b[0m> Running step 5e67e809-6203-429a-a612-be30793233bb. Step input: None\n",
      "\u001b[1;3;38;5;200mThought: 我已经获取到了关于新疆3天旅游攻略的相关信息，接下来我会根据用户的预算和天气情况来设计一个具体的旅行计划。\n",
      "Answer: 基于您的需求，我为您规划了一份3天的新疆游玩行程。第一天建议您可以游览乌鲁木齐市区的景点如大巴扎、红山公园等。第二天可以前往天池景区，欣赏美景并体验维吾尔族文化。最后一天在乌鲁木齐市区内完成余下的旅游计划。\n",
      "\n",
      "考虑到天气预报显示气温较低，请您做好保暖措施，并尽量选择室内活动或者在中午和下午温暖一些的时候外出游玩。此外，您的预算为5000元，建议您可以购买当地的特色小吃、纪念品等，同时根据实际情况适当增加娱乐项目或额外的交通费用。希望这份规划对您的旅行有所帮助！\n",
      "\n",
      "祝旅途愉快！\n",
      "\u001b[0m基于您的需求，我为您规划了一份3天的新疆游玩行程。第一天建议您可以游览乌鲁木齐市区的景点如大巴扎、红山公园等。第二天可以前往天池景区，欣赏美景并体验维吾尔族文化。最后一天在乌鲁木齐市区内完成余下的旅游计划。\n",
      "\n",
      "考虑到天气预报显示气温较低，请您做好保暖措施，并尽量选择室内活动或者在中午和下午温暖一些的时候外出游玩。此外，您的预算为5000元，建议您可以购买当地的特色小吃、纪念品等，同时根据实际情况适当增加娱乐项目或额外的交通费用。希望这份规划对您的旅行有所帮助！\n",
      "\n",
      "祝旅途愉快！\n"
     ]
    }
   ],
   "source": [
    "from llama_index.core.agent import ReActAgent\n",
    "from llama_index.core.tools import FunctionTool\n",
    "\n",
    "import requests\n",
    "\n",
    "import os,sys\n",
    "sys.path.append(os.path.abspath('../'))\n",
    "from api_key import GAODE_WEATHER_API_KEY,TAVILY_API_KEY\n",
    "\n",
    "def get_weather(city_name:str)->dict:\n",
    "    '''根据输入的城市名，使用高德接口查询当地天气'''\n",
    "    # 构建请求URL\n",
    "    url = f'https://restapi.amap.com/v3/weather/weatherInfo?key={GAODE_WEATHER_API_KEY}&city={city_name}&extensions=all'\n",
    "    \n",
    "    try:\n",
    "        # 发送GET请求\n",
    "        response = requests.get(url)\n",
    "        # 检查请求是否成功\n",
    "        if response.status_code == 200:\n",
    "            # 解析响应内容\n",
    "            data = response.json()\n",
    "            # 检查API响应状态\n",
    "            if data.get('status') == '1' and data.get('infocode') == '10000':\n",
    "                return data  # 返回天气数据\n",
    "            else:\n",
    "                return {}  # 返回空结果，因为API返回了错误信息\n",
    "        else:\n",
    "            return {}  # 返回空结果，因为HTTP状态码不是200\n",
    "    except Exception as e:\n",
    "        print(f\"An error occurred: {e}\")\n",
    "        return {}  # 返回空结果，因为请求过程中发生了异常\n",
    "\n",
    "get_weather_tool = FunctionTool.from_defaults(fn=get_weather)\n",
    "\n",
    "from llama_index.tools.tavily_research import TavilyToolSpec \n",
    "tavily_research_tool=TavilyToolSpec(api_key=TAVILY_API_KEY)\n",
    "\n",
    "# 工具集合 \n",
    "tools=tavily_research_tool.to_tool_list()\n",
    "tools.append(get_weather_tool)\n",
    "\n",
    "# 创建代理 \n",
    "from llama_index.core.llms import ChatMessage,MessageRole\n",
    "# 历史记录 \n",
    "chat_history=[ChatMessage(\n",
    "    role=MessageRole.SYSTEM,\n",
    "    content='你是一名旅游助手，名字叫小旅，擅长为游客设计旅游计划，\\\n",
    "    首先你解析出用户的旅游目的地、天数、预算，\\\n",
    "    然后结合目的地的天气和旅游攻略，输出一份完整旅游规划')]\n",
    "\n",
    "agent = ReActAgent.from_tools(tools=tools,chat_history=chat_history, verbose=True)\n",
    "response = agent.chat(\"准备去新疆玩3天，预算5000\")\n",
    "print(response)"
   ]
  },
  {
   "cell_type": "markdown",
   "id": "c3f6df9c-d6b7-4d5c-8c25-22a64f90f8e2",
   "metadata": {},
   "source": [
    "agent根据已知工具，自行调用，并且完成结果分析，就像有一个大脑在指挥做这些事情一样，实际上没有这个大脑，而是提示词prompt的功劳，我们来看看agent内部的提示词如何写的"
   ]
  },
  {
   "cell_type": "code",
   "execution_count": 7,
   "id": "d5b1869a-ec8a-46a6-930b-b50e5d0e0296",
   "metadata": {
    "execution": {
     "iopub.execute_input": "2024-12-04T06:39:07.717844Z",
     "iopub.status.busy": "2024-12-04T06:39:07.716843Z",
     "iopub.status.idle": "2024-12-04T06:39:07.731845Z",
     "shell.execute_reply": "2024-12-04T06:39:07.729844Z",
     "shell.execute_reply.started": "2024-12-04T06:39:07.717844Z"
    }
   },
   "outputs": [
    {
     "name": "stdout",
     "output_type": "stream",
     "text": [
      "Prompt: agent_worker:system_prompt\n",
      "\n",
      "Value: You are designed to help with a variety of tasks, from answering questions to providing summaries to other types of analyses.\n",
      "\n",
      "## Tools\n",
      "\n",
      "You have access to a wide variety of tools. You are responsible for using the tools in any sequence you deem appropriate to complete the task at hand.\n",
      "This may require breaking the task into subtasks and using different tools to complete each subtask.\n",
      "\n",
      "You have access to the following tools:\n",
      "{tool_desc}\n",
      "\n",
      "\n",
      "## Output Format\n",
      "\n",
      "Please answer in the same language as the question and use the following format:\n",
      "\n",
      "```\n",
      "Thought: The current language of the user is: (user's language). I need to use a tool to help me answer the question.\n",
      "Action: tool name (one of {tool_names}) if using a tool.\n",
      "Action Input: the input to the tool, in a JSON format representing the kwargs (e.g. {{\"input\": \"hello world\", \"num_beams\": 5}})\n",
      "```\n",
      "\n",
      "Please ALWAYS start with a Thought.\n",
      "\n",
      "NEVER surround your response with markdown code markers. You may use code markers within your response if you need to.\n",
      "\n",
      "Please use a valid JSON format for the Action Input. Do NOT do this {{'input': 'hello world', 'num_beams': 5}}.\n",
      "\n",
      "If this format is used, the user will respond in the following format:\n",
      "\n",
      "```\n",
      "Observation: tool response\n",
      "```\n",
      "\n",
      "You should keep repeating the above format till you have enough information to answer the question without using any more tools. At that point, you MUST respond in one of the following two formats:\n",
      "\n",
      "```\n",
      "Thought: I can answer without using any more tools. I'll use the user's language to answer\n",
      "Answer: [your answer here (In the same language as the user's question)]\n",
      "```\n",
      "\n",
      "```\n",
      "Thought: I cannot answer the question with the provided tools.\n",
      "Answer: [your answer here (In the same language as the user's question)]\n",
      "```\n",
      "\n",
      "## Current Conversation\n",
      "\n",
      "Below is the current conversation consisting of interleaving human and assistant messages.\n",
      "\n"
     ]
    }
   ],
   "source": [
    "prompt_dict = agent.get_prompts()\n",
    "for k, v in prompt_dict.items():\n",
    "    print(f\"Prompt: {k}\\n\\nValue: {v.template}\")"
   ]
  },
  {
   "cell_type": "markdown",
   "id": "0ca69cad-9062-42c7-ac26-214fbc0f56c2",
   "metadata": {},
   "source": [
    "提示词明确写了：\n",
    "- 1.分析问题，根据工具将问题拆分为多个步骤去解决\n",
    "- 2.使用工具，获取使用工具结果\n",
    "- 3.深入思考，根据目前的结果，能否解决问题\n",
    "- 4.如果能解决，直接回答问题，如果不能，重复1-3，直到问题解决\n",
    "\n",
    "通过类似的提示词，让 llms 似乎有了思考问题，规划解决思路的能力"
   ]
  }
 ],
 "metadata": {
  "kernelspec": {
   "display_name": "langchian",
   "language": "python",
   "name": "python3"
  },
  "language_info": {
   "codemirror_mode": {
    "name": "ipython",
    "version": 3
   },
   "file_extension": ".py",
   "mimetype": "text/x-python",
   "name": "python",
   "nbconvert_exporter": "python",
   "pygments_lexer": "ipython3",
   "version": "3.10.14"
  }
 },
 "nbformat": 4,
 "nbformat_minor": 5
}
