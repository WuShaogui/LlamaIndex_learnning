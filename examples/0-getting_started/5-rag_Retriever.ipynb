{
 "cells": [
  {
   "cell_type": "markdown",
   "id": "a943dc09-be38-4180-a0c1-541e74f60df8",
   "metadata": {},
   "source": [
    "完成外挂知识库的构建后，下一步是结合问题检索出相关上下文，并整合到提示，让llm生成回复，所以检索生成包括以下步骤：\n",
    "\n",
    "![alt text](../../doc/image.png)\n",
    "\n",
    "- **检索**：在向量数据库中检索出和问题相关的上下文，如Top策略，Score策略\n",
    "- **后处理**：将检索出来的chunk进行后出来，包括重排名、转换或过滤\n",
    "- **整合提示生成**：将最终确认的上下文和提示合并，发给llm生成回复"
   ]
  },
  {
   "cell_type": "code",
   "execution_count": 1,
   "id": "0d5a3bea-34ef-48a6-ab48-fa8e5bd3ba94",
   "metadata": {
    "execution": {
     "iopub.execute_input": "2024-12-04T03:01:25.368329Z",
     "iopub.status.busy": "2024-12-04T03:01:25.367313Z",
     "iopub.status.idle": "2024-12-04T03:01:43.245940Z",
     "shell.execute_reply": "2024-12-04T03:01:43.244939Z",
     "shell.execute_reply.started": "2024-12-04T03:01:25.368329Z"
    }
   },
   "outputs": [],
   "source": [
    "# 加载外挂知识库（向量数据库）\n",
    "# 设置embedding model \n",
    "from llama_index.embeddings.ollama import OllamaEmbedding\n",
    "from llama_index.core import Settings\n",
    "Settings.embed_model = OllamaEmbedding(model_name=\"quentinz/bge-large-zh-v1.5:latest\",base_url='http://192.168.3.155:11434')\n",
    "\n",
    "# 前面已经持久化的向量数据库\n",
    "import chromadb\n",
    "from llama_index.core import VectorStoreIndex\n",
    "# 需要先pip install llama-index-vector-stores-chroma \n",
    "from llama_index.vector_stores.chroma import ChromaVectorStore\n",
    "from llama_index.core import StorageContext\n",
    "\n",
    "# initialize client, setting path to save data\n",
    "db = chromadb.PersistentClient(path=\"./chroma_db\")\n",
    "# create collection\n",
    "chroma_collection = db.get_or_create_collection(\"quickstart\")\n",
    "# assign chroma as the vector_store to the context\n",
    "vector_store = ChromaVectorStore(chroma_collection=chroma_collection)\n",
    "storage_context = StorageContext.from_defaults(vector_store=vector_store)\n",
    "\n",
    "index=VectorStoreIndex.from_vector_store(\n",
    "    vector_store=vector_store,\n",
    "    storage_context=storage_context)"
   ]
  },
  {
   "cell_type": "markdown",
   "id": "706e0105-b5da-4d7a-9b98-1f149bf4df5e",
   "metadata": {},
   "source": [
    "如果已经构建知识的索引，可以使用以下接口快速生成检索引擎，一行代码完成以上的三个步骤"
   ]
  },
  {
   "cell_type": "code",
   "execution_count": 2,
   "id": "155a6d71-e40a-4baa-91f0-e3d034e1296f",
   "metadata": {
    "execution": {
     "iopub.execute_input": "2024-12-04T03:01:48.778526Z",
     "iopub.status.busy": "2024-12-04T03:01:48.777525Z",
     "iopub.status.idle": "2024-12-04T03:01:54.734854Z",
     "shell.execute_reply": "2024-12-04T03:01:54.732850Z",
     "shell.execute_reply.started": "2024-12-04T03:01:48.778526Z"
    }
   },
   "outputs": [
    {
     "name": "stdout",
     "output_type": "stream",
     "text": [
      "关羽请战斩华雄的过程是这样的：在诸侯大会讨伐董卓时，华雄在盟军阵前挑战无人能敌。关羽主动请缨，要求出战华雄。尽管袁术看不起关羽，但曹操看中关羽的勇武，推荐他出战并递给他一杯热酒。关羽豪气十足地接过酒杯说会先斩了华雄再回来喝酒。于是上马飞奔出寨，一招便将华雄斩落马下，提着华雄的头颅回到军帐前，杯中的酒依旧烫手。\n"
     ]
    }
   ],
   "source": [
    "# 设置llm\n",
    "from llama_index.llms.ollama import Ollama\n",
    "Settings.llm = Ollama(model=\"qwen2.5:latest\", request_timeout=360.0,base_url='http://192.168.3.155:11434')\n",
    "\n",
    "query_engine = index.as_query_engine()\n",
    "response = query_engine.query(\n",
    "    \"关羽如何战胜华雄的？\"\n",
    ")\n",
    "print(response)"
   ]
  },
  {
   "cell_type": "markdown",
   "id": "bf900433-c274-4793-9166-83a713fe769a",
   "metadata": {},
   "source": [
    "相比较使用高级接口，LlamaIndex还提供低级接口，以实现更加精细的控制"
   ]
  },
  {
   "cell_type": "code",
   "execution_count": 5,
   "id": "6c7894c9-3c47-41f7-8da4-804de7d4ff48",
   "metadata": {
    "execution": {
     "iopub.execute_input": "2024-12-04T03:03:47.188085Z",
     "iopub.status.busy": "2024-12-04T03:03:47.186081Z",
     "iopub.status.idle": "2024-12-04T03:03:53.223174Z",
     "shell.execute_reply": "2024-12-04T03:03:53.221760Z",
     "shell.execute_reply.started": "2024-12-04T03:03:47.188085Z"
    }
   },
   "outputs": [
    {
     "name": "stdout",
     "output_type": "stream",
     "text": [
      "赤壁大战中，孙刘联军能够取得胜利的关键在于他们利用了曹操军队的战略失误和战术上的劣势。首先，诸葛亮为周瑜提供了火攻的策略，并准备了大量的火船和易燃物。其次，周瑜设下苦肉计，让黄盖诈降成功接近曹军舰队。\n",
      "\n",
      "在具体战斗中，赵云、黄忠等将领勇猛冲锋，多次挫败曹操军队的进攻。如赵云单枪匹马立于寨外诱敌深入，最终大破曹军；黄忠与副将张著领兵烧毁了曹军粮草，削弱了敌方实力。\n",
      "\n",
      "此外，联军还利用了天时地利。当时的天气条件非常适合实施火攻，风向对孙刘联军非常有利，而曹操的军队则处于不利位置。这些因素共同作用下，导致曹操的大批战船被焚毁，大量的士兵落水溺亡或被烧死，从而取得了赤壁之战的重大胜利。\n"
     ]
    }
   ],
   "source": [
    "from llama_index.core import VectorStoreIndex, get_response_synthesizer\n",
    "from llama_index.core.retrievers import VectorIndexRetriever\n",
    "from llama_index.core.query_engine import RetrieverQueryEngine\n",
    "from llama_index.core.postprocessor import KeywordNodePostprocessor  \n",
    "\n",
    "# 配置增强检索 \n",
    "retriever = VectorIndexRetriever(\n",
    "    index=index,\n",
    "    similarity_top_k=10,\n",
    ")\n",
    "\n",
    "# 配置上下文与prompt的合成方式 \n",
    "response_synthesizer = get_response_synthesizer()\n",
    "\n",
    "# 组合生成引擎 \n",
    "query_engine = RetrieverQueryEngine(\n",
    "    retriever=retriever,\n",
    "    response_synthesizer=response_synthesizer,\n",
    "    node_postprocessors=[\n",
    "        KeywordNodePostprocessor(\n",
    "        required_keywords=['诸葛亮','周瑜','赵云'],\n",
    "        lang='zh')]\n",
    ")\n",
    "\n",
    "# 查询\n",
    "response = query_engine.query(\"赤壁大战如何获得胜利的？\")\n",
    "print(response)"
   ]
  }
 ],
 "metadata": {
  "kernelspec": {
   "display_name": "Python 3 (ipykernel)",
   "language": "python",
   "name": "python3"
  },
  "language_info": {
   "codemirror_mode": {
    "name": "ipython",
    "version": 3
   },
   "file_extension": ".py",
   "mimetype": "text/x-python",
   "name": "python",
   "nbconvert_exporter": "python",
   "pygments_lexer": "ipython3",
   "version": "3.10.14"
  }
 },
 "nbformat": 4,
 "nbformat_minor": 5
}
