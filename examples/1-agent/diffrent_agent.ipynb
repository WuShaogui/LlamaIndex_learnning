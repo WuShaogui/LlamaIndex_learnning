{
 "cells": [
  {
   "cell_type": "markdown",
   "metadata": {},
   "source": [
    "总结：\n",
    "\n",
    "| 特性                     | FunctionCallingAgent                      | ReActAgent                            | StructuredPlannerAgent             |\n",
    "|--------------------------|-------------------------------------------|---------------------------------------|------------------------------------|\n",
    "| **设计目的**             | 直接调用函数来完成任务。无需复杂的规划和推理过程。| 使用结构化思考（ReAct循环）来分解复杂问题并逐步解决它。     | 先进行整体规划，然后再执行具体步骤。 |\n",
    "| **LLM交互方式**          | 通过工具直接与LLM交互，不解析中间的思维步骤。| 向LLM提供明确的提示格式和结构化输出格式（如Thought、Action等）。| 先创建计划，然后逐步执行任务，调整计划。|\n",
    "| **使用prompt的方式**     | 默认无自定义prompt，由工具驱动。         | 明确定义了思考和行动规则的prompt。   | 创建和优化整体任务规划的特定提示。  |\n",
    "| **思维过程**             | 简单直接，每个步骤即为一个明确的任务执行。| 结构化、分步地处理问题（分解、推理）。      | 先全局计划，后逐步执行并调整。       |\n",
    "| **灵活性和复杂性管理**   | 较低的灵活性和复杂的任务解决能力。         | 高度灵活且适合解决复杂任务。           | 适用于需要先期规划的任务解决方式。    |\n",
    "| **适用场景**             | 简单直接的问题解决或函数执行。            | 处理涉及多步骤、推理和问题分解的复杂查询。       | 先进行详细规划，然后逐步实施计划。   |\n",
    "\n",
    "这个表格总结了三种不同类型的Agent在设计目的上的主要区别，以及它们与LLM交互的方式、使用的提示方式、思维过程、灵活性和复杂性管理能力方面的差异。\n",
    "\n",
    "- **FunctionCallingAgent** 适用于简单的任务执行，其优点在于直接和高效。\n",
    "- **ReActAgent** 则更适合于需要结构化思考和多步骤推理的场景，能够有效地处理复杂的查询或问题分解任务。\n",
    "- **StructuredPlannerAgent** 更适合那些在开始时就需要详细规划的任务，并且可以动态调整计划以适应变化的需求。\n",
    "\n",
    "每种类型的Agent都有其适用的特定情境，选择合适的类型有助于更高效地解决问题。\n",
    "\n",
    "---"
   ]
  },
  {
   "cell_type": "markdown",
   "metadata": {},
   "source": [
    "在使用llamaIndex时，有3种不同类型的Agent，这3种Agent的原理及区别\n",
    "\n",
    "\n"
   ]
  },
  {
   "cell_type": "code",
   "execution_count": 1,
   "metadata": {},
   "outputs": [
    {
     "name": "stdout",
     "output_type": "stream",
     "text": [
      "['FunctionCallingAgent', 'ReActAgent', 'StructuredPlannerAgent']\n"
     ]
    }
   ],
   "source": [
    "import nest_asyncio\n",
    "nest_asyncio.apply()\n",
    "\n",
    "from llama_index.core import agent\n",
    "indexs=list(filter(lambda att:att.endswith('Agent')>0,dir(agent)))\n",
    "print(indexs)"
   ]
  },
  {
   "cell_type": "markdown",
   "metadata": {},
   "source": [
    "通过查看源代码，他们之间的关系如下：\n",
    "\n",
    "```mermaid\n",
    "classDiagram\n",
    "\tclass BaseAgent\n",
    "\tclass BaseAgentRunner\n",
    "\tBaseAgent <|-- BaseAgentRunner\n",
    "\t\n",
    "\tclass AgentRunner\n",
    "\tclass BaseAgentWorker\n",
    "\tclass ReActAgent\n",
    "\tclass ReActAgentWorker\n",
    "\t\n",
    "\tBaseAgentRunner<|-- AgentRunner\n",
    "\tAgentRunner<|-- ReActAgent\n",
    "\tReActAgent<-- ReActAgentWorker\n",
    "\tBaseAgentWorker <|-- ReActAgentWorker\n",
    "\t\n",
    "\tclass StructuredPlannerAgent\n",
    "\tclass BasePlanningAgentRunner\n",
    "\tBasePlanningAgentRunner <|-- StructuredPlannerAgent\n",
    "\tStructuredPlannerAgent<-- BaseAgentWorker\n",
    "\tAgentRunner<|-- BasePlanningAgentRunner\n",
    "\t\n",
    "\tclass FunctionCallingAgent\n",
    "\tAgentRunner <|-- FunctionCallingAgent\n",
    "\tclass FunctionCallingAgentWorker\n",
    "\tFunctionCallingAgent <-- FunctionCallingAgentWorker\n",
    "\tBaseAgentWorker <| -- FunctionCallingAgentWorker\n",
    "\t\n",
    "```\n",
    "\n",
    "这里有3大类的类`Worker、Runner、Agent`，其中Agent继承Runner，Agent使用Worker作为执行步骤\n",
    "\n"
   ]
  },
  {
   "cell_type": "code",
   "execution_count": 2,
   "metadata": {},
   "outputs": [],
   "source": [
    "from llama_index.core import Settings\n",
    "from llama_index.llms.ollama import Ollama\n",
    "from llama_index.embeddings.ollama import OllamaEmbedding\n",
    "\n",
    "base_url='http://localhost:11434'\n",
    "llm = Ollama(model=\"qwen2.5:latest\", request_timeout=360.0,base_url=base_url)\n",
    "Settings.llm = llm\n",
    "Settings.embed_model = OllamaEmbedding(model_name=\"quentinz/bge-large-zh-v1.5:latest\",base_url=base_url)"
   ]
  },
  {
   "cell_type": "code",
   "execution_count": 3,
   "metadata": {},
   "outputs": [],
   "source": [
    "from llama_index.core.tools import FunctionTool\n",
    "\n",
    "def multiply(a: float, b: float) -> float:\n",
    "    \"\"\"Multiply two numbers and returns the product\"\"\"\n",
    "    return a * b\n",
    "multiply_tool = FunctionTool.from_defaults(fn=multiply)\n",
    "\n",
    "def add(a: float, b: float) -> float:\n",
    "    \"\"\"Add two numbers and returns the sum\"\"\"\n",
    "    return a + b\n",
    "add_tool = FunctionTool.from_defaults(fn=add)"
   ]
  },
  {
   "cell_type": "markdown",
   "metadata": {},
   "source": [
    "## FunctionCallingAgent与ReActAgent"
   ]
  },
  {
   "cell_type": "code",
   "execution_count": 4,
   "metadata": {},
   "outputs": [
    {
     "name": "stdout",
     "output_type": "stream",
     "text": [
      "> Running step f1466f93-b140-4f58-b800-b7221e1fe5cd. Step input: 计算结果，1000+157*2？\n",
      "Added user message to memory: 计算结果，1000+157*2？\n",
      "=== Calling Function ===\n",
      "Calling function: multiply with args: {\"a\": 157, \"b\": 2}\n",
      "=== Function Output ===\n",
      "314\n",
      "> Running step 4a7cdcf8-97b5-4e1b-9387-62734c68de34. Step input: None\n",
      "=== Calling Function ===\n",
      "Calling function: add with args: {\"a\": 1000, \"b\": 314}\n",
      "=== Function Output ===\n",
      "1314\n",
      "> Running step 600c57bf-c783-49fc-be90-f402cd35e78a. Step input: None\n",
      "=== LLM Response ===\n",
      "计算结果是 \\( 1000 + 157 \\times 2 = 1314 \\)。\n",
      "计算结果是 \\( 1000 + 157 \\times 2 = 1314 \\)。\n"
     ]
    }
   ],
   "source": [
    "from llama_index.core.agent import FunctionCallingAgent\n",
    "\n",
    "function_calling_agent=FunctionCallingAgent.from_tools(tools=[multiply_tool, add_tool],verbose=True)\n",
    "response = function_calling_agent.chat(\"计算结果，1000+157*2？\")\n",
    "print(response)"
   ]
  },
  {
   "cell_type": "code",
   "execution_count": 5,
   "metadata": {},
   "outputs": [
    {
     "name": "stdout",
     "output_type": "stream",
     "text": [
      "> Running step 13973598-2e38-4cc3-ba70-0897d09bb55c. Step input: 计算结果，1000+157*2？\n",
      "\u001b[1;3;38;5;200mThought: The current language of the user is: Chinese. I need to use a tool to help me answer the question.\n",
      "Action: multiply\n",
      "Action Input: {'a': 157, 'b': 2}\n",
      "\u001b[0m\u001b[1;3;34mObservation: 314\n",
      "\u001b[0m> Running step eb577013-9af9-4864-8516-ca97b24d288f. Step input: None\n",
      "\u001b[1;3;38;5;200mThought: I can now perform the addition using the result from the multiplication.\n",
      "Action: add\n",
      "Action Input: {'a': 1000, 'b': 314}\n",
      "\u001b[0m\u001b[1;3;34mObservation: 1314\n",
      "\u001b[0m> Running step e75c52b9-109a-4fdc-b555-6159e9c3fb5c. Step input: None\n",
      "\u001b[1;3;38;5;200mThought: I can answer without using any more tools. I'll use the user's language to answer\n",
      "Answer: 计算结果是1314。\n",
      "\u001b[0m计算结果是1314。\n"
     ]
    }
   ],
   "source": [
    "from llama_index.core.agent import ReActAgent\n",
    "# 创建代理 \n",
    "reAct_agent = ReActAgent.from_tools([multiply_tool, add_tool], verbose=True)\n",
    "response = reAct_agent.chat(\"计算结果，1000+157*2？\")\n",
    "print(response)"
   ]
  },
  {
   "cell_type": "markdown",
   "metadata": {},
   "source": [
    "```python\n",
    "task = self.create_task(message)\n",
    "\n",
    "result_output = None\n",
    "dispatcher.event(AgentChatWithStepStartEvent(user_msg=message))\n",
    "while True:\n",
    "    # pass step queue in as argument, assume step executor is stateless\n",
    "    cur_step_output = self._run_step(\n",
    "        task.task_id, mode=mode, tool_choice=tool_choice\n",
    "    )\n",
    "\n",
    "    if cur_step_output.is_last:\n",
    "        result_output = cur_step_output\n",
    "        break\n",
    "\n",
    "    # ensure tool_choice does not cause endless loops\n",
    "    tool_choice = \"auto\"\n",
    "```\n",
    "\n",
    "1. FunctionCallingAgent 与 ReActAgent 的chat均是使用以上代码，看得出来是一个一直输出的过程，除非输出出现结束标志(cur_step_output.is_last=True)\n",
    "2. _run_step步骤开始出现不同：\n",
    "    - 两者都是分为3个步骤：(1)执行一次llm推理；(2)解析llm输出；(3) 生成下一步的Task\n",
    "    - 在执行llm推理时，FunctionCallingAgent直接调用接口chat_with_tools，而ReActAgent是chat，也就是FunctionCallingAgent提供tool给llm，而ReActAgent只是通过prompt提供\n",
    "    - 解析llm输出时，通过查看ReActAgent的prompt，可以看出其要求结构化输出，解析是提取输出“Thought、Action、Action Input、Observation”的不同输出\n",
    "    - 根据解析的输出，规划下一步输出\n",
    "\n",
    "![alt text](../../doc/functionCallingVSReActAgent.png)\n"
   ]
  },
  {
   "cell_type": "code",
   "execution_count": 6,
   "metadata": {},
   "outputs": [
    {
     "name": "stdout",
     "output_type": "stream",
     "text": [
      "{}\n",
      "{'agent_worker:system_prompt': PromptTemplate(metadata={'prompt_type': <PromptType.CUSTOM: 'custom'>}, template_vars=['tool_desc', 'tool_names', '\"input\": \"hello world\", \"num_beams\": 5', \"'input': 'hello world', 'num_beams': 5\"], kwargs={}, output_parser=None, template_var_mappings=None, function_mappings=None, template='You are designed to help with a variety of tasks, from answering questions to providing summaries to other types of analyses.\\n\\n## Tools\\n\\nYou have access to a wide variety of tools. You are responsible for using the tools in any sequence you deem appropriate to complete the task at hand.\\nThis may require breaking the task into subtasks and using different tools to complete each subtask.\\n\\nYou have access to the following tools:\\n{tool_desc}\\n\\n\\n## Output Format\\n\\nPlease answer in the same language as the question and use the following format:\\n\\n```\\nThought: The current language of the user is: (user\\'s language). I need to use a tool to help me answer the question.\\nAction: tool name (one of {tool_names}) if using a tool.\\nAction Input: the input to the tool, in a JSON format representing the kwargs (e.g. {{\"input\": \"hello world\", \"num_beams\": 5}})\\n```\\n\\nPlease ALWAYS start with a Thought.\\n\\nNEVER surround your response with markdown code markers. You may use code markers within your response if you need to.\\n\\nPlease use a valid JSON format for the Action Input. Do NOT do this {{\\'input\\': \\'hello world\\', \\'num_beams\\': 5}}.\\n\\nIf this format is used, the user will respond in the following format:\\n\\n```\\nObservation: tool response\\n```\\n\\nYou should keep repeating the above format till you have enough information to answer the question without using any more tools. At that point, you MUST respond in one of the following two formats:\\n\\n```\\nThought: I can answer without using any more tools. I\\'ll use the user\\'s language to answer\\nAnswer: [your answer here (In the same language as the user\\'s question)]\\n```\\n\\n```\\nThought: I cannot answer the question with the provided tools.\\nAnswer: [your answer here (In the same language as the user\\'s question)]\\n```\\n\\n## Current Conversation\\n\\nBelow is the current conversation consisting of interleaving human and assistant messages.\\n')}\n"
     ]
    }
   ],
   "source": [
    "print(function_calling_agent.get_prompts())\n",
    "print(reAct_agent.get_prompts())"
   ]
  },
  {
   "cell_type": "markdown",
   "metadata": {},
   "source": [
    "FunctionCallingAgent没有自定义prompt，而是直接提供tool供llm内部选择，ReActAgent规范了llm的思考规则，通过选择工具回答问题，并规则输出格式，让我仔细看看prompt的内容"
   ]
  },
  {
   "cell_type": "code",
   "execution_count": 7,
   "metadata": {},
   "outputs": [
    {
     "name": "stdout",
     "output_type": "stream",
     "text": [
      "You are designed to help with a variety of tasks, from answering questions to providing summaries to other types of analyses.\n",
      "\n",
      "## Tools\n",
      "\n",
      "You have access to a wide variety of tools. You are responsible for using the tools in any sequence you deem appropriate to complete the task at hand.\n",
      "This may require breaking the task into subtasks and using different tools to complete each subtask.\n",
      "\n",
      "You have access to the following tools:\n",
      "{tool_desc}\n",
      "\n",
      "\n",
      "## Output Format\n",
      "\n",
      "Please answer in the same language as the question and use the following format:\n",
      "\n",
      "```\n",
      "Thought: The current language of the user is: (user's language). I need to use a tool to help me answer the question.\n",
      "Action: tool name (one of {tool_names}) if using a tool.\n",
      "Action Input: the input to the tool, in a JSON format representing the kwargs (e.g. {{\"input\": \"hello world\", \"num_beams\": 5}})\n",
      "```\n",
      "\n",
      "Please ALWAYS start with a Thought.\n",
      "\n",
      "NEVER surround your response with markdown code markers. You may use code markers within your response if you need to.\n",
      "\n",
      "Please use a valid JSON format for the Action Input. Do NOT do this {{'input': 'hello world', 'num_beams': 5}}.\n",
      "\n",
      "If this format is used, the user will respond in the following format:\n",
      "\n",
      "```\n",
      "Observation: tool response\n",
      "```\n",
      "\n",
      "You should keep repeating the above format till you have enough information to answer the question without using any more tools. At that point, you MUST respond in one of the following two formats:\n",
      "\n",
      "```\n",
      "Thought: I can answer without using any more tools. I'll use the user's language to answer\n",
      "Answer: [your answer here (In the same language as the user's question)]\n",
      "```\n",
      "\n",
      "```\n",
      "Thought: I cannot answer the question with the provided tools.\n",
      "Answer: [your answer here (In the same language as the user's question)]\n",
      "```\n",
      "\n",
      "## Current Conversation\n",
      "\n",
      "Below is the current conversation consisting of interleaving human and assistant messages.\n",
      "\n"
     ]
    }
   ],
   "source": [
    "system_prompt=reAct_agent.get_prompts()['agent_worker:system_prompt']\n",
    "print(system_prompt.template)"
   ]
  },
  {
   "cell_type": "markdown",
   "metadata": {},
   "source": [
    "ReActAgent的prompt包含2部分：\n",
    "\n",
    "Tools：明确能使用的工具\n",
    "\n",
    "Output Format：明确输出的格式，包含2个分支\n",
    "\n",
    "1. 如果是中间步骤，按照以下格式输出：\n",
    "```\n",
    "Thought: The current language of the user is: (user's language). I need to use a tool to help me answer the question.\n",
    "Action: tool name (one of {tool_names}) if using a tool.\n",
    "Action Input: the input to the tool, in a JSON format representing the kwargs (e.g. {{\"input\": \"hello world\", \"num_beams\": 5}})\n",
    "```\n",
    "2. 如果是最终结果，按照以下格式之一输出\n",
    "```\n",
    "Thought: I can answer without using any more tools. I'll use the user's language to answer\n",
    "Answer: [your answer here (In the same language as the user's question)]\n",
    "```\n",
    "\n",
    "```\n",
    "Thought: I cannot answer the question with the provided tools.\n",
    "Answer: [your answer here (In the same language as the user's question)]\n",
    "```\n",
    "\n",
    "可见ReActAgent是一个规范思维方式的，自定义程度比FunctionCallingAgent高的Agent"
   ]
  },
  {
   "cell_type": "markdown",
   "metadata": {},
   "source": [
    "## StructuredPlannerAgent"
   ]
  },
  {
   "cell_type": "code",
   "execution_count": 12,
   "metadata": {},
   "outputs": [
    {
     "name": "stdout",
     "output_type": "stream",
     "text": [
      "=== Initial plan ===\n",
      "计算乘法部分:\n",
      "157 * 2 -> 314.0\n",
      "deps: []\n",
      "\n",
      "\n",
      "计算加法部分:\n",
      "1000 + 314.0 -> 1314.0\n",
      "deps: ['计算乘法部分']\n",
      "\n",
      "\n",
      "> Running step 3cd2cc1c-0f45-4fb1-aad7-d28b4c821f2c. Step input: 157 * 2\n",
      "Added user message to memory: 157 * 2\n",
      "=== Calling Function ===\n",
      "Calling function: multiply with args: {\"a\": 157, \"b\": 2}\n",
      "=== Function Output ===\n",
      "314\n",
      "> Running step 95f3f0a6-8ba7-4dbc-9e86-f33118f69ad5. Step input: None\n",
      "=== LLM Response ===\n",
      "The product of 157 and 2 is 314.\n",
      "=== Refined plan ===\n",
      "计算加法部分:\n",
      "1000 + 314.0 -> 1314.0\n",
      "deps: ['计算乘法部分']\n",
      "\n",
      "\n",
      "完成任务:\n",
      " -> 1314.0\n",
      "deps: ['计算加法部分']\n",
      "\n",
      "\n",
      "> Running step abad3f05-a750-4f62-85bd-28db75fc4fb6. Step input: 1000 + 314.0\n",
      "Added user message to memory: 1000 + 314.0\n",
      "=== Calling Function ===\n",
      "Calling function: add with args: {\"a\": 1000, \"b\": 314}\n",
      "=== Function Output ===\n",
      "1314\n",
      "> Running step 203c38a5-29fd-4bce-acac-5c3530a25ed3. Step input: None\n",
      "=== LLM Response ===\n",
      "The sum of 1000 and 314.0 is 1314.0.\n",
      "=== Refined plan ===\n",
      "验证最终结果:\n",
      " -> 1314.0\n",
      "deps: ['计算加法部分']\n",
      "\n",
      "\n",
      "> Running step bee84f9a-8a9a-4555-94e9-e6ccf2deb1dc. Step input: \n",
      "Added user message to memory: \n",
      "=== LLM Response ===\n",
      "Great! If you have any other calculations or questions, feel free to ask!\n",
      "=== Refined plan ===\n",
      "计算乘法部分:\n",
      "math.multiply(157, 2) -> succeeded\n",
      "deps: []\n",
      "\n",
      "\n",
      "计算加法部分:\n",
      "math.add(1000, 314.0) -> succeeded\n",
      "deps: ['计算乘法部分']\n",
      "\n",
      "\n",
      "验证最终结果:\n",
      " -> Great! If you have any other calculations or questions, feel free to ask!\n",
      "deps: ['计算加法部分']\n",
      "\n",
      "\n"
     ]
    }
   ],
   "source": [
    "from llama_index.core.agent import StructuredPlannerAgent,FunctionCallingAgentWorker\n",
    "\n",
    "# 创建代理 \n",
    "# create the function calling worker for reasoning\n",
    "worker = FunctionCallingAgentWorker.from_tools(\n",
    "    [multiply_tool, add_tool], verbose=True\n",
    ")\n",
    "\n",
    "# wrap the worker in the top-level planner\n",
    "agent = StructuredPlannerAgent(\n",
    "    worker, tools=[multiply_tool, add_tool],\n",
    "    verbose=True,\n",
    "    memory=None\n",
    ")\n",
    "\n",
    "response = agent.chat(\"计算结果，1000+157*2？\")"
   ]
  },
  {
   "cell_type": "markdown",
   "metadata": {},
   "source": [
    "和前面两个“边规划边执行不同”，还有一种思维方式，提前规划好，然后执行规划，得到最终答案， StructuredPlannerAgent 就是这种方式，该Agent整体运行逻辑如下\n",
    "\n",
    "![alt text](../../doc/PlanningAgentRunner.png)\n",
    "\n",
    "1. create_plan：提出整体计划\n",
    "2. 执行：执行第一个任务\n",
    "3. 优化计划：根据上一任务结果及下一任务，调整优化计划"
   ]
  },
  {
   "cell_type": "markdown",
   "metadata": {},
   "source": [
    "仔细地，还是从prompt了解其原理\n",
    "\n",
    "```python\n",
    "DEFAULT_INITIAL_PLAN_PROMPT = \"\"\"\\\n",
    "Think step-by-step. Given a task and a set of tools, create a comprehesive, end-to-end plan to accomplish the task.\n",
    "Keep in mind not every task needs to be decomposed into multiple sub-tasks if it is simple enough.\n",
    "The plan should end with a sub-task that satisfies the overall task.\n",
    "\n",
    "The tools available are:\n",
    "{tools_str}\n",
    "\n",
    "Overall Task: {task}\n",
    "\"\"\"\n",
    "```\n",
    "\n",
    "这是StructuredPlannerAgent的`create_plan`方法的prompt，可以看出其作用是提出整体规划\n",
    "\n",
    "还有一个优化计划的prompt，作用是根据已执行的任务结果，更新后续任务\n",
    "\n",
    "```python\n",
    "DEFAULT_PLAN_REFINE_PROMPT = \"\"\"\\\n",
    "Think step-by-step. Given an overall task, a set of tools, and completed sub-tasks, update (if needed) the remaining sub-tasks so that the overall task can still be completed.\n",
    "The plan should end with a sub-task that satisfies the overall task.\n",
    "If the remaining sub-tasks are sufficient, you can skip this step.\n",
    "\n",
    "The tools available are:\n",
    "{tools_str}\n",
    "\n",
    "Overall Task:\n",
    "{task}\n",
    "\n",
    "Completed Sub-Tasks + Outputs:\n",
    "{completed_outputs}\n",
    "\n",
    "Remaining Sub-Tasks:\n",
    "{remaining_sub_tasks}\n",
    "\"\"\"\n",
    "```"
   ]
  },
  {
   "cell_type": "markdown",
   "metadata": {},
   "source": [
    "### 创建初始任务和计划\n",
    "\n",
    "以下根据StructuredPlannerAgent原理，使用低级API展示"
   ]
  },
  {
   "cell_type": "code",
   "execution_count": 9,
   "metadata": {},
   "outputs": [
    {
     "name": "stdout",
     "output_type": "stream",
     "text": [
      "=== Initial plan ===\n",
      "Step 1: Multiply 157 by 2:\n",
      "multiply(157, 2) -> PENDING\n",
      "deps: []\n",
      "\n",
      "\n",
      "Step 2: Add the result of Step 1 to 1000:\n",
      "add(1000, {result from Step 1}) -> PENDING\n",
      "deps: ['Step 1']\n",
      "\n",
      "\n",
      "------------------------------------\n",
      "===== Sub Task Step 1: Multiply 157 by 2 =====\n",
      "Expected output:  PENDING\n",
      "Dependencies:  []\n",
      "===== Sub Task Step 2: Add the result of Step 1 to 1000 =====\n",
      "Expected output:  PENDING\n",
      "Dependencies:  ['Step 1']\n"
     ]
    }
   ],
   "source": [
    "plan_id = agent.create_plan(\"计算结果，1000+157*2？\")\n",
    "\n",
    "print('------------'*3)\n",
    "plan = agent.state.plan_dict[plan_id]\n",
    "for sub_task in plan.sub_tasks:\n",
    "    print(f\"===== Sub Task {sub_task.name} =====\")\n",
    "    print(\"Expected output: \", sub_task.expected_output)\n",
    "    print(\"Dependencies: \", sub_task.dependencies)"
   ]
  },
  {
   "cell_type": "markdown",
   "metadata": {},
   "source": [
    "### 执行第一组任务"
   ]
  },
  {
   "cell_type": "code",
   "execution_count": 10,
   "metadata": {},
   "outputs": [
    {
     "name": "stdout",
     "output_type": "stream",
     "text": [
      "===== Sub Task Step 1: Multiply 157 by 2 =====\n",
      "Expected output:  PENDING\n",
      "Dependencies:  []\n",
      "> Running step 6008e40b-5e57-471f-9a0d-94c422c5c9be. Step input: multiply(157, 2)\n",
      "Added user message to memory: multiply(157, 2)\n",
      "=== Calling Function ===\n",
      "Calling function: multiply with args: {\"a\": 157, \"b\": 2}\n",
      "=== Function Output ===\n",
      "314\n",
      "> Running step dcf22d0b-c100-4a88-83ce-a83bbd82f485. Step input: None\n",
      "=== LLM Response ===\n",
      "The product of 157 and 2 is 314.\n"
     ]
    }
   ],
   "source": [
    "# 获取下一步要执行的任务\n",
    "next_tasks = agent.state.get_next_sub_tasks(plan_id)\n",
    "for sub_task in next_tasks:\n",
    "    print(f\"===== Sub Task {sub_task.name} =====\")\n",
    "    print(\"Expected output: \", sub_task.expected_output)\n",
    "    print(\"Dependencies: \", sub_task.dependencies)\n",
    "\n",
    "# 执行任务\n",
    "for sub_task in next_tasks:\n",
    "    response = agent.run_task(sub_task.name)\n",
    "    agent.mark_task_complete(plan_id, sub_task.name)"
   ]
  },
  {
   "cell_type": "markdown",
   "metadata": {},
   "source": [
    "### 查看是否结束"
   ]
  },
  {
   "cell_type": "code",
   "execution_count": 11,
   "metadata": {},
   "outputs": [
    {
     "name": "stdout",
     "output_type": "stream",
     "text": [
      "0\n"
     ]
    }
   ],
   "source": [
    "next_tasks = agent.get_next_tasks(plan_id)\n",
    "print(len(next_tasks))"
   ]
  },
  {
   "cell_type": "markdown",
   "metadata": {},
   "source": [
    "### 优化任务"
   ]
  },
  {
   "cell_type": "code",
   "execution_count": 12,
   "metadata": {},
   "outputs": [
    {
     "name": "stdout",
     "output_type": "stream",
     "text": [
      "=== Refined plan ===\n",
      "Step 2: Add the result of Step 1 to 1000:\n",
      "add(1000, 314) -> PENDING\n",
      "deps: ['Step 1']\n",
      "\n",
      "\n"
     ]
    }
   ],
   "source": [
    "# refine the plan\n",
    "agent.refine_plan(\n",
    "    \"计算结果，1000+157*2？\",\n",
    "    plan_id,\n",
    ")"
   ]
  }
 ],
 "metadata": {
  "kernelspec": {
   "display_name": "langchian",
   "language": "python",
   "name": "python3"
  },
  "language_info": {
   "codemirror_mode": {
    "name": "ipython",
    "version": 3
   },
   "file_extension": ".py",
   "mimetype": "text/x-python",
   "name": "python",
   "nbconvert_exporter": "python",
   "pygments_lexer": "ipython3",
   "version": "3.10.14"
  }
 },
 "nbformat": 4,
 "nbformat_minor": 2
}
