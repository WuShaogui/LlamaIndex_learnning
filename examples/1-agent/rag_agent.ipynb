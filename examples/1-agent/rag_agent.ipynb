{
 "cells": [
  {
   "cell_type": "markdown",
   "metadata": {},
   "source": [
    "在使用llamaindex构建rag引擎时，有一下方式：\n",
    "\n",
    "- 标准的RAG过程，所有文档构建1个增强查询引擎\n",
    "- 单独为每个文档构建1个查询引擎，然后让llm选择查询引擎使用\n",
    "\n",
    "本脚本比较他们之间的差异，评估不同方法的效果\n",
    "\n",
    "|方法|answer_relevancy|context_relevancy|correctness|faithfulness|\n",
    "|---|---|---|---|---|\n",
    "|所有文档1个引擎|0.85|0.84375|2.95|0.25|\n",
    "|每个文档1个引擎|0.7|0.70625|3.025|0.25|\n",
    "|每个文档2个引擎|0.825|0.786|3.6|0.1|\n",
    "|每个文档2个引擎2|0.725|0.77125|2.8|0.25|\n",
    "\n",
    "指标只是有相对参考性，原因如下：1）没有使用私域数据，文档内的知识可能llm本身就具备；2) 没有定制prompt，不同方式的倾向不同，有的方法擅长给出步骤，有的方法擅长总结\n"
   ]
  },
  {
   "cell_type": "code",
   "execution_count": 1,
   "metadata": {},
   "outputs": [],
   "source": [
    "from llama_index.core import Settings\n",
    "from llama_index.llms.ollama import Ollama\n",
    "from llama_index.embeddings.ollama import OllamaEmbedding\n",
    "\n",
    "base_url='http://192.168.3.155:11434'\n",
    "llm = Ollama(model=\"qwen2.5:latest\", request_timeout=360.0,base_url=base_url)\n",
    "Settings.llm = llm\n",
    "Settings.embed_model = OllamaEmbedding(model_name=\"quentinz/bge-large-zh-v1.5:latest\",base_url=base_url)"
   ]
  },
  {
   "cell_type": "markdown",
   "metadata": {},
   "source": [
    "## 生成测试数据"
   ]
  },
  {
   "cell_type": "code",
   "execution_count": 2,
   "metadata": {},
   "outputs": [],
   "source": [
    "# Enable async for the notebook\n",
    "import nest_asyncio\n",
    "nest_asyncio.apply()"
   ]
  },
  {
   "cell_type": "code",
   "execution_count": 3,
   "metadata": {},
   "outputs": [],
   "source": [
    "def displayify_df(df):\n",
    "    \"\"\"For pretty displaying DataFrame in a notebook.\"\"\"\n",
    "    display_df = df.style.set_properties(\n",
    "        **{\n",
    "            \"inline-size\": \"500px\",\n",
    "            \"overflow-wrap\": \"break-word\",\n",
    "        }\n",
    "    )\n",
    "    display(display_df)"
   ]
  },
  {
   "cell_type": "code",
   "execution_count": 4,
   "metadata": {},
   "outputs": [],
   "source": [
    "import os\n",
    "from llama_index.core.llama_dataset.generator import RagDatasetGenerator\n",
    "from llama_index.core.prompts.base import PromptTemplate\n",
    "from llama_index.core.prompts.prompt_type import PromptType\n",
    "from llama_index.core.llama_dataset import LabeledRagDataset\n",
    "from llama_index.core.llama_dataset import RagPredictionDataset\n",
    "\n",
    "async def Build_test_dataset(nodes,query_engine,test_size=10,data_dir='./data',prefix=''):\n",
    "    ragdataset_path=os.path.join(data_dir,f'ragdataset.json')\n",
    "    ragdataset_predictions_path=os.path.join(data_dir,f'{prefix}-ragdataset_predictions.json')\n",
    "\n",
    "    if os.path.exists(ragdataset_path):\n",
    "        rag_dataset=LabeledRagDataset.from_json(ragdataset_path)\n",
    "    else:\n",
    "        DEFAULT_QUESTION_GENERATION_PROMPT = \"\"\"\\\n",
    "        Context information is below.\n",
    "        ---------------------\n",
    "        {context_str}\n",
    "        ---------------------\n",
    "        Given the context information and not prior knowledge.\n",
    "        generate only questions based on the below query.\n",
    "        使用中文生成答案\n",
    "        {query_str}\n",
    "        \"\"\"\n",
    "\n",
    "        DEFAULT_TEXT_QA_PROMPT_TMPL=(\n",
    "            \"Context information is below.\\n\"\n",
    "            \"---------------------\\n\"\n",
    "            \"{context_str}\\n\"\n",
    "            \"---------------------\\n\"\n",
    "            \"Given the context information and not prior knowledge,answer the query.\\n\"\n",
    "            \"使用中文生成答案\\n\"\n",
    "            \"Query: {query_str}\\n\"\n",
    "            \"Answer: \"\n",
    "        )\n",
    "\n",
    "        text_qa_template = PromptTemplate(\n",
    "            DEFAULT_TEXT_QA_PROMPT_TMPL, prompt_type=PromptType.QUESTION_ANSWER\n",
    "        )\n",
    "\n",
    "        text_question_template=PromptTemplate(DEFAULT_QUESTION_GENERATION_PROMPT)\n",
    "\n",
    "        num_questions_per_chunk=1\n",
    "        # role=\"Teacher/Professor\"\n",
    "        role=\"小说作家\"\n",
    "        question_gen_query=f\"\"\"\n",
    "            You are a {role}. \n",
    "            Your task is to setup {num_questions_per_chunk} questions for an upcoming quiz/examination. \n",
    "            The questions should be diverse in nature across the document. \n",
    "            Restrict the questions to the context information provided. \n",
    "        \"\"\"\n",
    "\n",
    "        import random\n",
    "        random.seed(0)\n",
    "        test_size=min(len(nodes),test_size)\n",
    "        sample_nodes=random.sample(nodes,test_size)\n",
    "\n",
    "        # step1:初始化数据生成器\n",
    "        print('step1:初始化数据生成器')\n",
    "        rag_dataset_generator=RagDatasetGenerator(nodes=sample_nodes,\n",
    "                                                text_question_template=text_question_template,\n",
    "                                                text_qa_template=text_qa_template,\n",
    "                                                question_gen_query=question_gen_query,\n",
    "                                                num_questions_per_chunk=num_questions_per_chunk)\n",
    "\n",
    "        # step2:为每个node生成问题（包含标准答案）\n",
    "        print('step2:为每个node生成问题（包含标准答案）')\n",
    "        rag_dataset = rag_dataset_generator.generate_dataset_from_nodes()\n",
    "        rag_dataset.save_json(ragdataset_path)\n",
    "\n",
    "    if os.path.exists(ragdataset_predictions_path):\n",
    "        rag_predictions_dataset=RagPredictionDataset.from_json(ragdataset_predictions_path)\n",
    "    else:\n",
    "        # step3:使用query_engine回答问题\n",
    "        print('step3:使用query_engine回答问题')\n",
    "        rag_predictions_dataset=await rag_dataset.amake_predictions_with(\n",
    "            predictor=query_engine,\n",
    "            batch_size=10,\n",
    "            sleep_time_in_seconds=2\n",
    "            )\n",
    "        rag_predictions_dataset.save_json(ragdataset_predictions_path)\n",
    "    \n",
    "    return rag_dataset,rag_predictions_dataset"
   ]
  },
  {
   "cell_type": "markdown",
   "metadata": {},
   "source": [
    "## 定义评估函数"
   ]
  },
  {
   "cell_type": "code",
   "execution_count": 5,
   "metadata": {},
   "outputs": [],
   "source": [
    "from typing import List\n",
    "\n",
    "from llama_index.core.evaluation import BatchEvalRunner\n",
    "from llama_index.core.evaluation import (\n",
    "    AnswerRelevancyEvaluator,\n",
    "    ContextRelevancyEvaluator,\n",
    "    CorrectnessEvaluator,\n",
    "    FaithfulnessEvaluator,\n",
    ")\n",
    "\n",
    "runner=BatchEvalRunner(\n",
    "    evaluators={\n",
    "        \"answer_relevancy\":AnswerRelevancyEvaluator(),\n",
    "        \"context_relevancy\":ContextRelevancyEvaluator(),\n",
    "        \"correctness\":CorrectnessEvaluator(),\n",
    "        \"faithfulness\":FaithfulnessEvaluator()        \n",
    "    },\n",
    "    workers=12,\n",
    "    show_progress=True\n",
    ")\n",
    "\n",
    "async def eval_query_engine(queries:List[str],contexts_list:List[List[str]],response_strs:List[str]):\n",
    "    eval_results=await runner.aevaluate_response_strs(\n",
    "        queries=queries,\n",
    "        contexts_list=contexts_list,\n",
    "        response_strs=response_strs\n",
    "    )\n",
    "\n",
    "    for key in eval_results.keys():\n",
    "        results = eval_results[key]\n",
    "        scores = 0\n",
    "        for result in results:\n",
    "            score = getattr(result,'score',0)\n",
    "            if score:\n",
    "                scores += score\n",
    "        score = scores / len(results)\n",
    "        print(f\"{key} Score: {score}\")        "
   ]
  },
  {
   "cell_type": "markdown",
   "metadata": {},
   "source": [
    "## 所有文档构建1个查询引擎"
   ]
  },
  {
   "cell_type": "code",
   "execution_count": 6,
   "metadata": {},
   "outputs": [
    {
     "name": "stderr",
     "output_type": "stream",
     "text": [
      "Loading files:   0%|          | 0/140 [00:00<?, ?file/s]"
     ]
    },
    {
     "name": "stderr",
     "output_type": "stream",
     "text": [
      "Loading files: 100%|██████████| 140/140 [00:00<00:00, 521.89file/s]\n",
      "c:\\Users\\wushaogui\\miniconda3\\envs\\langchian\\lib\\site-packages\\tqdm\\auto.py:21: TqdmWarning: IProgress not found. Please update jupyter and ipywidgets. See https://ipywidgets.readthedocs.io/en/stable/user_install.html\n",
      "  from .autonotebook import tqdm as notebook_tqdm\n",
      "Parsing nodes: 100%|██████████| 140/140 [00:01<00:00, 124.27it/s]\n"
     ]
    }
   ],
   "source": [
    "from llama_index.core import SimpleDirectoryReader\n",
    "from llama_index.core.node_parser import SentenceSplitter\n",
    "\n",
    "documents=SimpleDirectoryReader(input_dir='../../data/sidaminzhu',recursive=True).load_data(show_progress=True)\n",
    "splitter = SentenceSplitter(chunk_size=1024)\n",
    "nodes = splitter.get_nodes_from_documents(documents,show_progress=True)"
   ]
  },
  {
   "cell_type": "code",
   "execution_count": 7,
   "metadata": {},
   "outputs": [
    {
     "name": "stderr",
     "output_type": "stream",
     "text": [
      "Generating embeddings: 100%|██████████| 962/962 [01:08<00:00, 14.14it/s]\n"
     ]
    }
   ],
   "source": [
    "# 生成索引及查询引擎\n",
    "from llama_index.core import VectorStoreIndex\n",
    "index=VectorStoreIndex(nodes=nodes,show_progress=True)\n",
    "query_engine=index.as_query_engine()"
   ]
  },
  {
   "cell_type": "code",
   "execution_count": 10,
   "metadata": {},
   "outputs": [
    {
     "name": "stdout",
     "output_type": "stream",
     "text": [
      "step1:初始化数据生成器\n",
      "step2:为每个node生成问题（包含标准答案）\n",
      "step3:使用query_engine回答问题\n"
     ]
    }
   ],
   "source": [
    "rag_dataset,rag_predictions_dataset=await Build_test_dataset(\n",
    "    nodes,query_engine,test_size=20,prefix='OneEngine')\n",
    "\n",
    "# 查看测试数据\n",
    "# import pandas as pd\n",
    "# show_num=1\n",
    "# contexts_query_answer={\n",
    "#     \"上下文\":[example.reference_contexts for example in rag_dataset.examples[:show_num]],\n",
    "#     \"生成的提问\":[example.query for example in rag_dataset.examples[:show_num]],\n",
    "#     \"回答\":[example.response for example in rag_predictions_dataset.predictions[:show_num]],\n",
    "# }\n",
    "# df=pd.DataFrame(contexts_query_answer)\n",
    "# displayify_df(df)  "
   ]
  },
  {
   "cell_type": "code",
   "execution_count": 11,
   "metadata": {},
   "outputs": [
    {
     "name": "stderr",
     "output_type": "stream",
     "text": [
      "100%|██████████| 80/80 [05:51<00:00,  4.39s/it]"
     ]
    },
    {
     "name": "stdout",
     "output_type": "stream",
     "text": [
      "answer_relevancy Score: 0.85\n",
      "context_relevancy Score: 0.84375\n",
      "correctness Score: 2.95\n",
      "faithfulness Score: 0.25\n"
     ]
    },
    {
     "name": "stderr",
     "output_type": "stream",
     "text": [
      "\n"
     ]
    }
   ],
   "source": [
    "queries=[example.query for example in rag_dataset.examples]\n",
    "contexts_list=[example.reference_contexts for example in rag_dataset.examples]\n",
    "response_strs=[example.response for example in rag_predictions_dataset.predictions]\n",
    "\n",
    "# 已有回答，直接传入回答评估\n",
    "await eval_query_engine(queries,contexts_list,response_strs)"
   ]
  },
  {
   "cell_type": "markdown",
   "metadata": {},
   "source": [
    "## 每个文档构建1个查询引擎"
   ]
  },
  {
   "cell_type": "code",
   "execution_count": null,
   "metadata": {},
   "outputs": [],
   "source": [
    "import glob \n",
    "from llama_index.core.tools import FunctionTool\n",
    "\n",
    "dir_list=glob.glob('../../data/sidaminzhu/*')\n",
    "documents=[\n",
    "    SimpleDirectoryReader(input_dir).load_data(show_progress=True)\n",
    "    for input_dir in dir_list\n",
    " ]\n",
    "\n",
    "splitter = SentenceSplitter(chunk_size=1024)\n",
    "documents_nodes=[\n",
    "    splitter.get_nodes_from_documents(document)\n",
    "    for document in documents\n",
    "]\n",
    "\n",
    "documents_indexs=[\n",
    "    VectorStoreIndex(nodes=nodes,show_progress=True)\n",
    "    for nodes in documents_nodes\n",
    "]"
   ]
  },
  {
   "cell_type": "code",
   "execution_count": null,
   "metadata": {},
   "outputs": [],
   "source": [
    "def get_doc_tools(\n",
    "    vector_index,name: str,\n",
    ") -> str:\n",
    "    \n",
    "    def vector_query(query: str) -> str:\n",
    "        f'''设计用于回答关于{name}的问题\n",
    "        query : 输入内容\n",
    "        '''\n",
    "\n",
    "        query_engine = vector_index.as_query_engine(similarity_top_k=2)\n",
    "        response = query_engine.query(query)\n",
    "        return response\n",
    "    \n",
    "    vector_query_tool = FunctionTool.from_defaults(\n",
    "        name=f\"vector_tool_{name}\", fn=vector_query,description=f\"关于{name}问题的回答助手\"\n",
    "    )\n",
    "\n",
    "    return vector_query_tool\n",
    "\n",
    "dir_info=[os.path.split(dir)[1].replace('白话文','') for dir in dir_list]\n",
    "documents_tools=[\n",
    "    get_doc_tools(vector_index,dir_info[i])\n",
    "    for i,vector_index in enumerate(documents_indexs)\n",
    "]"
   ]
  },
  {
   "cell_type": "code",
   "execution_count": null,
   "metadata": {},
   "outputs": [],
   "source": [
    "from llama_index.core.objects import ObjectIndex\n",
    "\n",
    "tool_index=ObjectIndex.from_objects(\n",
    "    documents_tools,\n",
    "    index_cls=VectorStoreIndex\n",
    ")\n",
    "\n",
    "tool_retriever=tool_index.as_retriever(similarity_top_k=1)"
   ]
  },
  {
   "cell_type": "code",
   "execution_count": null,
   "metadata": {},
   "outputs": [],
   "source": [
    "from llama_index.core.agent import FunctionCallingAgent\n",
    "\n",
    "agent = FunctionCallingAgent.from_tools(\n",
    "    tool_retriever=tool_retriever,\n",
    "    system_prompt=\"\"\"You are an agent designed to answer queries over a set of given documents.\n",
    "    Please use the tools provided to answer a question as possible. Do not rely on prior knowledge\\\n",
    "    \"\"\",\n",
    "    verbose=False,\n",
    ")"
   ]
  },
  {
   "cell_type": "code",
   "execution_count": null,
   "metadata": {},
   "outputs": [],
   "source": [
    "rag_dataset,rag_predictions_dataset=await Build_test_dataset(\n",
    "    documents_nodes,agent,test_size=20,prefix='MulEngine')"
   ]
  },
  {
   "cell_type": "code",
   "execution_count": null,
   "metadata": {},
   "outputs": [],
   "source": [
    "queries=[example.query for example in rag_dataset.examples]\n",
    "contexts_list=[example.reference_contexts for example in rag_dataset.examples]\n",
    "response_strs=[example.response for example in rag_predictions_dataset.predictions]\n",
    "\n",
    "# 已有回答，直接传入回答评估\n",
    "await eval_query_engine(queries,contexts_list,response_strs)"
   ]
  },
  {
   "cell_type": "markdown",
   "metadata": {},
   "source": [
    "## 每个文档构建2个查询引擎"
   ]
  },
  {
   "cell_type": "code",
   "execution_count": 6,
   "metadata": {},
   "outputs": [
    {
     "name": "stdout",
     "output_type": "stream",
     "text": [
      "['DocumentSummaryIndex', 'EmptyIndex', 'GPTDocumentSummaryIndex', 'GPTEmptyIndex', 'GPTKeywordTableIndex', 'GPTListIndex', 'GPTPandasIndex', 'GPTRAKEKeywordTableIndex', 'GPTSQLStructStoreIndex', 'GPTSimpleKeywordTableIndex', 'GPTTreeIndex', 'GPTVectorStoreIndex', 'KeywordTableIndex', 'KnowledgeGraphIndex', 'ListIndex', 'MultiModalVectorStoreIndex', 'PandasIndex', 'PropertyGraphIndex', 'RAKEKeywordTableIndex', 'SQLStructStoreIndex', 'SimpleKeywordTableIndex', 'SummaryIndex', 'TreeIndex', 'VectorStoreIndex']\n"
     ]
    }
   ],
   "source": [
    "from llama_index.core import indices\n",
    "\n",
    "indexs=list(filter(lambda att:att.find('Index')>0,dir(indices)))\n",
    "print(indexs)"
   ]
  },
  {
   "cell_type": "code",
   "execution_count": 7,
   "metadata": {},
   "outputs": [
    {
     "name": "stderr",
     "output_type": "stream",
     "text": [
      "Loading files:   0%|          | 0/41 [00:00<?, ?file/s]"
     ]
    },
    {
     "name": "stderr",
     "output_type": "stream",
     "text": [
      "Loading files: 100%|██████████| 41/41 [00:00<00:00, 173.56file/s]\n",
      "Loading files: 100%|██████████| 34/34 [00:00<00:00, 1236.93file/s]\n",
      "Loading files: 100%|██████████| 26/26 [00:00<00:00, 997.86file/s]\n",
      "Loading files: 100%|██████████| 39/39 [00:00<00:00, 1384.82file/s]\n",
      "c:\\Users\\wushaogui\\miniconda3\\envs\\langchian\\lib\\site-packages\\tqdm\\auto.py:21: TqdmWarning: IProgress not found. Please update jupyter and ipywidgets. See https://ipywidgets.readthedocs.io/en/stable/user_install.html\n",
      "  from .autonotebook import tqdm as notebook_tqdm\n",
      "Generating embeddings: 100%|██████████| 127/127 [00:19<00:00,  6.37it/s]\n",
      "Generating embeddings: 100%|██████████| 311/311 [00:36<00:00,  8.64it/s]\n",
      "Generating embeddings: 100%|██████████| 340/340 [00:39<00:00,  8.54it/s]\n",
      "Generating embeddings: 100%|██████████| 184/184 [00:22<00:00,  8.19it/s]\n",
      "Extracting keywords from nodes: 100%|██████████| 127/127 [02:06<00:00,  1.01it/s]\n",
      "Extracting keywords from nodes: 100%|██████████| 311/311 [04:22<00:00,  1.19it/s]\n",
      "Extracting keywords from nodes: 100%|██████████| 340/340 [04:40<00:00,  1.21it/s]\n",
      "Extracting keywords from nodes: 100%|██████████| 184/184 [02:32<00:00,  1.21it/s]\n"
     ]
    }
   ],
   "source": [
    "import glob \n",
    "from llama_index.core import KeywordTableIndex,VectorStoreIndex\n",
    "from llama_index.core.tools import FunctionTool\n",
    "\n",
    "from llama_index.core import SimpleDirectoryReader\n",
    "from llama_index.core.node_parser import SentenceSplitter\n",
    "\n",
    "dir_list=glob.glob('../../data/sidaminzhu/*')\n",
    "documents=[\n",
    "    SimpleDirectoryReader(input_dir).load_data(show_progress=True)\n",
    "    for input_dir in dir_list\n",
    " ]\n",
    "\n",
    "splitter = SentenceSplitter(chunk_size=1024)\n",
    "documents_nodes=[\n",
    "    splitter.get_nodes_from_documents(document)\n",
    "    for document in documents\n",
    "]\n",
    "\n",
    "vector_indexs=[\n",
    "    VectorStoreIndex(nodes=nodes,show_progress=True)\n",
    "    for nodes in documents_nodes\n",
    "]\n",
    "\n",
    "keyword_indexs=[\n",
    "    KeywordTableIndex(nodes=nodes,show_progress=True)\n",
    "    for nodes in documents_nodes\n",
    "]"
   ]
  },
  {
   "cell_type": "code",
   "execution_count": 8,
   "metadata": {},
   "outputs": [],
   "source": [
    "def get_doc_tools(\n",
    "    vector_index,summary_indexs,name: str,\n",
    ") -> str:\n",
    "    \n",
    "    def vector_query(query: str) -> str:\n",
    "        f'''通过语义相关查询回答关于{name}的问题，擅长精确查询答案\n",
    "        query : 输入内容\n",
    "        '''\n",
    "\n",
    "        query_engine = vector_index.as_query_engine(similarity_top_k=2)\n",
    "        response = query_engine.query(query)\n",
    "        return response\n",
    "    \n",
    "    vector_query_tool = FunctionTool.from_defaults(\n",
    "        name=f\"vector_tool_{name}\", fn=vector_query,description=f\"关于{name}问题的回答助手\"\n",
    "    )\n",
    "\n",
    "    def keyword_query(query: str) -> str:\n",
    "        f'''回答关于{name}的问题，擅长输出归纳性总结\n",
    "        query : 输入内容\n",
    "        '''\n",
    "\n",
    "        query_engine = keyword_indexs.as_query_engine(\n",
    "                response_mode=\"tree_summarize\",\n",
    "                use_async=True,\n",
    "        )\n",
    "        response = query_engine.query(query)\n",
    "        return response\n",
    "    \n",
    "    vector_query_tool = FunctionTool.from_defaults(\n",
    "        name=f\"vector_tool_{name}\", fn=vector_query,description=f\"关于{name}问题的回答助手\"\n",
    "    )\n",
    "\n",
    "    keyword_query_tool = FunctionTool.from_defaults(\n",
    "        name=f\"keyword_tool_{name}\", fn=keyword_query,description=f\"关于{name}问题的回答助手\"\n",
    "    )\n",
    "\n",
    "    return vector_query_tool,keyword_query_tool\n",
    "\n",
    "dir_info=[os.path.split(dir)[1].replace('白话文','') for dir in dir_list]\n",
    "documents_tools=[\n",
    "    get_doc_tools(vector_index,keyword_index,dir_info[i])\n",
    "    for i,(vector_index,keyword_index) in enumerate(zip(vector_indexs,keyword_indexs))\n",
    "]"
   ]
  },
  {
   "cell_type": "code",
   "execution_count": 9,
   "metadata": {},
   "outputs": [],
   "source": [
    "all_tools = [t for documents_tools in documents_tools for t in documents_tools]"
   ]
  },
  {
   "cell_type": "code",
   "execution_count": 10,
   "metadata": {},
   "outputs": [],
   "source": [
    "from llama_index.core.objects import ObjectIndex\n",
    "\n",
    "tool_index=ObjectIndex.from_objects(\n",
    "    all_tools,\n",
    "    index_cls=VectorStoreIndex\n",
    ")\n",
    "\n",
    "tool_retriever=tool_index.as_retriever(similarity_top_k=2)"
   ]
  },
  {
   "cell_type": "code",
   "execution_count": 11,
   "metadata": {},
   "outputs": [],
   "source": [
    "from llama_index.core.agent import FunctionCallingAgent\n",
    "\n",
    "agent = FunctionCallingAgent.from_tools(\n",
    "    tool_retriever=tool_retriever,\n",
    "    system_prompt=\"\"\"You are an agent designed to answer queries over a set of given documents.\n",
    "    Please use the tools provided to answer a question as possible. Do not rely on prior knowledge\\\n",
    "    \"\"\"\n",
    ")"
   ]
  },
  {
   "cell_type": "code",
   "execution_count": 12,
   "metadata": {},
   "outputs": [],
   "source": [
    "rag_dataset,rag_predictions_dataset=await Build_test_dataset(\n",
    "    documents_nodes,agent,test_size=20,prefix='MulEngine2')"
   ]
  },
  {
   "cell_type": "code",
   "execution_count": 13,
   "metadata": {},
   "outputs": [
    {
     "name": "stderr",
     "output_type": "stream",
     "text": [
      "100%|██████████| 80/80 [01:16<00:00,  1.04it/s]"
     ]
    },
    {
     "name": "stdout",
     "output_type": "stream",
     "text": [
      "answer_relevancy Score: 0.8\n",
      "context_relevancy Score: 0.9362499999999999\n",
      "correctness Score: 3.55\n",
      "faithfulness Score: 0.1\n"
     ]
    },
    {
     "name": "stderr",
     "output_type": "stream",
     "text": [
      "\n"
     ]
    }
   ],
   "source": [
    "queries=[example.query for example in rag_dataset.examples]\n",
    "contexts_list=[example.reference_contexts for example in rag_dataset.examples]\n",
    "response_strs=[example.response for example in rag_predictions_dataset.predictions]\n",
    "\n",
    "# 已有回答，直接传入回答评估\n",
    "await eval_query_engine(queries,contexts_list,response_strs)"
   ]
  },
  {
   "cell_type": "markdown",
   "metadata": {},
   "source": [
    "## 每个文档构建2个查询引擎2\n",
    "\n",
    "前面生成agent时，所有的engine都一起放入agent，可能存在问题，以下先通过RouterQueryEngine汇总一个文档的所有engine，再放到agent中"
   ]
  },
  {
   "cell_type": "code",
   "execution_count": 6,
   "metadata": {},
   "outputs": [
    {
     "name": "stderr",
     "output_type": "stream",
     "text": [
      "Loading files: 100%|██████████| 41/41 [00:00<00:00, 296.86file/s]\n",
      "Loading files: 100%|██████████| 34/34 [00:00<00:00, 4520.30file/s]\n",
      "Loading files: 100%|██████████| 26/26 [00:00<00:00, 4333.48file/s]\n",
      "Loading files: 100%|██████████| 39/39 [00:00<00:00, 4516.60file/s]\n",
      "c:\\Users\\wushaogui\\miniconda3\\envs\\langchian\\lib\\site-packages\\tqdm\\auto.py:21: TqdmWarning: IProgress not found. Please update jupyter and ipywidgets. See https://ipywidgets.readthedocs.io/en/stable/user_install.html\n",
      "  from .autonotebook import tqdm as notebook_tqdm\n",
      "Generating embeddings: 100%|██████████| 127/127 [00:16<00:00,  7.91it/s]\n",
      "Generating embeddings: 100%|██████████| 311/311 [00:36<00:00,  8.46it/s]\n",
      "Generating embeddings: 100%|██████████| 340/340 [00:40<00:00,  8.35it/s]\n",
      "Generating embeddings: 100%|██████████| 184/184 [00:21<00:00,  8.47it/s]\n",
      "Extracting keywords from nodes: 100%|██████████| 127/127 [01:42<00:00,  1.24it/s]\n",
      "Extracting keywords from nodes: 100%|██████████| 311/311 [04:21<00:00,  1.19it/s]\n",
      "Extracting keywords from nodes: 100%|██████████| 340/340 [04:44<00:00,  1.20it/s]\n",
      "Extracting keywords from nodes: 100%|██████████| 184/184 [02:29<00:00,  1.23it/s]\n"
     ]
    }
   ],
   "source": [
    "import glob \n",
    "from llama_index.core import KeywordTableIndex,VectorStoreIndex\n",
    "from llama_index.core.tools import FunctionTool\n",
    "\n",
    "from llama_index.core import SimpleDirectoryReader\n",
    "from llama_index.core.node_parser import SentenceSplitter\n",
    "\n",
    "dir_list=glob.glob('../../data/sidaminzhu/*')\n",
    "documents=[\n",
    "    SimpleDirectoryReader(input_dir).load_data(show_progress=True)\n",
    "    for input_dir in dir_list\n",
    " ]\n",
    "\n",
    "splitter = SentenceSplitter(chunk_size=1024)\n",
    "documents_nodes=[\n",
    "    splitter.get_nodes_from_documents(document)\n",
    "    for document in documents\n",
    "]\n",
    "\n",
    "vector_indexs=[\n",
    "    VectorStoreIndex(nodes=nodes,show_progress=True)\n",
    "    for nodes in documents_nodes\n",
    "]\n",
    "\n",
    "keyword_indexs=[\n",
    "    KeywordTableIndex(nodes=nodes,show_progress=True)\n",
    "    for nodes in documents_nodes\n",
    "]"
   ]
  },
  {
   "cell_type": "code",
   "execution_count": 7,
   "metadata": {},
   "outputs": [],
   "source": [
    "from llama_index.core.query_engine.router_query_engine import RouterQueryEngine\n",
    "from llama_index.core.selectors import LLMSingleSelector\n",
    "from llama_index.core.tools import QueryEngineTool\n",
    "\n",
    "documents_engines=[]\n",
    "for i,(vector_index,keyword_index) in enumerate(zip(vector_indexs,keyword_indexs)):\n",
    "    vector_query_engine = vector_index.as_query_engine(similarity_top_k=2)\n",
    "    vector_tool = QueryEngineTool.from_defaults(\n",
    "        query_engine=vector_query_engine,\n",
    "        description=(\n",
    "            \"Useful for retrieving specific context from the documents\"\n",
    "        ),\n",
    "    )\n",
    "\n",
    "    keyword_query_engine = keyword_index.as_query_engine(response_mode=\"tree_summarize\",use_async=True)\n",
    "    summary_tool = QueryEngineTool.from_defaults(\n",
    "        query_engine=keyword_query_engine,\n",
    "        description=(\"Useful for summarization questions related to documents\"),\n",
    "    )\n",
    "\n",
    "    documents_engines.append(\n",
    "        RouterQueryEngine(\n",
    "            selector=LLMSingleSelector.from_defaults(),\n",
    "            query_engine_tools=[vector_tool,summary_tool],\n",
    "            verbose=True)\n",
    "        )\n"
   ]
  },
  {
   "cell_type": "code",
   "execution_count": 12,
   "metadata": {},
   "outputs": [],
   "source": [
    "from llama_index.core.tools import QueryEngineTool,ToolMetadata\n",
    "\n",
    "dir_info=[os.path.split(dir)[1].replace('白话文','') for dir in dir_list]\n",
    "query_engine_tools = [\n",
    "    QueryEngineTool(\n",
    "        query_engine=engine,\n",
    "        metadata=ToolMetadata(name=f\"query_engine_{dir_info[i]}\",description=f\"回答关于{dir_info[i]}的问题\")\n",
    "        )   \n",
    "for i,engine in enumerate(documents_engines)]"
   ]
  },
  {
   "cell_type": "code",
   "execution_count": 13,
   "metadata": {},
   "outputs": [],
   "source": [
    "from llama_index.core.agent import FunctionCallingAgent\n",
    "\n",
    "agent = FunctionCallingAgent.from_tools(\n",
    "    tools=query_engine_tools,\n",
    "    system_prompt=\"\"\"You are an agent designed to answer queries over a set of given documents.\n",
    "    Please use the tools provided to answer a question as possible. Do not rely on prior knowledge\\\n",
    "    \"\"\",\n",
    "    verbose=True,\n",
    ")"
   ]
  },
  {
   "cell_type": "code",
   "execution_count": 14,
   "metadata": {},
   "outputs": [
    {
     "name": "stdout",
     "output_type": "stream",
     "text": [
      "step3:使用query_engine回答问题\n",
      "> Running step eff479ca-a0cd-491c-bb54-634b3ea6de44. Step input: 在故事中，悟空和八戒是如何对付那条红色的大蟒蛇的？请简要描述他们的策略。\n",
      "Added user message to memory: 在故事中，悟空和八戒是如何对付那条红色的大蟒蛇的？请简要描述他们的策略。\n",
      "> Running step 6815e527-9a12-4ffa-b277-d0057458dfea. Step input: 在这段描述中，凤姐儿为何突然手持明晃晃的刀砍进园里？众人是如何应对这一突发情况的？请简要概括。\n",
      "Added user message to memory: 在这段描述中，凤姐儿为何突然手持明晃晃的刀砍进园里？众人是如何应对这一突发情况的？请简要概括。\n",
      "> Running step c40ddab8-29cc-4d25-b5b2-b9e1f48c1ffb. Step input: 在小说中，戴宗前往蓟州请公孙胜时，遇到了哪位好汉，并且这好汉与杨林是什么关系？这位好汉的绰号和姓名分别是什么？\n",
      "Added user message to memory: 在小说中，戴宗前往蓟州请公孙胜时，遇到了哪位好汉，并且这好汉与杨林是什么关系？这位好汉的绰号和姓名分别是什么？\n",
      "> Running step 74bc291d-efe7-4324-9406-7fedd9497b79. Step input: 鲁智深在救林冲时，用了什么方法让董超、薛霸不敢再对他们不利？\n",
      "Added user message to memory: 鲁智深在救林冲时，用了什么方法让董超、薛霸不敢再对他们不利？\n",
      "> Running step 07434d4b-cb92-4e9e-8fc0-c2ca007ee4ce. Step input: 在《红楼梦》的这个片段中，探春给宝玉起了什么号？为什么她后来又改用“潇湘妃子”作为宝钗的别号？请根据文中的对话解释原因。\n",
      "Added user message to memory: 在《红楼梦》的这个片段中，探春给宝玉起了什么号？为什么她后来又改用“潇湘妃子”作为宝钗的别号？请根据文中的对话解释原因。\n",
      "> Running step 9b6474c6-fb66-4375-b3d5-6df1203f540d. Step input: 在何进被杀后，谁带领军队冲入皇宫，并是如何对待遇到的宦官的？\n",
      "Added user message to memory: 在何进被杀后，谁带领军队冲入皇宫，并是如何对待遇到的宦官的？\n",
      "> Running step 5392e34d-ba34-4b05-a14b-e7c307a45e11. Step input: 在这段情节中，薛蟠被打伤后，宝钗提出了一个怎样的解决办法？这个建议体现了宝钗什么样的性格特点？\n",
      "Added user message to memory: 在这段情节中，薛蟠被打伤后，宝钗提出了一个怎样的解决办法？这个建议体现了宝钗什么样的性格特点？\n",
      "> Running step 68c24046-c8bd-40dc-be8b-2a9c9ede6db7. Step input: 在比箭比赛中，杨志是如何应对周谨的三次射箭攻击的？请详细描述。\n",
      "Added user message to memory: 在比箭比赛中，杨志是如何应对周谨的三次射箭攻击的？请详细描述。\n",
      "> Running step 536ce541-5bc5-4b92-a93a-3ea68659c958. Step input: 根据文本内容，鲁智深在寺里惹出的最大麻烦是什么？他因此得到了什么样的对待？\n",
      "Added user message to memory: 根据文本内容，鲁智深在寺里惹出的最大麻烦是什么？他因此得到了什么样的对待？\n",
      "> Running step 0481e1e3-5516-4991-b1fb-baafd30e3982. Step input: 孙悟空等人在与黄狮精战斗时，孙悟空是如何应对黄狮精的质问的？请详细描述这一过程。\n",
      "Added user message to memory: 孙悟空等人在与黄狮精战斗时，孙悟空是如何应对黄狮精的质问的？请详细描述这一过程。\n",
      "=== Calling Function ===\n",
      "Calling function: query_engine_水浒传 with args: {\"input\": \"\\u9c81\\u667a\\u6df1\\u5728\\u6551\\u6797\\u51b2\\u65f6\\uff0c\\u7528\\u4e86\\u4ec0\\u4e48\\u65b9\\u6cd5\\u8ba9\\u8463\\u8d85\\u3001\\u859b\\u9738\\u4e0d\\u6562\\u518d\\u5bf9\\u4ed6\\u4eec\\u4e0d\\u5229\\uff1f\"}\n",
      "=== Calling Function ===\n",
      "Calling function: query_engine_西游记 with args: {\"input\": \"\\u609f\\u7a7a\\u548c\\u516b\\u6212\\u662f\\u5982\\u4f55\\u5bf9\\u4ed8\\u90a3\\u6761\\u7ea2\\u8272\\u7684\\u5927\\u87d2\\u86c7\\u7684\\uff1f\\u8bf7\\u7b80\\u8981\\u63cf\\u8ff0\\u4ed6\\u4eec\\u7684\\u7b56\\u7565\\u3002\"}\n",
      "=== Calling Function ===\n",
      "Calling function: query_engine_西游记 with args: {\"input\": \"\\u5b59\\u609f\\u7a7a\\u7b49\\u4eba\\u5728\\u4e0e\\u9ec4\\u72ee\\u7cbe\\u6218\\u6597\\u65f6\\uff0c\\u5b59\\u609f\\u7a7a\\u662f\\u5982\\u4f55\\u5e94\\u5bf9\\u9ec4\\u72ee\\u7cbe\\u7684\\u8d28\\u95ee\\u7684\\uff1f\\u8bf7\\u8be6\\u7ec6\\u63cf\\u8ff0\\u8fd9\\u4e00\\u8fc7\\u7a0b\\u3002\"}\n",
      "=== Calling Function ===\n",
      "Calling function: query_engine_红楼梦 with args: {\"input\": \"\\u5728\\u300a\\u7ea2\\u697c\\u68a6\\u300b\\u7684\\u8fd9\\u4e2a\\u7247\\u6bb5\\u4e2d\\uff0c\\u63a2\\u6625\\u7ed9\\u5b9d\\u7389\\u8d77\\u4e86\\u4ec0\\u4e48\\u53f7\\uff1f\\u4e3a\\u4ec0\\u4e48\\u5979\\u540e\\u6765\\u53c8\\u6539\\u7528\\u201c\\u6f47\\u6e58\\u5983\\u5b50\\u201d\\u4f5c\\u4e3a\\u5b9d\\u9497\\u7684\\u522b\\u53f7\\uff1f\\u8bf7\\u6839\\u636e\\u6587\\u4e2d\\u7684\\u5bf9\\u8bdd\\u89e3\\u91ca\\u539f\\u56e0\\u3002\"}\n",
      "=== Calling Function ===\n",
      "Calling function: query_engine_红楼梦 with args: {\"input\": \"\\u51e4\\u59d0\\u513f\\u624b\\u6301\\u660e\\u6643\\u6643\\u7684\\u5200\\u780d\\u8fdb\\u56ed\\u91cc\\uff0c\\u4f17\\u4eba\\u5e94\\u5bf9\"}\n",
      "=== Calling Function ===\n",
      "Calling function: query_engine_水浒传 with args: {\"input\": \"\\u5728\\u6bd4\\u7bad\\u6bd4\\u8d5b\\u4e2d\\uff0c\\u6768\\u5fd7\\u662f\\u5982\\u4f55\\u5e94\\u5bf9\\u5468\\u8c28\\u7684\\u4e09\\u6b21\\u5c04\\u7bad\\u653b\\u51fb\\u7684\\uff1f\\u8bf7\\u8be6\\u7ec6\\u63cf\\u8ff0\\u3002\"}\n",
      "=== Calling Function ===\n",
      "Calling function: query_engine_水浒传 with args: {\"input\": \"\\u5728\\u5c0f\\u8bf4\\u4e2d\\uff0c\\u6234\\u5b97\\u524d\\u5f80\\u84df\\u5dde\\u8bf7\\u516c\\u5b59\\u80dc\\u65f6\\uff0c\\u9047\\u5230\\u4e86\\u54ea\\u4f4d\\u597d\\u6c49\\uff0c\\u5e76\\u4e14\\u8fd9\\u597d\\u6c49\\u4e0e\\u6768\\u6797\\u662f\\u4ec0\\u4e48\\u5173\\u7cfb\\uff1f\\u8fd9\\u4f4d\\u597d\\u6c49\\u7684\\u7ef0\\u53f7\\u548c\\u59d3\\u540d\\u5206\\u522b\\u662f\\u4ec0\\u4e48\\uff1f\"}\n",
      "=== Calling Function ===\n",
      "Calling function: query_engine_红楼梦 with args: {\"input\": \"\\u859b\\u87e0\\u88ab\\u6253\\u4f24\\u540e\\uff0c\\u5b9d\\u9497\\u63d0\\u51fa\\u4e86\\u600e\\u6837\\u7684\\u89e3\\u51b3\\u529e\\u6cd5\"}\n",
      "=== Calling Function ===\n",
      "Calling function: query_engine_水浒传 with args: {\"input\": \"\\u9c81\\u667a\\u6df1\\u5728\\u5bfa\\u91cc\\u60f9\\u51fa\\u7684\\u6700\\u5927\\u9ebb\\u70e6\\u662f\\u4ec0\\u4e48\\uff1f\\u4ed6\\u56e0\\u6b64\\u5f97\\u5230\\u4e86\\u4ec0\\u4e48\\u6837\\u7684\\u5bf9\\u5f85\\uff1f\"}\n",
      "=== Calling Function ===\n",
      "Calling function: query_engine_三国演义 with args: {\"input\": \"\\u5728\\u4f55\\u8fdb\\u88ab\\u6740\\u540e\\uff0c\\u8c01\\u5e26\\u9886\\u519b\\u961f\\u51b2\\u5165\\u7687\\u5bab\\uff0c\\u5e76\\u662f\\u5982\\u4f55\\u5bf9\\u5f85\\u9047\\u5230\\u7684\\u5ba6\\u5b98\\u7684\\uff1f\"}\n",
      "\u001b[1;3;38;5;200mSelecting query engine 1: 这个问题是关于《水浒传》中具体情节的总结，因此选择(2) Useful for summarization questions related to documents更为合适。.\n",
      "\u001b[0m\u001b[1;3;38;5;200mSelecting query engine 1: 这个问题涉及对《红楼梦》中特定段落的理解和总结，需要根据文中的对话来解释原因，因此更符合第二项摘要的描述。.\n",
      "\u001b[0m\u001b[1;3;38;5;200mSelecting query engine 1: 这个问题要求简要描述悟空和八戒对付大蟒蛇的策略，这更偏向于对文档内容进行总结。选项(1)强调的是从文档中检索特定上下文，与问题的要求不完全匹配。.\n",
      "\u001b[0m\u001b[1;3;38;5;200mSelecting query engine 0: 问题要求描述一个具体的情节过程，这与第一个摘要选项‘ Useful for retrieving specific context from the documents’（有助于从文档中检索特定背景信息）更为相关。.\n",
      "\u001b[0m\u001b[1;3;38;5;200mSelecting query engine 1: 这个问题是关于《水浒传》中角色的关系和身份，属于文献总结类问题，需要从文档中提取相关信息来回答。.\n",
      "\u001b[0m\u001b[1;3;38;5;200mSelecting query engine 1: 这个问题需要从文档中提取关键信息并进行总结，以回答宝钗提出的解决办法。.\n",
      "\u001b[0m\u001b[1;3;38;5;200mSelecting query engine 1: 问题涉及对文档内容的详细描述，因此更倾向于使用总结来回答此类问题。.\n",
      "\u001b[0m\u001b[1;3;38;5;200mSelecting query engine 0: 该句子描述了特定的情境，即凤姐儿手持刀砍进园里，这涉及到从文档中提取具体背景信息的任务。.\n",
      "\u001b[0m\u001b[1;3;38;5;200mSelecting query engine 0: 问题涉及到从文档中提取特定的情节和事件，即鲁智深在寺里惹出的最大麻烦及其后果。这需要检索具体的上下文信息，因此选择(1)最为相关。.\n",
      "\u001b[0m\u001b[1;3;38;5;200mSelecting query engine 1: 这个问题涉及到了文档中的具体事件和人物，类似于一个总结性的问题，需要从文字段落中提取关键信息来回答。.\n",
      "\u001b[0m=== Function Output ===\n",
      "在何进被杀后，袁绍和曹操带领军队冲入了皇宫。他们因为等了很久不见何进出宫，就在门外大声叫喊请大将军上车。随后何进的人头从墙里被扔了出来，这让袁绍和曹操非常愤怒，于是他们挥舞着宝剑进入宫内，对遇到的宦官不论大小一律杀死，导致皇宫内火光冲天。\n",
      "> Running step 87c9cf82-4c4f-44f9-9fe0-2c1a40170892. Step input: None\n",
      "=== Function Output ===\n",
      "凤姐儿并没有手持明晃晃的刀砍进园里。根据上下文，她和王家的人一起进了大观园进行检查。在探春处时，探春明确表示不让查丫头们的箱子，并且自己打开了所有箱柜供众人查看。随后，宝玉和一众丫鬟也在怡红院等地方应对了检查人员的行动。晴雯还通过假装生病来拖延时间，让宝玉得以躲过这次搜查。最终，众人闹到天亮也没有找到任何踪迹。\n",
      "> Running step e529a2c9-e113-4113-a0dd-fb6eaebbb5d6. Step input: None\n",
      "=== Function Output ===\n",
      "在小说中，戴宗前往蓟州请公孙胜时，遇到的好汉是李逵。李逵和杨林都是梁山泊的好汉。李逵的绰号是“黑旋风”，本名李逵。而杨林则是锦豹子的称号。\n",
      "> Running step 75c4e39a-51e5-437b-a780-75c8bcb996ae. Step input: None\n",
      "=== Function Output ===\n",
      "鲁智深在大相国寺里的最大麻烦是二三十个破落子弟的挑衅。这些泼皮为了阻止鲁智深管理菜园，制定了一个计划，在菜地里制造混乱。不过，鲁智深并没有被他们的计谋吓倒，反而展现了他勇猛和不畏强暴的一面。\n",
      "\n",
      "因此，他得到了更为具体的职事僧职务。起初，都寺和知客对他有几分抵触情绪，认为他的行为不符合出家人的形象，但最终还是安排他去管理酸枣门外的菜园。虽然这个任务看似不起眼，但对于鲁智深来说，却是一个新的开始，也是他在寺内立足的机会。\n",
      "> Running step 7b870b0b-bac8-4cb6-92c1-d044d6780409. Step input: None\n",
      "=== Function Output ===\n",
      "当孙悟空他们进入洞中后，看见大厅正中的石桌上供奉着他们的三件兵器。黄狮精见状赶紧跟了进来，在他们身后叮嘱说：“这位客商，中间摆放的那把就是钉耙，你看可以，出去后可千万不要给别人乱说。”然而猪八戒见到他的钉耙再也沉不住气，直接跳上石桌抢过兵器，并现出原形攻击黄狮精。面对突如其来的攻击，黄狮精显得十分惊讶和慌张，连忙取出四明铲并质问：“你们是什么人，敢来抢我的宝贝？”\n",
      "\n",
      "孙悟空并没有被黄狮精的质问所动摇，他直接回应道：“你这贼喊捉贼！自己偷东西反倒诬赖别人抢劫！”言语间充满了对黄狮精无耻行为的指责。随后，他们从洞里杀出一条路来到洞外，黄狮精由于打不过他们，便试图通过虚晃一招来寻找逃脱的机会，最终选择向东南方向逃跑了。\n",
      "\n",
      "孙悟空并未追击黄狮精，而是说：“就让他跑吧！咱们断了他回来的路。”于是三人来到洞口，消灭了所有的小妖。在清理完洞中的财物后，他们用法术将猪羊、钱财和小妖尸体一起运回玉华府，并向玉华王父子及师父讲述此次战斗的经历。\n",
      "> Running step 06ff2684-c3f6-4baa-b8d6-120918e11a1d. Step input: None\n",
      "=== Function Output ===\n",
      "根据提供的信息，故事中并没有提到孙悟空和猪八戒如何对付一条红色大蟒蛇的情节。这些段落主要讲述了他们与其他妖怪和强盗的遭遇及战斗经历。因此，无法提供关于悟空和八戒对付红色大蟒蛇的具体策略。如果有关于这一情节的详细描述，请提供相关信息。\n",
      "> Running step 5dffccc5-ca37-4bf1-a9a6-58463e359a82. Step input: None\n",
      "=== Function Output ===\n",
      "根据提供的信息，在鲁智深救林冲的时候，并没有直接描述他使用某种方法来让董超和薛霸不敢再对林冲不利。鲁智深举起禅杖格挡住了董超和薛霸的攻击，这使得两人受到了震慑，但并没有进一步说明鲁智深采取了什么特别行动来确保他们不敢再次伤害林冲。\n",
      "\n",
      "实际上，在后续的情节中，是燕青救了林冲，并且在董超和薛霸杀害林冲未遂之后，树上跳下的人用箭射杀了董超并救下了卢俊义。因此，如果要回答鲁智深用了什么方法让董超、薛霸不敢再对他们不利的问题，正确的答案应该是燕青的行为而不是鲁智深直接针对董超和薛霸的行动。\n",
      "> Running step d82dbd78-a3d9-4992-bc29-93f8b81a1a58. Step input: None\n",
      "=== Function Output ===\n",
      "根据提供的信息，文中并未直接提到薛蟠被打伤的情节。不过，根据后续的信息补充，宝钗提出的方法是不惜花费银两，买通县太爷与当案师爷，设法将案卷中的“打死”改为“误伤”，从而试图将死罪改判为流徙。最终，在经过努力和进一步的花钱疏通后，薛蟠成功翻供。\n",
      "> Running step 9bdbb28d-ede2-4fd8-a54d-90495fc0cc38. Step input: None\n",
      "=== LLM Response ===\n",
      "在何进被杀后，袁绍和曹操带领军队冲入了皇宫。因为他们等了很久不见何进出宫，在门外大声叫喊请大将军上车。随后何进的人头从墙里被扔了出来，这让袁绍和曹操非常愤怒，于是他们挥舞着宝剑进入宫内，对遇到的宦官不论大小一律杀死，导致皇宫内火光冲天。\n",
      "=== LLM Response ===\n",
      "在小说中，戴宗前往蓟州请公孙胜时遇到的是好汉李逵。李逵和杨林都是梁山泊的好汉。李逵的绰号是“黑旋风”，本名李逵。而锦豹子则是杨林的称号。\n",
      "=== LLM Response ===\n",
      "根据描述，在这个情节中，并没有提到凤姐儿手持明晃晃的刀砍进园里的情景。实际上，是凤姐和王家的人一起进入大观园进行检查。在探春处时，探春明确表示不让查丫头们的箱子，并且自己打开了所有箱柜供众人查看。随后，在怡红院等地方，宝玉和其他丫鬟也应对了检查人员的行动。其中，晴雯还通过假装生病拖延时间，让宝玉得以躲过这次搜查。最终，众人闹到天亮也没有找到任何踪迹。\n",
      "=== Function Output ===\n",
      "在比箭比赛中，面对周谨的三次射箭攻击，杨志展现了卓越的武艺和高超的防护技巧。比赛开始时，在梁中书一声令下后，杨志迅速上马，并采取了有效的防护措施。\n",
      "\n",
      "首先，当周谨的第一箭向杨志后心袭来时，杨志巧妙地用弓梢将这箭拨落在地；接着，第二箭再次射向杨志，这一次他利用了“镫里藏身”的技巧成功避开了攻击；在第三箭即将到达之时，杨志敏捷地伸手抓住了那支飞来的箭。原本计划射击展示实力的杨志，在这一关键时刻决定手下留情，将箭头抬高了一些，最终只是正中周谨左肩，并没有造成致命伤害，使得周谨应声落马。\n",
      "\n",
      "通过这些反应，可以看出杨志不仅武艺高强，而且在危急时刻还能保持冷静，谨慎行事。\n",
      "> Running step 656ba83a-c4ff-4bf9-8900-2bda5d8db572. Step input: None\n",
      "=== LLM Response ===\n",
      "在大相国寺里，鲁智深惹出了二三十个破落子弟的挑衅作为最大的麻烦。这些泼皮试图通过制造菜园里的混乱来阻止他管理菜园，但鲁智深并没有因此退缩，而是展现了勇猛和不畏强暴的一面。\n",
      "\n",
      "因此，他得到了更为具体的职事僧职务。起初，都寺和知客对他的行为有所抵触，认为不符合出家人的形象。然而最终还是安排他去管理酸枣门外的菜园。尽管这个任务看似不起眼，但却是鲁智深在寺内立足的一个机会。\n",
      "=== LLM Response ===\n",
      "根据提供的信息，在《西游记》的故事中，并没有提到孙悟空和猪八戒如何对付一条红色的大蟒蛇的情节。这些段落主要讲述了他们与其他妖怪和强盗的遭遇及战斗经历。因此，无法提供关于悟空和八戒对付红色大蟒蛇的具体策略。如果有关于这一情节的详细描述，请提供相关信息。\n",
      "=== LLM Response ===\n",
      "孙悟空等人进入黄狮精的洞穴时，发现石桌上摆放着他们的三件兵器。面对黄狮精的警告，猪八戒忍不住跳上石桌抢过兵器并现出原形进行攻击。黄狮精见状十分惊讶和慌张，掏出四明铲质问他们到底是什么人竟敢来抢他的宝贝。\n",
      "\n",
      "孙悟空没有被这个问题所动摇，他反击道：“你这贼喊捉贼！自己偷东西反倒诬赖别人抢劫！”接着，孙悟空与猪八戒、沙僧从洞中杀出一条出路来到洞外。黄狮精见状试图通过虚晃一招寻找逃脱的机会，但最终还是选择了向东南方向逃跑。\n",
      "\n",
      "然而，孙悟空并没有选择追击黄狮精，而是对猪八戒说：“就让他跑吧！咱们断了他回来的路。”于是三人来到洞口消灭了所有的小妖，并清理了洞中的财物。他们将这些猪羊、钱财和小妖尸体用法术一起运回玉华府，并向玉华王父子及师父讲述了此次战斗的经历。\n",
      "=== LLM Response ===\n",
      "实际上，在情节中，并没有详细描述鲁智深使用某种特定的方法来确保董超和薛霸不敢再次伤害林冲。但在后续的情节中，是燕青救下了林冲，并且在董超和薛霸杀害林冲未遂之后，树上跳下的人用箭射杀了董超并救下了卢俊义。因此，在那个场景中，可以认为是燕青的行为使得董超和薛霸不敢再对林冲不利。鲁智深当时通过武力震慑了董超和薛霸，但这并不是直接确保他们不敢再次伤害林冲的方法。\n",
      "=== LLM Response ===\n",
      "根据《红楼梦》的情节描述，宝钗在得知薛蟠被打伤并可能面临重刑的消息后，提出了不惜花费大量银两买通县太爷与当案师爷的方法，将案件中“打死”的字眼改为“误伤”，企图将死刑改判为流放。这个建议体现了宝钗聪明机智、处事冷静的性格特点以及她愿意为了保护家人而不惜一切代价的忠诚情感。\n",
      "=== Function Output ===\n",
      "在《红楼梦》的这个片段中，并没有提到探春为宝玉起过任何号。关于“潇湘妃子”的称呼，探春并不是首次提出这个别号的人。实际上，在怡红公子（即宝玉）所在的海棠诗社成立过程中，是探春提议将“潇湘妃子”作为宝钗的别号。探春这样做是因为宝钗的诗作被大家赞誉为风流别致、含蓄浑厚，这与“潇湘妃子”的形象相契合。\n",
      "\n",
      "至于探春后来为何改用“潇湘妃子”作为宝钗的别号，并非文中直接解释的原因，而是基于对人物性格和居住环境的理解。具体来说，“潇湘妃子”这个别号源自于黛玉居住在大观园中的潇湘馆以及她的多愁善感的性格特质。探春可能故意将宝钗也比作黛玉，用以调侃或讽刺宝钗的处境或性格特点。\n",
      "\n",
      "另外，在《红楼梦》中确实有提到探春曾戏谑地称呼宝钗为“潇湘妃子”。这一情节发生在众人解九连环的游戏过程中，周瑞家的人将贾母赏赐的鲜花带到了宝玉房内，黛玉在场时说出了那句关于别人挑剩下的花不给她的讽刺话后，周瑞家的没有回应。随后宝玉询问周瑞家的去向以及她为何要去那边，周瑞家的回答中提到了宝钗生病的事，而此时黛玉又开玩笑地说：“我就知道，别人不挑剩下的也不给我。”这里的“潇湘妃子”是众人对黛玉的戏称，源自于黛玉居住在大观园中的潇湘馆以及她的诗作《葬花吟》等情节。\n",
      "\n",
      "需要注意的是，“潇湘妃子”实际上是林黛玉的雅号之一。探春提出这个别号时，并没有直接提到她为什么选择这个名字，而是可能基于宝钗的风流别致、含蓄浑厚的性格特点和诗作风格。\n",
      "> Running step 08787ce9-e03a-4d6f-acde-82b85c5b411f. Step input: None\n",
      "=== LLM Response ===\n",
      "在比箭比赛中，面对周谨的三次射箭攻击，杨志展现了卓越的武艺和高超的防护技巧。比赛开始时，在梁中书一声令下后，杨志迅速上马，并采取了有效的防护措施。\n",
      "\n",
      "首先，当周谨的第一箭向杨志后心袭来时，杨志巧妙地用弓梢将这箭拨落在地；接着，第二箭再次射向杨志，这一次他利用了“镫里藏身”的技巧成功避开了攻击；在第三箭即将到达之时，杨志敏捷地伸手抓住了那支飞来的箭。原本计划射击展示实力的杨志，在这一关键时刻决定手下留情，将箭头抬高了一些，最终只是正中周谨左肩，并没有造成致命伤害，使得周谨应声落马。\n",
      "\n",
      "通过这些反应，可以看出杨志不仅武艺高强，而且在危急时刻还能保持冷静，谨慎行事。\n",
      "=== LLM Response ===\n",
      "根据《红楼梦》中的情节描述，在怡红公子（即宝玉）所在的海棠诗社成立过程中，探春确实提议将“潇湘妃子”作为宝钗的别号。这主要是因为：\n",
      "\n",
      "1. **探春提议的原因**：宝钗的诗作被大家赞誉为风流别致、含蓄浑厚，这些特质与“潇湘妃子”的形象相契合。“潇湘妃子”这个别号源自于黛玉居住在大观园中的潇湘馆以及她的多愁善感的性格特质。因此，探春选择用“潇湘妃子”来比喻宝钗。\n",
      "\n",
      "2. **具体的情节背景**：这发生在众人解九连环的游戏过程中，周瑞家的人将贾母赏赐的鲜花带到了宝玉房内。黛玉在场时说出了那句关于别人挑剩下的花不给她的讽刺话后，周瑞家的没有回应。随后宝玉询问周瑞家的去向以及她为何要去那边，周瑞家的回答中提到了宝钗生病的事，而此时黛玉又开玩笑地说：“我就知道，别人不挑剩下的也不给我。”这里的“潇湘妃子”是众人对黛玉的戏称，源自于黛玉居住在大观园中的潇湘馆以及她的诗作风格。\n",
      "\n",
      "3. **探春的态度**：虽然文中没有直接解释探春为什么选择这个名字，但可以推测她可能是出于幽默和调侃的目的，将宝钗与黛玉相提并论，暗示宝钗也有类似黛玉的风流别致、含蓄浑厚的性格特点。\n",
      "\n",
      "综上所述，探春之所以提出“潇湘妃子”作为宝钗的别号，主要是因为宝钗的诗作风格和性格特质与这个别号的形象相符。\n",
      "> Running step 3aa2349d-fc8e-428c-93de-3fa2a11cc7be. Step input: 在西游记的这段情节中，唐僧一行遇到了什么危险？他们是如何被救出来的？请简要描述。\n",
      "Added user message to memory: 在西游记的这段情节中，唐僧一行遇到了什么危险？他们是如何被救出来的？请简要描述。\n",
      "> Running step 8dfd4030-c27d-4a6c-bfc8-9ebea32ddeaa. Step input: 孙悟空是如何获得芭蕉扇的？请简述整个过程。\n",
      "Added user message to memory: 孙悟空是如何获得芭蕉扇的？请简述整个过程。\n",
      "> Running step 7ba70af1-98dd-4a99-b232-131ec27abbd8. Step input: 贾母给黛玉派了鹦哥作为伴读，而王嬷嬷和雪雁分别负责谁的照顾？为什么贾母会做出这样的安排？\n",
      "Added user message to memory: 贾母给黛玉派了鹦哥作为伴读，而王嬷嬷和雪雁分别负责谁的照顾？为什么贾母会做出这样的安排？\n",
      "> Running step 2ee3357d-6171-47a5-9bac-7af1e905002f. Step input: 在宋江等人逃亡的过程中，遇到了哪位好汉？这位好汉的名字叫什么？他为什么愿意帮助宋江等人？\n",
      "Added user message to memory: 在宋江等人逃亡的过程中，遇到了哪位好汉？这位好汉的名字叫什么？他为什么愿意帮助宋江等人？\n",
      "> Running step 3e35d0ea-a0d2-46ea-9345-653148c003a6. Step input: 这段故事中，唐僧师徒四人遇到的寇员外是一个怎样的人？他因为什么原因要留唐僧他们多住几天？\n",
      "Added user message to memory: 这段故事中，唐僧师徒四人遇到的寇员外是一个怎样的人？他因为什么原因要留唐僧他们多住几天？\n",
      "> Running step 4b536c4f-147e-4ce9-859d-fac28c131470. Step input: 传单上威胁梁中书若敢动卢俊义和石秀二人，将会有什么后果？请根据文中的内容回答。\n",
      "Added user message to memory: 传单上威胁梁中书若敢动卢俊义和石秀二人，将会有什么后果？请根据文中的内容回答。\n",
      "> Running step 8fa9265c-e895-4187-ab84-947e915e3526. Step input: 在孙悟空和沙僧与狮精战斗后，他们是如何得知唐僧和玉华王父子被九灵元圣捉走的？请详细描述相关情节。\n",
      "Added user message to memory: 在孙悟空和沙僧与狮精战斗后，他们是如何得知唐僧和玉华王父子被九灵元圣捉走的？请详细描述相关情节。\n",
      "> Running step d263d16b-00ac-4f50-996c-00cb560144e2. Step input: 根据文中的描述，袭人写诗时感到身体不适，具体表现为哪种症状？她最终是怎么入睡的？\n",
      "Added user message to memory: 根据文中的描述，袭人写诗时感到身体不适，具体表现为哪种症状？她最终是怎么入睡的？\n",
      "> Running step 9871a12b-d28c-4f64-86bb-00ac0691a01f. Step input: 在孙悟空进入压龙洞后，遇到了什么样的情况？后来孙悟空是如何揭示老妖婆的真实身份的？请简要描述这个过程。\n",
      "Added user message to memory: 在孙悟空进入压龙洞后，遇到了什么样的情况？后来孙悟空是如何揭示老妖婆的真实身份的？请简要描述这个过程。\n",
      "> Running step 16c6035d-e47b-487e-a042-b930e45d0c55. Step input: 根据文中的描述，宋江和吴用面对高廉的妖术时，提出了什么策略来破敌救出柴进？请简要说明。\n",
      "Added user message to memory: 根据文中的描述，宋江和吴用面对高廉的妖术时，提出了什么策略来破敌救出柴进？请简要说明。\n",
      "=== Calling Function ===\n",
      "Calling function: query_engine_西游记 with args: {\"input\": \"\\u5b59\\u609f\\u7a7a\\u662f\\u5982\\u4f55\\u83b7\\u5f97\\u82ad\\u8549\\u6247\\u7684\\uff1f\\u8bf7\\u7b80\\u8ff0\\u6574\\u4e2a\\u8fc7\\u7a0b\\u3002\"}\n",
      "=== Calling Function ===\n",
      "Calling function: query_engine_西游记 with args: {\"input\": \"\\u5bc7\\u5458\\u5916\\u662f\\u600e\\u6837\\u7684\\u4eba\\uff0c\\u4ed6\\u4e3a\\u4ec0\\u4e48\\u60f3\\u8ba9\\u5510\\u50e7\\u5e08\\u5f92\\u591a\\u4f4f\\u51e0\\u5929\"}\n",
      "=== Calling Function ===\n",
      "Calling function: query_engine_西游记 with args: {\"input\": \"\\u5728\\u897f\\u6e38\\u8bb0\\u7684\\u8fd9\\u6bb5\\u60c5\\u8282\\u4e2d\\uff0c\\u5510\\u50e7\\u4e00\\u884c\\u9047\\u5230\\u4e86\\u4ec0\\u4e48\\u5371\\u9669\\uff1f\\u4ed6\\u4eec\\u662f\\u5982\\u4f55\\u88ab\\u6551\\u51fa\\u6765\\u7684\\uff1f\\u8bf7\\u7b80\\u8981\\u63cf\\u8ff0\\u3002\"}\n",
      "=== Calling Function ===\n",
      "Calling function: query_engine_西游记 with args: {\"input\": \"\\u5b59\\u609f\\u7a7a\\u548c\\u6c99\\u50e7\\u4e0e\\u72ee\\u7cbe\\u6218\\u6597\\u540e\\u5982\\u4f55\\u5f97\\u77e5\\u5510\\u50e7\\u548c\\u7389\\u534e\\u738b\\u7236\\u5b50\\u88ab\\u4e5d\\u7075\\u5143\\u5723\\u6349\\u8d70\"}\n",
      "=== Calling Function ===\n",
      "Calling function: query_engine_红楼梦 with args: {\"input\": \"\\u88ad\\u4eba\\u5728\\u5199\\u8bd7\\u65f6\\u611f\\u5230\\u8eab\\u4f53\\u4e0d\\u9002\\uff0c\\u5177\\u4f53\\u8868\\u73b0\\u4e3a\\u54ea\\u79cd\\u75c7\\u72b6\\uff1f\\u5979\\u6700\\u7ec8\\u662f\\u600e\\u4e48\\u5165\\u7761\\u7684\\uff1f\"}\n",
      "=== Calling Function ===\n",
      "Calling function: query_engine_西游记 with args: {\"input\": \"\\u5b59\\u609f\\u7a7a\\u8fdb\\u5165\\u538b\\u9f99\\u6d1e\\u540e\\u9047\\u5230\\u4e86\\u4ec0\\u4e48\\u60c5\\u51b5\\u4ee5\\u53ca\\u4ed6\\u662f\\u5982\\u4f55\\u63ed\\u7a7f\\u8001\\u5996\\u5a46\\u771f\\u8eab\\u7684\\u8fc7\\u7a0b\"}\n",
      "=== Calling Function ===\n",
      "Calling function: query_engine_水浒传 with args: {\"input\": \"\\u5b8b\\u6c5f\\u548c\\u5434\\u7528\\u9762\\u5bf9\\u9ad8\\u5ec9\\u7684\\u5996\\u672f\\u65f6\\uff0c\\u63d0\\u51fa\\u4e86\\u4ec0\\u4e48\\u7b56\\u7565\\u6765\\u7834\\u654c\\u6551\\u51fa\\u67f4\\u8fdb\"}\n",
      "=== Calling Function ===\n",
      "Calling function: query_engine_红楼梦 with args: {\"input\": \"\\u738b\\u5b37\\u5b37\\u548c\\u96ea\\u96c1\\u5206\\u522b\\u8d1f\\u8d23\\u8c01\\u7684\\u7167\\u987e\\uff1f\\u4e3a\\u4ec0\\u4e48\\u8d3e\\u6bcd\\u4f1a\\u505a\\u51fa\\u8fd9\\u6837\\u7684\\u5b89\\u6392\\uff1f\"}\n",
      "=== Calling Function ===\n",
      "Calling function: query_engine_水浒传 with args: {\"input\": \"\\u4f20\\u5355\\u4e0a\\u5a01\\u80c1\\u6881\\u4e2d\\u4e66\\u82e5\\u6562\\u52a8\\u5362\\u4fca\\u4e49\\u548c\\u77f3\\u79c0\\u4e8c\\u4eba\\uff0c\\u5c06\\u4f1a\\u6709\\u4ec0\\u4e48\\u540e\\u679c\\uff1f\"}\n",
      "\u001b[1;3;38;5;200mSelecting query engine 1: 这个问题是关于提取故事文档中的具体情节，因此更适用于总结性问题。.\n",
      "\u001b[0m\u001b[1;3;38;5;200mSelecting query engine 0: 该问题涉及从文档中提取特定的情节和细节，因此最相关的选项是(1)，它可以用于从文档中检索特定的上下文。.\n",
      "\u001b[0m\u001b[1;3;38;5;200mSelecting query engine 0: 问题涉及从文档中提取特定的背景信息和人物描述，这与第一个摘要选项‘ Useful for retrieving specific context from the documents’ 更相关。.\n",
      "\u001b[0m\u001b[1;3;38;5;200mSelecting query engine 0: 问题涉及从文本中提取具体上下文信息，即西游记中唐僧一行遇到的危险以及如何被救出。这需要从文档中找到相关部分并进行检索和理解，与选项(1)相符。.\n",
      "\u001b[0m\u001b[1;3;38;5;200mSelecting query engine 0: 问题涉及具体症状和入睡方式，更适合需要从文档中提取特定上下文信息的场景。.\n",
      "\u001b[0m\u001b[1;3;38;5;200mSelecting query engine 1: 这个问题是关于故事情节的总结，需要从文档中提取相关信息来回答孙悟空和沙僧如何得知唐僧和玉华王被九灵元圣捉走的情节。因此，与用于摘要问题相关的文档的信息抽取最相关。.\n",
      "\u001b[0m=== Calling Function ===\n",
      "Calling function: query_engine_水浒传 with args: {\"input\": \"\\u5728\\u5b8b\\u6c5f\\u7b49\\u4eba\\u9003\\u4ea1\\u7684\\u8fc7\\u7a0b\\u4e2d\\uff0c\\u9047\\u5230\\u4e86\\u54ea\\u4f4d\\u597d\\u6c49\\uff1f\\u8fd9\\u4f4d\\u597d\\u6c49\\u7684\\u540d\\u5b57\\u53eb\\u4ec0\\u4e48\\uff1f\\u4ed6\\u4e3a\\u4ec0\\u4e48\\u613f\\u610f\\u5e2e\\u52a9\\u5b8b\\u6c5f\\u7b49\\u4eba\\uff1f\"}\n",
      "\u001b[1;3;38;5;200mSelecting query engine 1: 这个问题涉及对文档内容的理解和总结，特别是关于王嬷嬷和雪雁分别负责照顾的人物以及贾母做出这样安排的原因。这需要从文档中提取相关信息并进行概括，因此更适合选择(2) ' Useful for summarization questions related to documents'。.\n",
      "\u001b[0m\u001b[1;3;38;5;200mSelecting query engine 1: 该问题涉及对文档内容的总结和理解，需要从给定的文档中提取关键策略来回答关于宋江、吴用如何破敌救出柴进的问题。.\n",
      "\u001b[0m\u001b[1;3;38;5;200mSelecting query engine 1: 这个问题涉及到对文档内容的总结和理解，需要从传单的内容中提取关键信息来回答关于卢俊义和石秀二人的威胁后果的问题。.\n",
      "\u001b[0m\u001b[1;3;38;5;200mSelecting query engine 0: 问题涉及从文档中提取特定背景信息，即在宋江等人逃亡过程中遇到的好汉及其相关信息。这与第一个选项'有用於从文件中检索特定背景信息'最为相关。.\n",
      "\u001b[0m=== Function Output ===\n",
      "根据提供的信息，寇员外是一个诚实的人，并未有迹象显示他想让唐僧师徒多住几天。相反，在文中描述的情节中，悟空去到寇家后，是寇员外的两个儿子因惧怕而连忙磕头答应天亮就去官府救唐僧师徒，而不是寇员外本人有这样的意图。文中没有提到寇员外希望唐僧师徒停留的原因。\n",
      "> Running step 690983ea-6f40-45e4-b44a-b095b67dcdfe. Step input: None\n",
      "=== Function Output ===\n",
      "根据提供的信息，袭人并没有在写诗时感到身体不适。实际上，在21章中提到的是黛玉生病了，而袭人得知此事后，回明贾母并请医诊治。后来，袭人在夜间得知宝玉因为心疼而惊醒，但她并没有表现出因写诗而生病的症状。最后，袭人是在屋内照料黛玉，并未提及她具体是如何入睡的。\n",
      "> Running step a099df40-e9fb-484f-9868-586c5b7650bd. Step input: None\n",
      "=== Function Output ===\n",
      "在西游记的这一段情节中，唐僧一行人遭遇了妖怪的袭击。他们在夜间上山时，不慎坠入了一个深坑，并被一群妖怪捉住。唐僧等人被捆绑并险些成为妖怪的食物。\n",
      "\n",
      "他们最终获救是在天快亮的时候，一个手持拐杖的老者出现了，挥动拐杖解开了绳子并将唐僧唤醒。这个老人是太白金星，他告诉唐僧这个地方叫双叉岭，并带唐僧离开了妖怪的范围。唐僧在感激中得知了救他的真相后，继续赶路，在危急时刻遇到了一位手持钢叉、腰挂弓箭的大汉，这些野兽因此逃走，为唐僧一行人解除了危险。\n",
      "> Running step 5e5faf24-997a-4276-be95-0e0e89f66965. Step input: None\n",
      "=== Function Output ===\n",
      "在宋江等人逃亡的过程中，他们遇到了混江龙李俊。李俊的名字叫张横，是专门在江里做买卖的船伙儿。当李俊认出宋江时，他立即前来相救，并主动邀请宋江上船避难。李俊愿意帮助宋江等人是因为他认识宋江，知道宋江的名声，并且出于好心不想让宋江陷入危险之中。\n",
      "> Running step 9e8ac3d7-ec54-4b72-8327-d5dc8bf1b801. Step input: None\n",
      "=== Function Output ===\n",
      "根据提供的信息，并没有提到任何关于传单威胁梁中书若敢动卢俊义和石秀二人的内容。因此无法得知传单上会有什么具体后果。这些章节主要讲述了其他情节，未涉及针对这两位人物的具体威胁事件。\n",
      "> Running step dd03a142-e1bf-418c-9e6f-348c43a9195a. Step input: None\n",
      "=== Function Output ===\n",
      "根据提供的信息，宋江和吴用并没有直接提出针对高廉妖术的具体破敌策略。他们主要依赖的是公孙胜的能力来破解高廉的法术，并最终通过实际行动如押送高廉满门等手段解救了柴进。具体来说，他们的关键行动包括派遣戴宗请回公孙胜，以及采取军事行动将高廉等人送往刑场处理。\n",
      "> Running step 6f6dcba8-2e37-4da1-ab98-df563772dc9f. Step input: None\n",
      "=== Function Output ===\n",
      "孙悟空获得芭蕉扇的过程大致如下：\n",
      "\n",
      "1. **求助铁扇公主**：在火焰山，孙悟空得知需要借芭蕉扇来灭火。他前往牛魔王的妻子铁扇公主那里请求借用。\n",
      "\n",
      "2. **第一次失败**：首次向铁扇公主借扇被拒绝，后来因为与红孩儿的冲突得到了金箍棒。\n",
      "\n",
      "3. **第二次尝试**：孙悟空再次找铁扇公主借扇，但这次她给了假芭蕉扇。孙悟空虽然获得了假扇，但这并没有解决问题。\n",
      "\n",
      "4. **第三次成功**：最终，在观音菩萨的帮助下，孙悟空通过智谋让铁扇公主借用真芭蕉扇，并成功熄灭了火焰山的烈火。\n",
      "> Running step 050beadd-5f9b-403e-a580-59db83994d38. Step input: None\n",
      "=== Function Output ===\n",
      "孙悟空进入压龙洞后，他先是变成一个普通小妖的样子拿着令旗进入了洞内。在洞前，一些小妖排列成阵势站在门口，并向孙悟空询问孙悟空的下落。孙悟空以夸张的方式描述了自己的力量，并劝说小妖们逃离，导致小妖们都逃散了。\n",
      "\n",
      "孙悟空进入洞后，遇到了三个坐镇洞内的头目妖王。他上前讲述自己作为孙悟空的强大实力，并得知外面的小妖已经逃跑。老妖婆听到报告后命令关闭前后洞门。悟空预见到这样做也无法阻止自己的进入，于是变作一只金头苍蝇飞向了老妖的脸上。\n",
      "\n",
      "老妖看到苍蝇大惊失色，急忙让小妖扑打，这使孙悟空忍不住露出了真身。三王发现后马上抓住悟空，并命令小妖用绳子捆绑他。接着他们拿出了阴阳二气瓶准备将孙悟空吸进去。在被拎着绳子接近瓶子的过程中，孙悟空没有挣扎，打算看看这瓶子的厉害之处。\n",
      "\n",
      "当悟空快要被吸入瓶中时，他拔下一根救命毫毛变成钢钻，从瓶子底部钻出。孙悟空化作一只小虫，在老妖头上乱咬。经过两个时辰后，三王打开瓶子盖子，发现瓶子已经被孙悟空钻破了一个小洞。看到宝瓶受损，三个妖王怒不可遏，并发誓要将孙悟空碎尸万段。\n",
      "\n",
      "随后，悟空恢复原形举棒打出洞去，并向唐僧和八戒详细讲述了经过，决定一同除妖。\n",
      "> Running step fa5814ed-0047-4e48-bdfb-9255f3332a93. Step input: None\n",
      "=== LLM Response ===\n",
      "根据提供的信息，在《西游记》的故事中，寇员外是一个诚实的人，并未有迹象显示他想让唐僧师徒多住几天。实际上，是寇员外的两个儿子因惧怕而答应天亮后去官府救唐僧师徒。文中没有提到寇员外希望唐僧师徒停留的原因。\n",
      "=== Function Output ===\n",
      "孙悟空和沙僧在与狮精战斗后，并没有直接得知唐僧和玉华王父子被九灵元圣捉走的消息。直到第二天，当黄狮精再次挑战时，九灵元圣才现身并抓走了唐僧和玉华王父子。此外，在西天门遇见太白金星后，虽然提到了犀牛精和九灵元圣，但关于唐僧和玉华王父子被捉的具体信息并未直接提及。最终，通过四木禽星的帮助，孙悟空等人发现了唐僧、猪八戒和沙僧被九灵元圣所捉走的情况。\n",
      "> Running step 50d78f71-6cb7-4d24-b76c-864cf6bf3216. Step input: None\n",
      "=== Function Output ===\n",
      "王嬷嬷主要负责黛玉的照顾，而雪雁则协助紫鹃帮助黛玉。贾母做出这样的安排主要是为了给宝玉和黛玉提供特别的关注与关怀。由于黛玉刚到荣府需要适应新环境，并且她的身体状况和心情都直接关系到家庭的情感稳定，因此由经验丰富的王嬷嬷来专门照看她，确保她在生病时能得到及时而周全的护理；同时，派遣雪雁这样的年轻仆人协助，可以让她感到亲近与温暖，从而更好地恢复健康。这种安排体现了贾母作为大家长在细节上的用心考虑，旨在保障两位少爷的生活起居都得到了妥善处理。\n",
      "> Running step e4d98597-8beb-427a-aabc-40fb8957a437. Step input: None\n",
      "=== LLM Response ===\n",
      "根据《红楼梦》第21回的内容，袭人并非在写诗时感到身体不适，而是黛玉生病了，袭人得知此事后回去告诉了贾母并请医诊治。至于袭人的入睡情况，并未在相关章节中具体描述她是如何入睡的。\n",
      "=== LLM Response ===\n",
      "在宋江等人逃亡的过程中，他们遇到了混江龙李俊。这位好汉的名字叫张横，是专门在江里做买卖的船伙儿。李俊愿意帮助宋江等人是因为他认识宋江，知道宋江的名声，并且出于好心不想让宋江陷入危险之中。\n",
      "=== LLM Response ===\n",
      "根据提供的信息，在相关章节中并没有提到任何关于传单威胁梁中书若敢动卢俊义和石秀二人的内容。因此无法得知传单上会有什么具体后果。这些章节主要讲述了其他情节，未涉及针对这两位人物的具体威胁事件。如果有更多相关信息或具体的章节描述，请告知我。\n",
      "=== LLM Response ===\n",
      "在这一段情节中，唐僧一行人在夜间上山时不慎坠入了深坑，并被一群妖怪捉住。他们险些成为妖怪的食物。最终，当天快亮的时候，一位手持拐杖的老者出现，挥动拐杖解开了绳子并唤醒了唐僧。这位老者是太白金星，他告诉唐僧这个地方叫双叉岭，并带唐僧离开了妖怪的范围。在危急时刻，他们还遇到了一位手持钢叉、腰挂弓箭的大汉，这些野兽因此逃走，为唐僧一行人解除了危险。\n",
      "=== LLM Response ===\n",
      "根据《水浒传》中的描述，宋江和吴用面对高廉的妖术时，并没有直接提出具体的破敌策略。他们主要依赖的是公孙胜的能力来破解高廉的法术。具体行动包括派遣戴宗请回公孙胜，以及采取军事行动将高廉满门送往刑场处理，从而最终解救了柴进。\n",
      "=== LLM Response ===\n",
      "孙悟空获得芭蕉扇的过程大致如下：\n",
      "\n",
      "1. 在火焰山，孙悟空得知需要借芭蕉扇来灭火。他前往牛魔王的妻子铁扇公主那里请求借用。\n",
      "\n",
      "2. 首次向铁扇公主借扇被拒绝，后来因为与红孩儿的冲突得到了金箍棒。\n",
      "\n",
      "3. 孙悟空再次找铁扇公主借扇，但这次她给了假芭蕉扇。孙悟空虽然获得了假扇，但这并没有解决问题。\n",
      "\n",
      "4. 最终，在观音菩萨的帮助下，孙悟空通过智谋让铁扇公主借用真芭蕉扇，并成功熄灭了火焰山的烈火。\n",
      "=== LLM Response ===\n",
      "根据提供的信息，在《红楼梦》中，王嬷嬷主要负责黛玉的照顾，而雪雁则协助紫鹃帮助黛玉。贾母做出这样的安排主要是为了给宝玉和黛玉提供特别的关注与关怀。由于黛玉刚到荣府需要适应新环境，并且她的身体状况和心情都直接关系到家庭的情感稳定，因此由经验丰富的王嬷嬷来专门照看她，确保她在生病时能得到及时而周全的护理；同时，派遣雪雁这样的年轻仆人协助，可以让她感到亲近与温暖，从而更好地恢复健康。这种安排体现了贾母作为大家长在细节上的用心考虑，旨在保障两位少爷的生活起居都得到了妥善处理。\n",
      "=== LLM Response ===\n",
      "在《西游记》中，孙悟空和沙僧与狮精战斗后，并没有直接得知唐僧和玉华王父子被九灵元圣捉走的消息。直到第二天，当黄狮精再次挑战时，九灵元圣才现身并抓走了唐僧和玉华王父子。\n",
      "\n",
      "具体情节如下：在与黄狮精的战斗中，孙悟空和沙僧未能取胜，最终被黄狮精所伤。在他们休息恢复后，第四天黄狮精再度前来挑战。这时，真正的幕后操纵者——九灵元圣现身，并趁机将唐僧和玉华王父子捉走。\n",
      "\n",
      "随后，在西天取经的路上，孙悟空等人遇到了太白金星，虽然提到了犀牛精和九灵元圣，但关于唐僧和玉华王父子被捉的具体信息并未直接提及。最终，通过四木禽星的帮助，孙悟空等人发现了唐僧、猪八戒和沙僧被九灵元圣所捉走的情况。\n",
      "\n",
      "综上所述，在孙悟空和沙僧与狮精战斗后，并没有立即得知唐僧和玉华王父子被捉的消息，而是经过一系列事件之后才了解到真相。\n",
      "=== LLM Response ===\n",
      "孙悟空进入压龙洞后，他化作普通小妖的模样拿着令旗混进了洞内。在门口遇见了一些小妖，他们排列成阵势站在门口并向孙悟空询问其下落。孙悟空以夸张的方式夸大自己实力，并劝说这些小妖离开，导致它们都逃散了。\n",
      "\n",
      "随后孙悟空进入了洞中，在里面遇到了三个坐镇的头目妖王。他向他们展示了自己作为孙悟空的强大力量后得知外面的小妖已经逃跑。这时老妖婆得到了报告，命令关闭前后洞门。但悟空预见到这样做也无法阻止他的进入。于是变作一只金头苍蝇飞向了老妖婆的脸部。\n",
      "\n",
      "当老妖看到苍蝇时大惊失色，急忙让小妖们去扑打。这使孙悟空忍不住露出了真身。三王发现后马上抓住了悟空，并命令小妖用绳子捆绑他。他们拿出了阴阳二气瓶准备将孙悟空吸进去。在被拎着绳子接近瓶子的过程中，孙悟空没有挣扎，打算看看这瓶子的厉害之处。\n",
      "\n",
      "当悟空快要被吸入瓶中时，他拔下一根救命毫毛变成钢钻，从瓶子底部钻出。孙悟空化作一只小虫，在老妖头上乱咬。经过两个时辰后，三王打开瓶子盖子，发现瓶子已经被孙悟空钻破了一个小洞。看到宝瓶受损，三个妖王怒不可遏，并发誓要将孙悟空碎尸万段。\n",
      "\n",
      "随后，悟空恢复原形举棒打出洞去，并向唐僧和八戒详细讲述了经过，决定一同除妖。\n"
     ]
    }
   ],
   "source": [
    "rag_dataset,rag_predictions_dataset=await Build_test_dataset(\n",
    "    documents_nodes,agent,test_size=20,prefix='MulEngine3')"
   ]
  },
  {
   "cell_type": "code",
   "execution_count": 15,
   "metadata": {},
   "outputs": [
    {
     "name": "stderr",
     "output_type": "stream",
     "text": [
      "100%|██████████| 80/80 [01:19<00:00,  1.01it/s]"
     ]
    },
    {
     "name": "stdout",
     "output_type": "stream",
     "text": [
      "answer_relevancy Score: 0.725\n",
      "context_relevancy Score: 0.77125\n",
      "correctness Score: 2.8\n",
      "faithfulness Score: 0.25\n"
     ]
    },
    {
     "name": "stderr",
     "output_type": "stream",
     "text": [
      "\n"
     ]
    }
   ],
   "source": [
    "queries=[example.query for example in rag_dataset.examples]\n",
    "contexts_list=[example.reference_contexts for example in rag_dataset.examples]\n",
    "response_strs=[example.response for example in rag_predictions_dataset.predictions]\n",
    "\n",
    "# 已有回答，直接传入回答评估\n",
    "await eval_query_engine(queries,contexts_list,response_strs)"
   ]
  }
 ],
 "metadata": {
  "kernelspec": {
   "display_name": "langchian",
   "language": "python",
   "name": "python3"
  },
  "language_info": {
   "codemirror_mode": {
    "name": "ipython",
    "version": 3
   },
   "file_extension": ".py",
   "mimetype": "text/x-python",
   "name": "python",
   "nbconvert_exporter": "python",
   "pygments_lexer": "ipython3",
   "version": "3.10.14"
  }
 },
 "nbformat": 4,
 "nbformat_minor": 2
}
