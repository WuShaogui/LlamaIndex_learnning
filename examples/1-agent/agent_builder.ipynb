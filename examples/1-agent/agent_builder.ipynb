{
 "cells": [
  {
   "cell_type": "markdown",
   "metadata": {},
   "source": [
    "```mermaid\n",
    "flowchart TB\n",
    "A[广州数据]\n",
    "B[上海数据]\n",
    "C[深圳数据]\n",
    "D[广州查询工具QueryEngineTool]\n",
    "E[上海查询工具QueryEngineTool]\n",
    "F[深圳查询工具QueryEngineTool]\n",
    "G[文档查询选择工具get_tools]\n",
    "H[生成prompt工具create_system_prompt]\n",
    "I[创建代理工具create_agent]\n",
    "J[最终代理builder_agent]\n",
    "\n",
    "A--->D\n",
    "B--->E\n",
    "C--->F\n",
    "D--->G\n",
    "E--->G\n",
    "F--->G\n",
    "H--->J\n",
    "G--->J\n",
    "I--->J\n",
    "```\n",
    "\n",
    "### 1. 把QueryEngine转为工具使用，并使用tool_retriever.retrieve选择工具\n",
    "\n",
    "在这个脚本中，首先构建了针对不同城市（广州、深圳、上海）的查询引擎，这些引擎被封装为工具（`QueryEngineTool`），并存储在 `tool_dict` 字典中。通过定义一个检索器 `tool_retriever` 并调用 `tool_retriever.retrieve(task)` 方法来选择与当前任务最相关的工具。这样可以确保在面对不同查询时，能够动态地从现有的工具集中选取合适的查询引擎进行信息检索。\n",
    "\n",
    "### 2. 首先创建prompt，然后选择QueryEngine工具创建Agent\n",
    "\n",
    "为了构建一个能够解决特定任务的代理（agent），首先需要生成一个系统提示（system prompt）。这一步通过调用 `create_system_prompt` 函数来完成。随后使用这个系统提示以及从 `tool_retriever.retrieve(task)` 选取的相关工具，利用 `ReActAgent.from_tools` 方法创建最终的代理。这种方法能够确保在每次面对新的查询任务时都能够动态生成和调整系统提示及工具集。\n",
    "\n",
    "### 3. 嵌套Agent的使用\n",
    "\n",
    "脚本中展示了如何构建一个多级代理（嵌套agent）。首先通过一系列步骤创建了一个顶层代理（builder_agent），它负责生成和管理其他具体的代理。这种设计允许在高层实现逻辑控制，同时利用具体执行层（如 `QueryEngineTool`）来处理细节任务。这样的结构可以提高系统的灵活性和可扩展性。\n",
    "\n",
    "### 4. 嵌套的Agent带来流程不稳定，输出不如直接RAG靠谱\n",
    "\n",
    "虽然多级代理（嵌套agent）提供了一种灵活的方式来构建复杂的任务解决系统，但在实际应用中可能会遇到一些挑战。例如，在某些情况下，顶层代理可能不能准确地判断出最适合当前任务的具体工具集或策略，这可能导致生成的系统提示不够精确或者查询结果偏离预期目标。此外，这种结构也可能增加代码复杂性和维护难度。\n",
    "\n",
    "相比之下，直接使用RAG（Retrieval-Augmented Generation）方法在处理信息检索和回答问题时更为直接有效，因为它可以直接基于现有文档进行上下文依赖的信息提取与融合生成，通常能提供更稳定且高质量的输出结果。"
   ]
  },
  {
   "cell_type": "code",
   "execution_count": 11,
   "metadata": {},
   "outputs": [],
   "source": [
    "from llama_index.core import Settings\n",
    "from llama_index.llms.ollama import Ollama\n",
    "from llama_index.embeddings.ollama import OllamaEmbedding\n",
    "\n",
    "base_url='http://localhost:11434'\n",
    "llm = Ollama(model=\"qwen2.5:latest\", request_timeout=360.0,base_url=base_url)\n",
    "Settings.llm = llm\n",
    "Settings.embed_model = OllamaEmbedding(model_name=\"quentinz/bge-large-zh-v1.5:latest\",base_url=base_url)"
   ]
  },
  {
   "cell_type": "markdown",
   "metadata": {},
   "source": [
    "## 获取数据"
   ]
  },
  {
   "cell_type": "code",
   "execution_count": 12,
   "metadata": {},
   "outputs": [],
   "source": [
    "# 利用https://baike.deno.dev/获取百度百科查询地址\n",
    "import re\n",
    "import requests\n",
    "from bs4 import BeautifulSoup\n",
    "\n",
    "def get_html(url):\n",
    "    headers = {\n",
    "        'User-Agent': 'Mozilla/5.0 (Windows NT 10.0; Win64; x64) AppleWebKit/537.36 (KHTML, like Gecko) Chrome/91.0.4472.124 Safari/537.36'\n",
    "    }\n",
    "    response = requests.get(url, headers=headers)\n",
    "    \n",
    "    # 检查响应状态码\n",
    "    if response.status_code == 200:\n",
    "        return response\n",
    "    else:\n",
    "        print(f\"请求失败，状态码：{response.status_code}\")\n",
    "        return None\n",
    "\n",
    "def build_md_from_html(html,save_path):\n",
    "    soup = BeautifulSoup(html, 'html.parser')\n",
    "\n",
    "    md_content=''\n",
    "    # 获取summary部分\n",
    "    md_content+='# 概览\\n'\n",
    "    summary_div= soup.find_all('div', class_='J-summary')  # 替换为实际的数据选择器\n",
    "    summary_paragraphs = summary_div[0].find_all('div', {'data-tag': 'paragraph'})\n",
    "    for paragraph in summary_paragraphs:\n",
    "        text = paragraph.get_text(strip=True)\n",
    "        text=re.sub(r'\\[[1-9][0-9]*\\]','',text)\n",
    "        md_content+=text+'\\n\\n'\n",
    "    \n",
    "    # 获取内容部分\n",
    "    content_div = soup.find_all('div', class_='J-lemma-content')  # 替换为实际的数据选择器\n",
    "    paragraphs = content_div[0].find_all('div', {'data-tag': ['paragraph','header']})\n",
    "    for paragraph in paragraphs:\n",
    "        data_tag=paragraph['data-tag']\n",
    "        text = paragraph.get_text(strip=True)\n",
    "\n",
    "        if data_tag=='header':\n",
    "            text=text.replace('播报编辑','')\n",
    "            data_level=int(paragraph['data-level'])\n",
    "            text='#'*data_level+' '+text+'\\n'\n",
    "        else:\n",
    "            text=re.sub(r'\\[[1-9][0-9]*\\]','',text)\n",
    "            text+='\\n\\n'\n",
    "        \n",
    "        md_content+=text\n",
    "\n",
    "    # 将结果写入文件\n",
    "    with open(save_path, 'w', encoding='utf-8') as file:\n",
    "        file.write(md_content)\n",
    "\n",
    "cities = [\"广州\", \"深圳\", \"上海\"]\n",
    "# for city in cities:\n",
    "#     url = f\"https://baike.deno.dev/item/{city}\"\n",
    "#     response = get_html(url).json()\n",
    "#     baike_url=response['data']['link']\n",
    "#     print(f\"{city} 的链接是：{baike_url}\")\n",
    "\n",
    "#     html=get_html(baike_url).text\n",
    "#     print(f'get {city} html done')\n",
    "\n",
    "#     save_path=f'../../data/citys/{city}.md'\n",
    "#     build_md_from_html(html,save_path)\n",
    "#     print(f'save {city} markdown')\n"
   ]
  },
  {
   "cell_type": "markdown",
   "metadata": {},
   "source": [
    "## 每个文件构建查询引擎"
   ]
  },
  {
   "cell_type": "code",
   "execution_count": 13,
   "metadata": {},
   "outputs": [],
   "source": [
    "from llama_index.core import SimpleDirectoryReader\n",
    "\n",
    "city_docs = {}\n",
    "for city in cities:\n",
    "    city_docs[city] = SimpleDirectoryReader(\n",
    "        input_files=[f\"../../data/citys/{city}.md\"]\n",
    "    ).load_data()"
   ]
  },
  {
   "cell_type": "code",
   "execution_count": 14,
   "metadata": {},
   "outputs": [],
   "source": [
    "from llama_index.core import VectorStoreIndex\n",
    "from llama_index.core.tools import QueryEngineTool,ToolMetadata\n",
    "\n",
    "tool_dict = {}\n",
    "\n",
    "for city in cities:\n",
    "    index=VectorStoreIndex.from_documents(documents=city_docs[city])\n",
    "\n",
    "    query_engine=index.as_query_engine()\n",
    "\n",
    "    tool=QueryEngineTool(\n",
    "        query_engine=query_engine,\n",
    "        metadata=ToolMetadata(\n",
    "            name=city,\n",
    "            description=(f\"关于{city}问题的回答助手\")))\n",
    "    tool_dict[city]=tool"
   ]
  },
  {
   "cell_type": "markdown",
   "metadata": {},
   "source": [
    "## prompt->选择查询工具->创建Agent进行增强生成"
   ]
  },
  {
   "cell_type": "code",
   "execution_count": 15,
   "metadata": {},
   "outputs": [],
   "source": [
    "from llama_index.core.objects import ObjectIndex\n",
    "\n",
    "tool_index=ObjectIndex.from_objects(\n",
    "    list(tool_dict.values()),\n",
    "    index_cls=VectorStoreIndex\n",
    ")\n",
    "\n",
    "tool_retriever=tool_index.as_retriever(similarity_top_k=1)"
   ]
  },
  {
   "cell_type": "code",
   "execution_count": 16,
   "metadata": {},
   "outputs": [],
   "source": [
    "from llama_index.core.llms import ChatMessage\n",
    "from llama_index.core import ChatPromptTemplate\n",
    "from llama_index.core.agent import ReActAgent\n",
    "from typing import List\n",
    "from llama_index.core.agent import FunctionCallingAgent\n",
    "\n",
    "GEN_SYS_PROMPT_STR = \"\"\"\\\n",
    "Task information is given below. \n",
    "\n",
    "Given the task, please generate a system prompt for an  bot to solve this task: \n",
    "{task} \\\n",
    "\"\"\"\n",
    "\n",
    "gen_sys_prompt_messages = [\n",
    "    ChatMessage(\n",
    "        role=\"system\",\n",
    "        content=\"You are helping to build a system prompt for another bot.\",\n",
    "    ),\n",
    "    ChatMessage(role=\"user\", content=GEN_SYS_PROMPT_STR),\n",
    "]\n",
    "GEN_SYS_PROMPT_TMPL = ChatPromptTemplate(gen_sys_prompt_messages)\n",
    "\n",
    "\n",
    "agent_cache = {}\n",
    "\n",
    "def create_system_prompt(task: str)-> str:\n",
    "    \"\"\"Create system prompt for another agent given an input task.\"\"\"\n",
    "    fmt_messages = GEN_SYS_PROMPT_TMPL.format_messages(task=task)\n",
    "    response = llm.chat(fmt_messages)\n",
    "    return response.message.content\n",
    "\n",
    "\n",
    "def get_tools(task: str) -> List[str]:\n",
    "    \"\"\"Get the set of relevant tools to use given an input task.\"\"\"\n",
    "    subset_tools = tool_retriever.retrieve(task)\n",
    "    tool_names= [t.metadata.name for t in subset_tools]\n",
    "    return tool_names\n",
    "\n",
    "\n",
    "def create_agent(system_prompt: str, tool_names: List[str]) -> str:\n",
    "    ''' Create an agent given a system prompt and an input set of tools\n",
    "    system_prompt :  prompt created by create_system_prompt\n",
    "    tool_names : tools can only choice 广州 上海 or 深圳\n",
    "    '''\n",
    "    try:\n",
    "        # print('tool_names',tool_names)\n",
    "        # get the list of tools\n",
    "        input_tools = [tool_dict[tn] for tn in tool_names]\n",
    " \n",
    "        agent = ReActAgent.from_tools(input_tools, verbose=True)\n",
    "        agent_cache[\"agent\"] = agent\n",
    "        return_msg = \"Agent created successfully.\"\n",
    "    except Exception as e:\n",
    "        return_msg = f\"An error occurred when building an agent. Here is the error: {repr(e)}\"\n",
    "    return return_msg"
   ]
  },
  {
   "cell_type": "code",
   "execution_count": 17,
   "metadata": {},
   "outputs": [],
   "source": [
    "from llama_index.core.tools import FunctionTool\n",
    "\n",
    "system_prompt_tool = FunctionTool.from_defaults(fn=create_system_prompt)\n",
    "get_tools_tool = FunctionTool.from_defaults(fn=get_tools)\n",
    "create_agent_tool = FunctionTool.from_defaults(fn=create_agent)"
   ]
  },
  {
   "cell_type": "markdown",
   "metadata": {},
   "source": [
    "## 创建汇总Agent"
   ]
  },
  {
   "cell_type": "code",
   "execution_count": 18,
   "metadata": {},
   "outputs": [],
   "source": [
    "GPT_BUILDER_SYS_STR = \"\"\"\\\n",
    "You are helping to construct an agent given a user-specified task. \n",
    "You should generally use the tools in this order to build the agent.\n",
    "\n",
    "1) Create system prompt tool: to create the system prompt for the agent.\n",
    "2) Get tools tool: to fetch the candidate set of tools to use.\n",
    "3) Create agent tool: to create the final agent.\n",
    "\"\"\"\n",
    "\n",
    "prefix_msgs = [ChatMessage(role=\"system\", content=GPT_BUILDER_SYS_STR)]\n",
    "\n",
    "\n",
    "builder_agent = FunctionCallingAgent.from_tools(\n",
    "    tools=[system_prompt_tool, get_tools_tool, create_agent_tool],\n",
    "    prefix_messages=prefix_msgs,\n",
    "    verbose=True\n",
    ")"
   ]
  },
  {
   "cell_type": "code",
   "execution_count": 19,
   "metadata": {},
   "outputs": [
    {
     "name": "stdout",
     "output_type": "stream",
     "text": [
      "> Running step ea222b84-cd51-4cb1-8905-e25b338ee64d. Step input: 创建一个代理，告诉我关于广州的事情\n",
      "Added user message to memory: 创建一个代理，告诉我关于广州的事情\n",
      "=== Calling Function ===\n",
      "Calling function: create_system_prompt with args: {\"task\": \"\\u63d0\\u4f9b\\u5173\\u4e8e\\u5e7f\\u5dde\\u7684\\u4fe1\\u606f\"}\n",
      "=== Function Output ===\n",
      "以下是为解决此任务生成的系统提示：\n",
      "\n",
      "```\n",
      "您需要为某个机器人编写对话脚本，使其能够提供关于广州的相关信息。下面是具体的指示和指南。\n",
      "\n",
      "【目标】：生成一段对话，内容是关于广州市的基本信息，包括但不限于地理位置、著名景点、文化特色等。\n",
      "\n",
      "【对话示例框架】：\n",
      "1. 用户提问或表达兴趣。\n",
      "2. 机器人基于预设的信息库进行回答。\n",
      "3. 可以根据用户进一步的询问提供更详细的信息。\n",
      "\n",
      "【提示要点】：\n",
      "- 地理位置：位于中国南部，广东省省会城市。\n",
      "- 著名景点：珠江夜游、白云山、广州塔（小蛮腰）、陈家祠等。\n",
      "- 文化特色：广府文化、早茶文化、粤菜特色等。\n",
      "- 其他相关信息：人口数量、面积大小、著名历史事件或人物等。\n",
      "\n",
      "【示例对话】：\n",
      "用户：我想了解一些关于广州的信息。\n",
      "机器人：当然可以！广州位于中国南部的广东省，是省会城市。这里有许多著名的景点和美食。比如珠江夜游非常受欢迎，还有白云山和广州塔（小蛮腰）等。另外，广州还是广府文化的发源地之一，您可以品尝到地道的早茶和粤菜。\n",
      "\n",
      "用户：广州有什么特别的文化传统吗？\n",
      "机器人：广州拥有丰富多样的文化特色，例如早茶文化、广东音乐等。特别是早茶文化，在广州非常流行，许多老店提供正宗的粤式点心。\n",
      "```\n",
      "> Running step 88119ea0-335b-4d54-a6e1-6efb19fdb1fe. Step input: None\n",
      "=== Calling Function ===\n",
      "Calling function: get_tools with args: {\"task\": \"\\u63d0\\u4f9b\\u5173\\u4e8e\\u5e7f\\u5dde\\u7684\\u4fe1\\u606f\"}\n",
      "=== Function Output ===\n",
      "['广州']\n",
      "> Running step 5c4204c4-4127-4c0d-9ca5-4885e3732121. Step input: None\n",
      "=== Calling Function ===\n",
      "Calling function: create_agent with args: {\"system_prompt\": \"\\u60a8\\u9700\\u8981\\u4e3a\\u67d0\\u4e2a\\u673a\\u5668\\u4eba\\u7f16\\u5199\\u5bf9\\u8bdd\\u811a\\u672c\\uff0c\\u4f7f\\u5176\\u80fd\\u591f\\u63d0\\u4f9b\\u5173\\u4e8e\\u5e7f\\u5dde\\u7684\\u76f8\\u5173\\u4fe1\\u606f\\u3002\\u4e0b\\u9762\\u662f\\u5177\\u4f53\\u7684\\u6307\\u793a\\u548c\\u6307\\u5357\\u3002\\n\\n\\u3010\\u76ee\\u6807\\u3011\\uff1a\\u751f\\u6210\\u4e00\\u6bb5\\u5bf9\\u8bdd\\uff0c\\u5185\\u5bb9\\u662f\\u5173\\u4e8e\\u5e7f\\u5dde\\u5e02\\u7684\\u57fa\\u672c\\u4fe1\\u606f\\uff0c\\u5305\\u62ec\\u4f46\\u4e0d\\u9650\\u4e8e\\u5730\\u7406\\u4f4d\\u7f6e\\u3001\\u8457\\u540d\\u666f\\u70b9\\u3001\\u6587\\u5316\\u7279\\u8272\\u7b49\\u3002\\n\\n\\u3010\\u5bf9\\u8bdd\\u793a\\u4f8b\\u6846\\u67b6\\u3011\\uff1a\\n1. \\u7528\\u6237\\u63d0\\u95ee\\u6216\\u8868\\u8fbe\\u5174\\u8da3\\u3002\\n2. \\u673a\\u5668\\u4eba\\u57fa\\u4e8e\\u9884\\u8bbe\\u7684\\u4fe1\\u606f\\u5e93\\u8fdb\\u884c\\u56de\\u7b54\\u3002\\n3. \\u53ef\\u4ee5\\u6839\\u636e\\u7528\\u6237\\u8fdb\\u4e00\\u6b65\\u7684\\u8be2\\u95ee\\u63d0\\u4f9b\\u66f4\\u8be6\\u7ec6\\u7684\\u4fe1\\u606f\\u3002\\n\\n\\u3010\\u63d0\\u793a\\u8981\\u70b9\\u3011\\uff1a\\n- \\u5730\\u7406\\u4f4d\\u7f6e\\uff1a\\u4f4d\\u4e8e\\u4e2d\\u56fd\\u5357\\u90e8\\uff0c\\u5e7f\\u4e1c\\u7701\\u7701\\u4f1a\\u57ce\\u5e02\\u3002\\n- \\u8457\\u540d\\u666f\\u70b9\\uff1a\\u73e0\\u6c5f\\u591c\\u6e38\\u3001\\u767d\\u4e91\\u5c71\\u3001\\u5e7f\\u5dde\\u5854\\uff08\\u5c0f\\u86ee\\u8170\\uff09\\u3001\\u9648\\u5bb6\\u7960\\u7b49\\u3002\\n- \\u6587\\u5316\\u7279\\u8272\\uff1a\\u5e7f\\u5e9c\\u6587\\u5316\\u3001\\u65e9\\u8336\\u6587\\u5316\\u3001\\u7ca4\\u83dc\\u7279\\u8272\\u7b49\\u3002\\n- \\u5176\\u4ed6\\u76f8\\u5173\\u4fe1\\u606f\\uff1a\\u4eba\\u53e3\\u6570\\u91cf\\u3001\\u9762\\u79ef\\u5927\\u5c0f\\u3001\\u8457\\u540d\\u5386\\u53f2\\u4e8b\\u4ef6\\u6216\\u4eba\\u7269\\u7b49\\u3002\\n\\n\\u3010\\u793a\\u4f8b\\u5bf9\\u8bdd\\u3011\\uff1a\\n\\u7528\\u6237\\uff1a\\u6211\\u60f3\\u4e86\\u89e3\\u4e00\\u4e9b\\u5173\\u4e8e\\u5e7f\\u5dde\\u7684\\u4fe1\\u606f\\u3002\\n\\u673a\\u5668\\u4eba\\uff1a\\u5f53\\u7136\\u53ef\\u4ee5\\uff01\\u5e7f\\u5dde\\u4f4d\\u4e8e\\u4e2d\\u56fd\\u5357\\u90e8\\u7684\\u5e7f\\u4e1c\\u7701\\uff0c\\u662f\\u7701\\u4f1a\\u57ce\\u5e02\\u3002\\u8fd9\\u91cc\\u6709\\u8bb8\\u591a\\u8457\\u540d\\u7684\\u666f\\u70b9\\u548c\\u7f8e\\u98df\\u3002\\u6bd4\\u5982\\u73e0\\u6c5f\\u591c\\u6e38\\u975e\\u5e38\\u53d7\\u6b22\\u8fce\\uff0c\\u8fd8\\u6709\\u767d\\u4e91\\u5c71\\u548c\\u5e7f\\u5dde\\u5854\\uff08\\u5c0f\\u86ee\\u8170\\uff09\\u7b49\\u3002\\u53e6\\u5916\\uff0c\\u5e7f\\u5dde\\u8fd8\\u662f\\u5e7f\\u5e9c\\u6587\\u5316\\u7684\\u53d1\\u6e90\\u5730\\u4e4b\\u4e00\\uff0c\\u60a8\\u53ef\\u4ee5\\u54c1\\u5c1d\\u5230\\u5730\\u9053\\u7684\\u65e9\\u8336\\u548c\\u7ca4\\u83dc\\u3002\\n\\n\\u7528\\u6237\\uff1a\\u5e7f\\u5dde\\u6709\\u4ec0\\u4e48\\u7279\\u522b\\u7684\\u6587\\u5316\\u4f20\\u7edf\\u5417\\uff1f\\n\\u673a\\u5668\\u4eba\\uff1a\\u5e7f\\u5dde\\u62e5\\u6709\\u4e30\\u5bcc\\u591a\\u6837\\u7684\\u6587\\u5316\\u7279\\u8272\\uff0c\\u4f8b\\u5982\\u65e9\\u8336\\u6587\\u5316\\u3001\\u5e7f\\u4e1c\\u97f3\\u4e50\\u7b49\\u3002\\u7279\\u522b\\u662f\\u65e9\\u8336\\u6587\\u5316\\uff0c\\u5728\\u5e7f\\u5dde\\u975e\\u5e38\\u6d41\\u884c\\uff0c\\u8bb8\\u591a\\u8001\\u5e97\\u63d0\\u4f9b\\u6b63\\u5b97\\u7684\\u7ca4\\u5f0f\\u70b9\\u5fc3\\u3002\", \"tool_names\": [\"\\u5e7f\\u5dde\"]}\n",
      "=== Function Output ===\n",
      "Agent created successfully.\n",
      "> Running step c52f75f1-f75b-434e-b9ae-2eaa316677a0. Step input: None\n",
      "=== LLM Response ===\n",
      "Great! The agent has been created successfully. When interacting with the user, it will provide information about Guangzhou based on the system prompt provided.\n",
      "\n",
      "Here is an example of how a conversation might go:\n",
      "\n",
      "**User:** 我想了解一些关于广州的信息。\n",
      "**Agent:** 当然可以！广州位于中国南部的广东省，是省会城市。这里有许多著名的景点和美食。比如珠江夜游非常受欢迎，还有白云山和广州塔（小蛮腰）等。另外，广州还是广府文化的发源地之一，您可以品尝到地道的早茶和粤菜。\n",
      "\n",
      "**User:** 广州有什么特别的文化传统吗？\n",
      "**Agent:** 广州拥有丰富多样的文化特色，例如早茶文化、广东音乐等。特别是早茶文化，在广州非常流行，许多老店提供正宗的粤式点心。\n",
      "\n",
      "Feel free to test the agent with more questions or scenarios about Guangzhou!\n"
     ]
    }
   ],
   "source": [
    "response=builder_agent.query(\"创建一个代理，告诉我关于广州的事情\")"
   ]
  },
  {
   "cell_type": "code",
   "execution_count": 20,
   "metadata": {},
   "outputs": [
    {
     "name": "stdout",
     "output_type": "stream",
     "text": [
      "> Running step b2a18ce0-648a-41ae-8271-f1b92b781d8b. Step input: 广州所有的4A级旅游景点\n",
      "\u001b[1;3;38;5;200mThought: 我需要使用 广州 工具来获取广州所有4A级的旅游景点信息。\n",
      "Action: 广州\n",
      "Action Input: {'input': '广州 4A级 旅游景点'}\n",
      "\u001b[0m\u001b[1;3;34mObservation: 广州的4A级旅游景点包括：\n",
      "\n",
      "1. 中山纪念堂 - 越秀区东风中路259号\n",
      "2. 莲花山旅游区 - 番禺区石楼镇西门路18号\n",
      "3. 宝墨园 - 番禺区沙湾镇紫坭村\n",
      "4. 西汉南越王博物馆 - 广州市解放北路867号\n",
      "5. 黄花岗公园 - 广州市先烈中路79号\n",
      "6. 越秀公园 - 广州市解放北路988号\n",
      "7. 碧水湾温泉度假村 - 从化流溪温泉旅游度假区（良口）\n",
      "8. 华南植物园 - 广州市天河区天源路1190号\n",
      "9. 广州动物园 - 广州市先烈中路120号\n",
      "10. 正佳广场商贸旅游区 - 广州市天河路228号\n",
      "\u001b[0m> Running step 0e0c0f06-7719-40ed-8dc5-0dac9a370137. Step input: None\n",
      "\u001b[1;3;38;5;200mThought: 我可以使用获取到的信息来回答用户的问题，我将用中文作答。\n",
      "Answer: 广州的4A级旅游景点包括：中山纪念堂（地址：越秀区东风中路259号）、莲花山旅游区（地址：番禺区石楼镇西门路18号）、宝墨园（地址：番禺区沙湾镇紫坭村）、西汉南越王博物馆（地址：广州市解放北路867号）、黄花岗公园（地址：广州市先烈中路79号）、越秀公园（地址：广州市解放北路988号）、碧水湾温泉度假村（地址：从化流溪温泉旅游度假区，良口镇）、华南植物园（地址：广州市天河区天源路1190号）、广州动物园（地址：广州市先烈中路120号）和正佳广场商贸旅游区（地址：广州市天河路228号）。\n",
      "\u001b[0m"
     ]
    },
    {
     "data": {
      "text/plain": [
       "Response(response='广州的4A级旅游景点包括：中山纪念堂（地址：越秀区东风中路259号）、莲花山旅游区（地址：番禺区石楼镇西门路18号）、宝墨园（地址：番禺区沙湾镇紫坭村）、西汉南越王博物馆（地址：广州市解放北路867号）、黄花岗公园（地址：广州市先烈中路79号）、越秀公园（地址：广州市解放北路988号）、碧水湾温泉度假村（地址：从化流溪温泉旅游度假区，良口镇）、华南植物园（地址：广州市天河区天源路1190号）、广州动物园（地址：广州市先烈中路120号）和正佳广场商贸旅游区（地址：广州市天河路228号）。', source_nodes=[NodeWithScore(node=TextNode(id_='fb7ee9fe-07a0-49dc-84e3-02c298396473', embedding=None, metadata={'file_path': '..\\\\..\\\\data\\\\citys\\\\广州.md', 'file_name': '广州.md', 'file_size': 166691, 'creation_date': '2024-12-26', 'last_modified_date': '2024-12-26'}, excluded_embed_metadata_keys=['file_name', 'file_type', 'file_size', 'creation_date', 'last_modified_date', 'last_accessed_date'], excluded_llm_metadata_keys=['file_name', 'file_type', 'file_size', 'creation_date', 'last_modified_date', 'last_accessed_date'], relationships={<NodeRelationship.SOURCE: '1'>: RelatedNodeInfo(node_id='03b5365f-9a5f-4ef7-8ed7-9147ed60f78b', node_type='4', metadata={'file_path': '..\\\\..\\\\data\\\\citys\\\\广州.md', 'file_name': '广州.md', 'file_size': 166691, 'creation_date': '2024-12-26', 'last_modified_date': '2024-12-26'}, hash='3637de55c2f1c306b79c1032e6c8f3791a8a3836acf30f65f8f9ebff0116e09c'), <NodeRelationship.PREVIOUS: '2'>: RelatedNodeInfo(node_id='e088bf6b-b4e1-4d7c-85e9-0eb2553944e2', node_type='1', metadata={'file_path': '..\\\\..\\\\data\\\\citys\\\\广州.md', 'file_name': '广州.md', 'file_size': 166691, 'creation_date': '2024-12-26', 'last_modified_date': '2024-12-26'}, hash='82d78d94c0737d7c7257d3fb162febbd8acfaa3b404eb6a72b2b9a2238ce738e')}, metadata_template='{key}: {value}', metadata_separator='\\n', text='2023年，广州市接待过夜旅游者5544.97万人次，比上年增长45.0%。其中，入境旅游者377.41万人次，增长1.4倍；境内旅游者5167.55万人次，增长40.8%。在入境旅游人数中，外国人131.58万人次，增长2.6倍；香港、澳门和台湾同胞245.83万人次，增长1.1倍。文旅消费总额3309.49亿元，增长47.3%。入境文旅消费26.79亿美元，增长1.5倍。\\r\\n\\r\\nA 级类别\\r\\n\\r\\n所在区\\r\\n\\r\\n名称\\r\\n\\r\\n详细地址\\r\\n\\r\\n5A\\r\\n\\r\\n番禺\\r\\n\\r\\n长隆旅游度假区\\r\\n\\r\\n广州市番禺区迎宾路\\r\\n\\r\\n5A\\r\\n\\r\\n白云\\r\\n\\r\\n白云山风景名胜区\\r\\n\\r\\n广州市广园中路\\r\\n\\r\\n4A\\r\\n\\r\\n越秀\\r\\n\\r\\n中山纪念堂\\r\\n\\r\\n广州市东风中路259号\\r\\n\\r\\n4A\\r\\n\\r\\n番禺\\r\\n\\r\\n莲花山旅游区\\r\\n\\r\\n广州市番禺区石楼镇西门路18号\\r\\n\\r\\n4A\\r\\n\\r\\n番禺\\r\\n\\r\\n宝墨园\\r\\n\\r\\n广州市番禺区沙湾镇紫坭村\\r\\n\\r\\n4A\\r\\n\\r\\n越秀\\r\\n\\r\\n西汉南越王博物馆\\r\\n\\r\\n广州市解放北路867\\r\\n\\r\\n4A\\r\\n\\r\\n越秀\\r\\n\\r\\n黄花岗公园\\r\\n\\r\\n广州市先烈中路79号\\r\\n\\r\\n4A\\r\\n\\r\\n越秀\\r\\n\\r\\n越秀公园\\r\\n\\r\\n广州市解放北路988号\\r\\n\\r\\n4A\\r\\n\\r\\n从化\\r\\n\\r\\n碧水湾温泉度假村\\r\\n\\r\\n广州市从化流溪温泉旅游度假区（良口）\\r\\n\\r\\n4A\\r\\n\\r\\n越秀\\r\\n\\r\\n广州动物园\\r\\n\\r\\n广州市先烈中路120号\\r\\n\\r\\n4A\\r\\n\\r\\n天河\\r\\n\\r\\n华南植物园\\r\\n\\r\\n广州市天河区天源路1190号\\r\\n\\r\\n4A\\r\\n\\r\\n越秀\\r\\n\\r\\n广州烈士陵园\\r\\n\\r\\n广州市中山二路92号\\r\\n\\r\\n4A\\r\\n\\r\\n荔湾\\r\\n\\r\\n陈家祠\\r\\n\\r\\n广州市中山七路恩龙里34号\\r\\n\\r\\n4A\\r\\n\\r\\n番禺\\r\\n\\r\\n广东科学中心\\r\\n\\r\\n广州市大学城西六路168号\\r\\n\\r\\n4A\\r\\n\\r\\n花都\\r\\n\\r\\n九龙湖旅游度假区\\r\\n\\r\\n广州市花都区花东镇九龙湖社区\\r\\n\\r\\n4A\\r\\n\\r\\n黄埔\\r\\n\\r\\n南海神庙\\r\\n\\r\\n广州市黄埔区庙头旭日街22号\\r\\n\\r\\n4A\\r\\n\\r\\n花都\\r\\n\\r\\n石头记矿物园\\r\\n\\r\\n广州市花都区珠宝城大观路1号\\r\\n\\r\\n4A\\r\\n\\r\\n天河\\r\\n\\r\\n正佳广场商贸旅游区\\r\\n\\r\\n广州市天河路228号\\r\\n\\r\\n参考资料：', mimetype='text/plain', start_char_idx=232, end_char_idx=1142, metadata_seperator='\\n', text_template='{metadata_str}\\n\\n{content}'), score=0.7582903864531836), NodeWithScore(node=TextNode(id_='9d6e7956-0e1c-487f-b778-5e48156c8c33', embedding=None, metadata={'file_path': '..\\\\..\\\\data\\\\citys\\\\广州.md', 'file_name': '广州.md', 'file_size': 166691, 'creation_date': '2024-12-26', 'last_modified_date': '2024-12-26'}, excluded_embed_metadata_keys=['file_name', 'file_type', 'file_size', 'creation_date', 'last_modified_date', 'last_accessed_date'], excluded_llm_metadata_keys=['file_name', 'file_type', 'file_size', 'creation_date', 'last_modified_date', 'last_accessed_date'], relationships={<NodeRelationship.SOURCE: '1'>: RelatedNodeInfo(node_id='9a14f03c-7c65-4989-bc21-a2bb7aa574f1', node_type='4', metadata={'file_path': '..\\\\..\\\\data\\\\citys\\\\广州.md', 'file_name': '广州.md', 'file_size': 166691, 'creation_date': '2024-12-26', 'last_modified_date': '2024-12-26'}, hash='47945b59d236758c066de48a3edab94accbf5bc90b0d540f632064aa58f1db6c'), <NodeRelationship.NEXT: '3'>: RelatedNodeInfo(node_id='c87dbdfa-6e15-46e1-86e3-83c4134857e8', node_type='1', metadata={}, hash='c06c9360a7ec5618c230b7d8863e2251d3b198b65e14363e608c4d51cfd40af3')}, metadata_template='{key}: {value}', metadata_separator='\\n', text='重要景点\\n分类\\r\\n\\r\\n名称\\r\\n\\r\\n人文历史\\r\\n\\r\\n陈家祠\\r\\n\\r\\n宝墨园\\r\\n\\r\\n沙面\\r\\n\\r\\n岭南印象园\\r\\n\\r\\n西汉南越王博物馆\\r\\n\\r\\n南越国宫署遗址\\r\\n\\r\\n越秀公园\\r\\n\\r\\n沙湾古镇\\r\\n\\r\\n黄埔古港\\r\\n\\r\\n广东省博物馆\\r\\n\\r\\n余荫山房\\r\\n\\r\\n十三行博物馆\\r\\n\\r\\n粤剧艺术博物馆\\r\\n\\r\\n广州民俗博物馆\\r\\n\\r\\n荔枝湾\\r\\n\\r\\n荔湾博物馆\\r\\n\\r\\n骆秉章光禄大夫家庙\\r\\n\\r\\n邓世昌纪念馆\\r\\n\\r\\n广州艺术博物院\\r\\n\\r\\n广东美术馆\\r\\n\\r\\n锦纶会馆\\r\\n\\r\\n万木草堂\\r\\n\\r\\n粤海关大楼\\r\\n\\r\\n庐江书院\\r\\n\\r\\n詹天佑故居\\r\\n\\r\\n塱头古村\\r\\n\\r\\n玉岩书院\\r\\n\\r\\n洪秀全故居\\r\\n\\r\\n宗教古迹\\r\\n\\r\\n石室圣心大教堂\\r\\n\\r\\n南海神庙\\r\\n\\r\\n广州大佛寺\\r\\n\\r\\n光孝寺\\r\\n\\r\\n五仙观\\r\\n\\r\\n三元宫\\r\\n\\r\\n六榕寺\\r\\n\\r\\n华林寺\\r\\n\\r\\n圆玄道观\\r\\n\\r\\n南沙天后宫\\r\\n\\r\\n仁威庙\\r\\n\\r\\n广州城隍庙\\r\\n\\r\\n海幢寺\\r\\n\\r\\n怀圣寺\\r\\n\\r\\n黄大仙祠\\r\\n\\r\\n-\\r\\n\\r\\n革命历史\\r\\n\\r\\n黄埔军校\\r\\n\\r\\n黄花岗七十二烈士墓园\\r\\n\\r\\n广州起义烈士陵园\\r\\n\\r\\n中山纪念堂\\r\\n\\r\\n孙中山大元帅府\\r\\n\\r\\n中华全国总工会旧址\\r\\n\\r\\n三元里抗英斗争旧址\\r\\n\\r\\n农民运动讲习所旧址\\r\\n\\r\\n广州公社旧址\\r\\n\\r\\n十九路军淞沪抗日阵亡将士陵园\\r\\n\\r\\n中共“三大”会址\\r\\n\\r\\n-\\r\\n\\r\\n自然风光\\r\\n\\r\\n白云山\\r\\n\\r\\n广州抽水蓄能电站度假区\\r\\n\\r\\n南沙湿地公园\\r\\n\\r\\n白水寨风景名胜区\\r\\n\\r\\n碧水湾温泉度假村\\r\\n\\r\\n海珠湖国家湿地公园\\r\\n\\r\\n九龙湖度假区\\r\\n\\r\\n芙蓉嶂风景区\\r\\n\\r\\n石门国家森林公园\\r\\n\\r\\n流溪河国家森林公园\\r\\n\\r\\n莲花山旅游区\\r\\n\\r\\n天鹿湖森林公园\\r\\n\\r\\n黄埔丹水坑风景区\\r\\n\\r\\n七星岗古海岸遗址科学公园\\r\\n\\r\\n香雪公园\\r\\n\\r\\n帽峰山森林公园\\r\\n\\r\\n主题公园', mimetype='text/plain', start_char_idx=2, end_char_idx=750, metadata_seperator='\\n', text_template='{metadata_str}\\n\\n{content}'), score=0.6915303394085558)], metadata=None)"
      ]
     },
     "execution_count": 20,
     "metadata": {},
     "output_type": "execute_result"
    }
   ],
   "source": [
    "agent_cache[\"agent\"].query('广州所有的4A级旅游景点')"
   ]
  },
  {
   "cell_type": "code",
   "execution_count": 23,
   "metadata": {},
   "outputs": [
    {
     "name": "stdout",
     "output_type": "stream",
     "text": [
      "广州的4A级旅游景点包括：\n",
      "\n",
      "1. 番禺长隆旅游度假区\n",
      "2. 白云山风景名胜区\n",
      "3. 莲花山旅游区\n",
      "4. 宝墨园\n",
      "5. 西汉南越王博物馆\n",
      "6. 黄花岗公园\n",
      "7. 越秀公园\n",
      "8. 碧水湾温泉度假村\n",
      "9. 华南植物园\n",
      "10. 广州动物园\n",
      "11. 正佳广场商贸旅游区\n"
     ]
    }
   ],
   "source": [
    "# 直接使用RAG\n",
    "response=tool_dict['广州'].query_engine.query('广州所有的4A级旅游景点')\n",
    "print(response.response)"
   ]
  },
  {
   "cell_type": "code",
   "execution_count": 24,
   "metadata": {},
   "outputs": [
    {
     "name": "stdout",
     "output_type": "stream",
     "text": [
      "> Running step 96a66369-191e-442c-bbb8-a9f92c885a9a. Step input: 广州的民间手工艺有哪些？\n",
      "\u001b[1;3;38;5;200mThought: 我需要使用工具来获取关于广州民间手工艺的信息。\n",
      "Action: 广州\n",
      "Action Input: {'input': '广州的民间手工艺有哪些？'}\n",
      "\u001b[0m\u001b[1;3;34mObservation: 广州的民间手工艺包括广绣、广彩、玉雕和木雕。这些传统工艺各具特色：\n",
      "\n",
      "- 广绣是珠三角地区的刺绣工艺总称，与潮州刺绣合称为粤绣，是中国四大名绣之一。\n",
      "- 广彩是一种釉上彩瓷，又称广州织金彩瓷，色彩鲜艳，具有浓厚的岭南地方特色和中西合璧的艺术风格。\n",
      "- 玉雕是以玉石为材料进行雕刻的传统工艺，技艺精湛，作品精美。\n",
      "- 木雕以酸枝木、紫檀木等木材为主料，制作出各种精美的工艺品。\n",
      "\u001b[0m> Running step 9a3586da-8f52-4a7a-86bb-623cb92b4ee6. Step input: None\n",
      "\u001b[1;3;38;5;200mThought: 我可以回答这个问题了。\n",
      "Answer: 广州的民间手工艺包括广绣、广彩、玉雕和木雕。其中：\n",
      "\n",
      "1. 广绣是珠三角地区的刺绣工艺总称，与潮州刺绣合称为粤绣，是中国四大名绣之一。\n",
      "2. 广彩是一种釉上彩瓷，又称广州织金彩瓷，色彩鲜艳，具有浓厚的岭南地方特色和中西合璧的艺术风格。\n",
      "3. 玉雕是以玉石为材料进行雕刻的传统工艺，技艺精湛，作品精美。\n",
      "4. 木雕以酸枝木、紫檀木等木材为主料，制作出各种精美的工艺品。\n",
      "\u001b[0m"
     ]
    },
    {
     "data": {
      "text/plain": [
       "Response(response='广州的民间手工艺包括广绣、广彩、玉雕和木雕。其中：\\n\\n1. 广绣是珠三角地区的刺绣工艺总称，与潮州刺绣合称为粤绣，是中国四大名绣之一。\\n2. 广彩是一种釉上彩瓷，又称广州织金彩瓷，色彩鲜艳，具有浓厚的岭南地方特色和中西合璧的艺术风格。\\n3. 玉雕是以玉石为材料进行雕刻的传统工艺，技艺精湛，作品精美。\\n4. 木雕以酸枝木、紫檀木等木材为主料，制作出各种精美的工艺品。', source_nodes=[NodeWithScore(node=TextNode(id_='71c6a1af-f1ce-4a0a-88a4-dc5bf5609e3a', embedding=None, metadata={'file_path': '..\\\\..\\\\data\\\\citys\\\\广州.md', 'file_name': '广州.md', 'file_size': 166691, 'creation_date': '2024-12-26', 'last_modified_date': '2024-12-26'}, excluded_embed_metadata_keys=['file_name', 'file_type', 'file_size', 'creation_date', 'last_modified_date', 'last_accessed_date'], excluded_llm_metadata_keys=['file_name', 'file_type', 'file_size', 'creation_date', 'last_modified_date', 'last_accessed_date'], relationships={<NodeRelationship.SOURCE: '1'>: RelatedNodeInfo(node_id='8e451c75-002a-45e9-96c9-eb7dcca0c629', node_type='4', metadata={'file_path': '..\\\\..\\\\data\\\\citys\\\\广州.md', 'file_name': '广州.md', 'file_size': 166691, 'creation_date': '2024-12-26', 'last_modified_date': '2024-12-26'}, hash='613a2625bca44f4d741ae906e167a1fdcea5a04a508c291173a9840a81932117'), <NodeRelationship.PREVIOUS: '2'>: RelatedNodeInfo(node_id='eab8b4ee-3150-49ad-a359-df8f848f6b20', node_type='1', metadata={'file_path': '..\\\\..\\\\data\\\\citys\\\\广州.md', 'file_name': '广州.md', 'file_size': 166691, 'creation_date': '2024-12-26', 'last_modified_date': '2024-12-26'}, hash='e49a61322f48cc67c24d2f5a9752729ae2136b825e122d052dc3fad21c5b25f8')}, metadata_template='{key}: {value}', metadata_separator='\\n', text='广木作与京木作、苏木作并列为中国家具三大流派。\\r\\n\\r\\n木雕\\r\\n\\r\\n牙雕\\r\\n\\r\\n牙雕是以象牙为原材料进行雕刻的传统手工技艺。广州象牙雕刻，又称广州牙雕，是以象牙为原料进行雕刻的传统民间手工技艺，产品以镂空、透深的雕刻技艺闻名于世，以牙球、画舫、人物、微刻书画为代表。2006年5月10日，广州牙雕入选广东省第一批非遗名录；同月20日，广州象牙雕刻入选第一批国家级非遗名录。\\r\\n\\r\\n牙雕\\r\\n\\r\\n剪纸\\r\\n\\r\\n广州剪纸艺术是广东剪纸的重要代表，有着近500年的历史。剪纸被誉为指尖上的艺术，是中国传统文化的一大瑰宝，有着悠久的历史和广泛的群众基础，是各种民俗活动的重要组成部分。\\r\\n\\r\\n剪纸', mimetype='text/plain', start_char_idx=658, end_char_idx=949, metadata_seperator='\\n', text_template='{metadata_str}\\n\\n{content}'), score=0.6114093577949807), NodeWithScore(node=TextNode(id_='eab8b4ee-3150-49ad-a359-df8f848f6b20', embedding=None, metadata={'file_path': '..\\\\..\\\\data\\\\citys\\\\广州.md', 'file_name': '广州.md', 'file_size': 166691, 'creation_date': '2024-12-26', 'last_modified_date': '2024-12-26'}, excluded_embed_metadata_keys=['file_name', 'file_type', 'file_size', 'creation_date', 'last_modified_date', 'last_accessed_date'], excluded_llm_metadata_keys=['file_name', 'file_type', 'file_size', 'creation_date', 'last_modified_date', 'last_accessed_date'], relationships={<NodeRelationship.SOURCE: '1'>: RelatedNodeInfo(node_id='8e451c75-002a-45e9-96c9-eb7dcca0c629', node_type='4', metadata={'file_path': '..\\\\..\\\\data\\\\citys\\\\广州.md', 'file_name': '广州.md', 'file_size': 166691, 'creation_date': '2024-12-26', 'last_modified_date': '2024-12-26'}, hash='613a2625bca44f4d741ae906e167a1fdcea5a04a508c291173a9840a81932117'), <NodeRelationship.NEXT: '3'>: RelatedNodeInfo(node_id='71c6a1af-f1ce-4a0a-88a4-dc5bf5609e3a', node_type='1', metadata={}, hash='ea3f3aeec61ab5740138b9f1fe50fbf02c756ec9f58590eae1e17161252ace68')}, metadata_template='{key}: {value}', metadata_separator='\\n', text='民间手工艺\\n传统工艺“三雕一彩一绣”中广绣为中国“四大名绣”之一；广彩从清代开始就行销海外；广式木雕、牙雕、玉雕则以雕刻中的镂空、透深技法闻名。\\r\\n\\r\\n名称\\r\\n\\r\\n介绍\\r\\n\\r\\n图片\\r\\n\\r\\n广绣\\r\\n\\r\\n广绣是珠三角民间刺绣工艺的总称，以构图饱满，形象传神，纹理清晰，色泽富丽，针法多样，善于变化的艺术特色而闻名。广绣与潮州刺绣合称粤绣，与湘绣、蜀绣和苏绣并称中国四大名绣。广绣最早的文字记载可上溯至唐永贞元年（公元805年），历史上广州丝织业行业会馆锦纶会馆位于荔湾区。\\r\\n\\r\\n广绣\\r\\n\\r\\n广彩\\r\\n\\r\\n广彩的全称是“广州织金彩瓷”，是广州特有的一种釉上彩瓷，是以销往外国为主要目的而制作的瓷器，初创于清朝康熙年间，成熟于乾隆、嘉庆时期。广彩瓷器色彩鲜艳、构图繁密、金碧辉煌，具有浓郁的岭南地方特色和中西合璧的艺术风格。\\r\\n\\r\\n广彩\\r\\n\\r\\n玉雕\\r\\n\\r\\n玉雕，一种加工雕琢玉石的传统工艺，即手艺精湛的工艺师根据不同玉料的天然颜色和自然形状，反复设计、精心琢磨，将玉石雕刻成精美工艺品。2008年，玉雕入选第二批国家级非物质文化遗产名录。\\r\\n\\r\\n玉雕\\r\\n\\r\\n木雕\\r\\n\\r\\n广州木雕以雕工精细而闻名，其所用木料主要是酸枝木、紫檀木、樟木、柚木、坤甸木、花梨木等。制成品包括红木雕刻家具、樟木箱、红木小件、红木宫灯、建筑装饰木雕等。\\r\\n\\r\\n荔湾区的木雕业在明代已兴起，清代最具盛名。明代至清初，文昌北路一带开设了数十家酸枝木器作坊。清代雍正至乾隆年间，一批木雕艺人被皇帝召入宫中养心殿造办处，制作御用硬木器具，世称“广木作”。广木作与京木作、苏木作并列为中国家具三大流派。\\r\\n\\r\\n木雕\\r\\n\\r\\n牙雕\\r\\n\\r\\n牙雕是以象牙为原材料进行雕刻的传统手工技艺。广州象牙雕刻，又称广州牙雕，是以象牙为原料进行雕刻的传统民间手工技艺，产品以镂空、透深的雕刻技艺闻名于世，以牙球、画舫、人物、微刻书画为代表。', mimetype='text/plain', start_char_idx=2, end_char_idx=790, metadata_seperator='\\n', text_template='{metadata_str}\\n\\n{content}'), score=0.5578619538607528)], metadata=None)"
      ]
     },
     "execution_count": 24,
     "metadata": {},
     "output_type": "execute_result"
    }
   ],
   "source": [
    "agent_cache[\"agent\"].query('广州的民间手工艺有哪些？')"
   ]
  },
  {
   "cell_type": "code",
   "execution_count": 25,
   "metadata": {},
   "outputs": [
    {
     "name": "stdout",
     "output_type": "stream",
     "text": [
      "广州的民间手工艺主要包括广绣、广彩、玉雕和木雕等。这些传统工艺各具特色：\n",
      "\n",
      "- 广绣：作为珠三角民间刺绣工艺的总称，以其构图饱满、形象传神、纹理清晰、色泽富丽以及针法多样而著称，是中国四大名绣之一。\n",
      "- 广彩：全称为“广州织金彩瓷”，是一种以销往外国为主要目的的瓷器，色彩鲜艳、构图繁密、金碧辉煌，具有浓郁的地方特色和中西合璧的艺术风格。\n",
      "- 玉雕：加工雕琢玉石的传统工艺，根据不同玉料的特点进行设计与琢磨，制作成精美工艺品。\n",
      "- 木雕：广州木雕以雕工精细著称，常用酸枝木、紫檀木等材料，制成家具、樟木箱等多种成品。\n"
     ]
    }
   ],
   "source": [
    "# 直接使用RAG\n",
    "response=tool_dict['广州'].query_engine.query('广州的民间手工艺有哪些？')\n",
    "print(response.response)"
   ]
  }
 ],
 "metadata": {
  "kernelspec": {
   "display_name": "langchian",
   "language": "python",
   "name": "python3"
  },
  "language_info": {
   "codemirror_mode": {
    "name": "ipython",
    "version": 3
   },
   "file_extension": ".py",
   "mimetype": "text/x-python",
   "name": "python",
   "nbconvert_exporter": "python",
   "pygments_lexer": "ipython3",
   "version": "3.10.14"
  }
 },
 "nbformat": 4,
 "nbformat_minor": 2
}
