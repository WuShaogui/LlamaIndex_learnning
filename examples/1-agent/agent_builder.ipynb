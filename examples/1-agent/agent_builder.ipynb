{
 "cells": [
  {
   "cell_type": "markdown",
   "metadata": {},
   "source": [
    "```mermaid\n",
    "flowchart TB\n",
    "A[广州数据]\n",
    "B[上海数据]\n",
    "C[深圳数据]\n",
    "D[广州查询工具QueryEngineTool]\n",
    "E[上海查询工具QueryEngineTool]\n",
    "F[深圳查询工具QueryEngineTool]\n",
    "G[文档查询选择工具get_tools]\n",
    "H[生成prompt工具create_system_prompt]\n",
    "I[创建代理工具create_agent]\n",
    "J[最终代理builder_agent]\n",
    "\n",
    "A--->D\n",
    "B--->E\n",
    "C--->F\n",
    "D--->G\n",
    "E--->G\n",
    "F--->G\n",
    "H--->J\n",
    "G--->J\n",
    "I--->J\n",
    "```\n",
    "\n",
    "### 1. 把QueryEngine转为工具使用，并使用tool_retriever.retrieve选择工具\n",
    "\n",
    "在这个脚本中，首先构建了针对不同城市（广州、深圳、上海）的查询引擎，这些引擎被封装为工具（`QueryEngineTool`），并存储在 `tool_dict` 字典中。通过定义一个检索器 `tool_retriever` 并调用 `tool_retriever.retrieve(task)` 方法来选择与当前任务最相关的工具。这样可以确保在面对不同查询时，能够动态地从现有的工具集中选取合适的查询引擎进行信息检索。\n",
    "\n",
    "### 2. 首先创建prompt，然后选择QueryEngine工具创建Agent\n",
    "\n",
    "为了构建一个能够解决特定任务的代理（agent），首先需要生成一个系统提示（system prompt）。这一步通过调用 `create_system_prompt` 函数来完成。随后使用这个系统提示以及从 `tool_retriever.retrieve(task)` 选取的相关工具，利用 `ReActAgent.from_tools` 方法创建最终的代理。这种方法能够确保在每次面对新的查询任务时都能够动态生成和调整系统提示及工具集。\n",
    "\n",
    "### 3. 嵌套Agent的使用\n",
    "\n",
    "脚本中展示了如何构建一个多级代理（嵌套agent）。首先通过一系列步骤创建了一个顶层代理（builder_agent），它负责生成和管理其他具体的代理。这种设计允许在高层实现逻辑控制，同时利用具体执行层（如 `QueryEngineTool`）来处理细节任务。这样的结构可以提高系统的灵活性和可扩展性。\n",
    "\n",
    "### 4. 嵌套的Agent带来流程不稳定，输出不如直接RAG靠谱\n",
    "\n",
    "虽然多级代理（嵌套agent）提供了一种灵活的方式来构建复杂的任务解决系统，但在实际应用中可能会遇到一些挑战。例如，在某些情况下，顶层代理可能不能准确地判断出最适合当前任务的具体工具集或策略，这可能导致生成的系统提示不够精确或者查询结果偏离预期目标。此外，这种结构也可能增加代码复杂性和维护难度。\n",
    "\n",
    "相比之下，直接使用RAG（Retrieval-Augmented Generation）方法在处理信息检索和回答问题时更为直接有效，因为它可以直接基于现有文档进行上下文依赖的信息提取与融合生成，通常能提供更稳定且高质量的输出结果。"
   ]
  },
  {
   "cell_type": "code",
   "execution_count": 1,
   "metadata": {},
   "outputs": [],
   "source": [
    "from llama_index.core import Settings\n",
    "from llama_index.llms.ollama import Ollama\n",
    "from llama_index.embeddings.ollama import OllamaEmbedding\n",
    "\n",
    "base_url='http://localhost:11434'\n",
    "llm = Ollama(model=\"qwen2.5:latest\", request_timeout=360.0,base_url=base_url)\n",
    "Settings.llm = llm\n",
    "Settings.embed_model = OllamaEmbedding(model_name=\"quentinz/bge-large-zh-v1.5:latest\",base_url=base_url)"
   ]
  },
  {
   "cell_type": "markdown",
   "metadata": {},
   "source": [
    "## 获取数据"
   ]
  },
  {
   "cell_type": "code",
   "execution_count": 2,
   "metadata": {},
   "outputs": [],
   "source": [
    "# 利用https://baike.deno.dev/获取百度百科查询地址\n",
    "import re\n",
    "import requests\n",
    "from bs4 import BeautifulSoup\n",
    "\n",
    "def get_html(url):\n",
    "    headers = {\n",
    "        'User-Agent': 'Mozilla/5.0 (Windows NT 10.0; Win64; x64) AppleWebKit/537.36 (KHTML, like Gecko) Chrome/91.0.4472.124 Safari/537.36'\n",
    "    }\n",
    "    response = requests.get(url, headers=headers)\n",
    "    \n",
    "    # 检查响应状态码\n",
    "    if response.status_code == 200:\n",
    "        return response\n",
    "    else:\n",
    "        print(f\"请求失败，状态码：{response.status_code}\")\n",
    "        return None\n",
    "\n",
    "def build_md_from_html(html,save_path):\n",
    "    soup = BeautifulSoup(html, 'html.parser')\n",
    "\n",
    "    md_content=''\n",
    "    # 获取summary部分\n",
    "    md_content+='# 概览\\n'\n",
    "    summary_div= soup.find_all('div', class_='J-summary')  # 替换为实际的数据选择器\n",
    "    summary_paragraphs = summary_div[0].find_all('div', {'data-tag': 'paragraph'})\n",
    "    for paragraph in summary_paragraphs:\n",
    "        text = paragraph.get_text(strip=True)\n",
    "        text=re.sub(r'\\[[1-9][0-9]*\\]','',text)\n",
    "        md_content+=text+'\\n\\n'\n",
    "    \n",
    "    # 获取内容部分\n",
    "    content_div = soup.find_all('div', class_='J-lemma-content')  # 替换为实际的数据选择器\n",
    "    paragraphs = content_div[0].find_all('div', {'data-tag': ['paragraph','header']})\n",
    "    for paragraph in paragraphs:\n",
    "        data_tag=paragraph['data-tag']\n",
    "        text = paragraph.get_text(strip=True)\n",
    "\n",
    "        if data_tag=='header':\n",
    "            text=text.replace('播报编辑','')\n",
    "            data_level=int(paragraph['data-level'])\n",
    "            text='#'*data_level+' '+text+'\\n'\n",
    "        else:\n",
    "            text=re.sub(r'\\[[1-9][0-9]*\\]','',text)\n",
    "            text+='\\n\\n'\n",
    "        \n",
    "        md_content+=text\n",
    "\n",
    "    # 将结果写入文件\n",
    "    with open(save_path, 'w', encoding='utf-8') as file:\n",
    "        file.write(md_content)\n",
    "\n",
    "cities = [\"广州\", \"深圳\", \"上海\"]\n",
    "# for city in cities:\n",
    "#     url = f\"https://baike.deno.dev/item/{city}\"\n",
    "#     response = get_html(url).json()\n",
    "#     baike_url=response['data']['link']\n",
    "#     print(f\"{city} 的链接是：{baike_url}\")\n",
    "\n",
    "#     html=get_html(baike_url).text\n",
    "#     print(f'get {city} html done')\n",
    "\n",
    "#     save_path=f'../../data/citys/{city}.md'\n",
    "#     build_md_from_html(html,save_path)\n",
    "#     print(f'save {city} markdown')\n"
   ]
  },
  {
   "cell_type": "markdown",
   "metadata": {},
   "source": [
    "## 每个文件构建查询引擎"
   ]
  },
  {
   "cell_type": "code",
   "execution_count": 3,
   "metadata": {},
   "outputs": [],
   "source": [
    "from llama_index.core import SimpleDirectoryReader\n",
    "\n",
    "city_docs = {}\n",
    "for city in cities:\n",
    "    city_docs[city] = SimpleDirectoryReader(\n",
    "        input_files=[f\"../../data/citys/{city}.md\"]\n",
    "    ).load_data()"
   ]
  },
  {
   "cell_type": "code",
   "execution_count": 4,
   "metadata": {},
   "outputs": [],
   "source": [
    "from llama_index.core import VectorStoreIndex\n",
    "from llama_index.core.tools import QueryEngineTool,ToolMetadata\n",
    "\n",
    "tool_dict = {}\n",
    "\n",
    "for city in cities:\n",
    "    index=VectorStoreIndex.from_documents(documents=city_docs[city])\n",
    "\n",
    "    query_engine=index.as_query_engine()\n",
    "\n",
    "    tool=QueryEngineTool(\n",
    "        query_engine=query_engine,\n",
    "        metadata=ToolMetadata(\n",
    "            name=city,\n",
    "            description=(f\"关于{city}问题的回答助手\")))\n",
    "    tool_dict[city]=tool"
   ]
  },
  {
   "cell_type": "markdown",
   "metadata": {},
   "source": [
    "## prompt->选择查询工具->创建Agent进行增强生成"
   ]
  },
  {
   "cell_type": "code",
   "execution_count": 6,
   "metadata": {},
   "outputs": [],
   "source": [
    "from llama_index.core.objects import ObjectIndex\n",
    "\n",
    "tool_index=ObjectIndex.from_objects(\n",
    "    list(tool_dict.values()),\n",
    "    index_cls=VectorStoreIndex\n",
    ")\n",
    "\n",
    "tool_retriever=tool_index.as_retriever(similarity_top_k=1)"
   ]
  },
  {
   "cell_type": "code",
   "execution_count": 7,
   "metadata": {},
   "outputs": [],
   "source": [
    "from llama_index.core.llms import ChatMessage\n",
    "from llama_index.core import ChatPromptTemplate\n",
    "from llama_index.core.agent import ReActAgent\n",
    "from typing import List\n",
    "from llama_index.core.agent import FunctionCallingAgent\n",
    "\n",
    "GEN_SYS_PROMPT_STR = \"\"\"\\\n",
    "Task information is given below. \n",
    "\n",
    "Given the task, please generate a system prompt for an  bot to solve this task: \n",
    "{task} \\\n",
    "\"\"\"\n",
    "\n",
    "gen_sys_prompt_messages = [\n",
    "    ChatMessage(\n",
    "        role=\"system\",\n",
    "        content=\"You are helping to build a system prompt for another bot.\",\n",
    "    ),\n",
    "    ChatMessage(role=\"user\", content=GEN_SYS_PROMPT_STR),\n",
    "]\n",
    "GEN_SYS_PROMPT_TMPL = ChatPromptTemplate(gen_sys_prompt_messages)\n",
    "\n",
    "\n",
    "agent_cache = {}\n",
    "\n",
    "def create_system_prompt(task: str)-> str:\n",
    "    \"\"\"Create system prompt for another agent given an input task.\"\"\"\n",
    "    fmt_messages = GEN_SYS_PROMPT_TMPL.format_messages(task=task)\n",
    "    response = llm.chat(fmt_messages)\n",
    "    return response.message.content\n",
    "\n",
    "\n",
    "def get_tools(task: str) -> List[str]:\n",
    "    \"\"\"Get the set of relevant tools to use given an input task.\"\"\"\n",
    "    subset_tools = tool_retriever.retrieve(task)\n",
    "    tool_names= [t.metadata.name for t in subset_tools]\n",
    "    return tool_names\n",
    "\n",
    "\n",
    "def create_agent(system_prompt: str, tool_names: List[str]) -> str:\n",
    "    ''' Create an agent given a system prompt and an input set of tools\n",
    "    system_prompt :  prompt created by create_system_prompt\n",
    "    tool_names : tools can only choice 广州 上海 or 深圳\n",
    "    '''\n",
    "    try:\n",
    "        # print('tool_names',tool_names)\n",
    "        # get the list of tools\n",
    "        input_tools = [tool_dict[tn] for tn in tool_names]\n",
    " \n",
    "        agent = ReActAgent.from_tools(input_tools, verbose=True)\n",
    "        agent_cache[\"agent\"] = agent\n",
    "        return_msg = \"Agent created successfully.\"\n",
    "    except Exception as e:\n",
    "        return_msg = f\"An error occurred when building an agent. Here is the error: {repr(e)}\"\n",
    "    return return_msg"
   ]
  },
  {
   "cell_type": "code",
   "execution_count": 8,
   "metadata": {},
   "outputs": [],
   "source": [
    "from llama_index.core.tools import FunctionTool\n",
    "\n",
    "system_prompt_tool = FunctionTool.from_defaults(fn=create_system_prompt)\n",
    "get_tools_tool = FunctionTool.from_defaults(fn=get_tools)\n",
    "create_agent_tool = FunctionTool.from_defaults(fn=create_agent)"
   ]
  },
  {
   "cell_type": "markdown",
   "metadata": {},
   "source": [
    "## 创建汇总Agent"
   ]
  },
  {
   "cell_type": "code",
   "execution_count": 9,
   "metadata": {},
   "outputs": [],
   "source": [
    "GPT_BUILDER_SYS_STR = \"\"\"\\\n",
    "You are helping to construct an agent given a user-specified task. \n",
    "You should generally use the tools in this order to build the agent.\n",
    "\n",
    "1) Create system prompt tool: to create the system prompt for the agent.\n",
    "2) Get tools tool: to fetch the candidate set of tools to use.\n",
    "3) Create agent tool: to create the final agent.\n",
    "\"\"\"\n",
    "\n",
    "prefix_msgs = [ChatMessage(role=\"system\", content=GPT_BUILDER_SYS_STR)]\n",
    "\n",
    "\n",
    "builder_agent = ReActAgent.from_tools(\n",
    "    tools=[system_prompt_tool, get_tools_tool, create_agent_tool],\n",
    "    prefix_messages=prefix_msgs,\n",
    "    verbose=True,\n",
    "    max_iterations=20\n",
    ")"
   ]
  },
  {
   "cell_type": "code",
   "execution_count": 10,
   "metadata": {},
   "outputs": [
    {
     "name": "stdout",
     "output_type": "stream",
     "text": [
      "> Running step 7294cd7f-761d-4370-bded-0458eab19207. Step input: 创建一个代理，告诉我广州所有的4A级旅游景区？\n",
      "\u001b[1;3;38;5;200mThought: 我需要使用工具来获取广州的所有4A级旅游景区的信息。\n",
      "Action: get_tools\n",
      "Action Input: {'task': '查询广州所有4A级旅游景区'}\n",
      "\u001b[0m\u001b[1;3;34mObservation: ['广州']\n",
      "\u001b[0m> Running step 7213e094-69db-43a0-a8dc-af1990504265. Step input: None\n",
      "\u001b[1;3;38;5;200mThought: 根据返回的结果，我将创建一个代理以获取广州的4A级旅游景区信息。\n",
      "Action: create_agent\n",
      "Action Input: {'system_prompt': '请提供广州所有的4A级旅游景区的名字。', 'tool_names': ['广州']}\n",
      "\u001b[0m\u001b[1;3;34mObservation: Agent created successfully.\n",
      "\u001b[0m> Running step b34079a0-a39f-4215-a290-77e6e5202ce1. Step input: None\n",
      "\u001b[1;3;38;5;200mThought: 我可以回答这个问题了，由于代理已经创建成功，将使用它来获取广州的4A级旅游景区信息。\n",
      "Action: create_system_prompt\n",
      "Action Input: {'task': '查询广州所有4A级旅游景区'}\n",
      "\u001b[0m\u001b[1;3;34mObservation: 当然，以下是一个系统提示，用于指导助手完成这个任务：\n",
      "\n",
      "```plaintext\n",
      "您需要帮助查询广州市的所有4A级旅游景区。请按照以下步骤操作：\n",
      "\n",
      "1. 使用可靠的旅游网站、政府官方网站或相关的数据库来查找广州市的所有4A级旅游景区。\n",
      "2. 收集每个景区的详细信息，包括名称、地址、开放时间、门票价格等基本信息。\n",
      "3. 将这些信息整理成一个列表或者表格形式，并尽可能提供最新的数据以确保信息准确无误。\n",
      "4. 根据用户的查询需求，可以进一步提供一些热门或特色景点的具体介绍。\n",
      "\n",
      "请确保提供的信息是最新且准确的。如果有任何不确定的信息，请不要做出判断，而是找到最可靠的数据源进行确认后再提供给用户。\n",
      "```\n",
      "\n",
      "这样设置可以帮助助手更好地理解任务要求并给出详尽的回答。\n",
      "\u001b[0m> Running step 0682bea0-b012-43cf-8b34-43216950e38a. Step input: None\n",
      "\u001b[1;3;38;5;200mThought: 我现在有了系统提示来指导代理完成任务，并准备好回答问题了。\n",
      "Answer: 根据查询结果，广州市的一些4A级旅游景区包括白云山风景名胜区、华南植物园、上下九步行街等。请注意，这里提供的信息可能不是最新的，建议您通过可靠的旅游网站或政府官方网站获取最新和最准确的信息。\n",
      "\u001b[0m"
     ]
    }
   ],
   "source": [
    "response=builder_agent.query(\"创建一个代理，告诉我广州所有的4A级旅游景区？\")"
   ]
  },
  {
   "cell_type": "code",
   "execution_count": 13,
   "metadata": {},
   "outputs": [
    {
     "name": "stdout",
     "output_type": "stream",
     "text": [
      "> Running step 6f0a65ea-0baf-4229-b506-c33e03697fd4. Step input: 告诉我广州和上海的商业街？\n",
      "\u001b[1;3;38;5;200mThought: 我需要使用工具来获取广州和上海的商业街信息。\n",
      "Action: get_tools\n",
      "Action Input: {'task': '提供广州和上海的商业街信息'}\n",
      "\u001b[0m\u001b[1;3;34mObservation: ['上海']\n",
      "\u001b[0m> Running step 854983d9-c39d-4a36-b34f-2475821a2182. Step input: None\n",
      "\u001b[1;3;38;5;200mThought: 工具返回的结果只有上海的信息，没有广州的信息。我将使用该工具获取广州的商业街信息。\n",
      "Action: get_tools\n",
      "Action Input: {'task': '提供广州的商业街信息'}\n",
      "\u001b[0m\u001b[1;3;34mObservation: ['广州']\n",
      "\u001b[0m> Running step 3e1bc7a6-9fea-4371-873c-69972fe6f26e. Step input: None\n",
      "\u001b[1;3;38;5;200mThought: 现在我得到了广州和上海的一些商业街信息，但需要更具体的街道名称。我将使用这些工具创建代理来获取更多信息。\n",
      "Action: create_agent\n",
      "Action Input: {'system_prompt': '请提供广州和上海著名商业街的详细信息，包括街道名称、特色商铺等。', 'tool_names': ['广州', '上海']}\n",
      "\u001b[0m\u001b[1;3;34mObservation: Agent created successfully.\n",
      "\u001b[0m> Running step 089c430a-0a88-4e86-b056-7f40c74a4980. Step input: None\n",
      "\u001b[1;3;38;5;200mThought: 我已经成功创建了一个代理来获取广州和上海著名商业街的信息。我现在可以回答用户的问题了。\n",
      "Answer: 广州的著名商业街有天河路步行街、北京路步行街等，而上海则以南京东路步行街、淮海中路等著称。这些地方不仅拥有各种各样的特色商铺，同时也是体验当地文化和消费的好去处。\n",
      "\u001b[0m"
     ]
    }
   ],
   "source": [
    "response=builder_agent.query(\"告诉我广州和上海的商业街？\")"
   ]
  }
 ],
 "metadata": {
  "kernelspec": {
   "display_name": "langchian",
   "language": "python",
   "name": "python3"
  },
  "language_info": {
   "codemirror_mode": {
    "name": "ipython",
    "version": 3
   },
   "file_extension": ".py",
   "mimetype": "text/x-python",
   "name": "python",
   "nbconvert_exporter": "python",
   "pygments_lexer": "ipython3",
   "version": "3.10.14"
  }
 },
 "nbformat": 4,
 "nbformat_minor": 2
}
