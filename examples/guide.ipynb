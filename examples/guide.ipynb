{
 "cells": [
  {
   "cell_type": "markdown",
   "metadata": {},
   "source": [
    "在LlamaIndex库中，通过上述代码片段可以看出其模块化和分层的设计思路：\n",
    "\n",
    "1. **Prompt** 层：这个层级主要包含了构建查询或处理数据时所需的各种提示模板。通过使用`prompts`模块中的相关类和方法，用户可以定制化查询的表达方式。\n",
    "2. **Reader** 层：这一层负责从不同的数据源（如文件、数据库等）中读取内容。`readers`模块提供了多种具体的实现，用于处理不同格式的数据输入。\n",
    "3. **Index** 层：这里的组件专注于创建和维护索引结构。通过`indices`模块中的类，可以构建针对特定查询优化的索引数据结构。\n",
    "4. **Retriever** 层：此层负责从构建好的索引中检索相关信息。通过使用`retrievers`模块提供的工具，可以根据具体的查询需求高效地进行信息提取。\n",
    "5. **Query Engine** 层：这一层级提供了执行复杂查询的功能。通过`query_engine`模块，可以定义和运行复杂的查询逻辑，并得到相应的结果。\n",
    "6. **Agent** 层：该层实现了对话代理或智能助手的功能。它能够理解用户输入并生成合适的响应，结合了前面几层的功能来提供交互式的服务。\n",
    "7. **Workflow** 层：最后，这一层级提供了处理更复杂工作流的方法和工具，可以将上述各层组件组合起来以实现更为复杂的任务自动化流程。\n",
    "\n",
    "每一层都通过模块化的方式进行组织，并且这些模块之间有清晰的接口定义，使得用户或开发者可以根据具体需求灵活选择使用哪些功能。"
   ]
  },
  {
   "cell_type": "code",
   "execution_count": 18,
   "metadata": {},
   "outputs": [
    {
     "name": "stdout",
     "output_type": "stream",
     "text": [
      "['BasePromptTemplate', 'ChatPromptTemplate', 'LangchainPromptTemplate', 'Prompt', 'PromptTemplate', 'PromptType', 'SelectorPromptTemplate']\n"
     ]
    }
   ],
   "source": [
    "from llama_index.core import prompts \n",
    "\n",
    "indexs=list(filter(lambda att:att.find('Prompt')>=0,dir(prompts)))\n",
    "print(indexs)"
   ]
  },
  {
   "cell_type": "code",
   "execution_count": 25,
   "metadata": {},
   "outputs": [
    {
     "name": "stdout",
     "output_type": "stream",
     "text": [
      "['FileSystemReaderMixin', 'ReaderConfig', 'SimpleDirectoryReader', 'StringIterableReader']\n"
     ]
    }
   ],
   "source": [
    "from llama_index.core import readers\n",
    "atts=list(filter(lambda att:att.find('Reader')>=0,dir(readers)))\n",
    "print(atts)"
   ]
  },
  {
   "cell_type": "code",
   "execution_count": 23,
   "metadata": {},
   "outputs": [
    {
     "name": "stdout",
     "output_type": "stream",
     "text": [
      "['DocumentSummaryIndex', 'EmptyIndex', 'GPTDocumentSummaryIndex', 'GPTEmptyIndex', 'GPTKeywordTableIndex', 'GPTListIndex', 'GPTPandasIndex', 'GPTRAKEKeywordTableIndex', 'GPTSQLStructStoreIndex', 'GPTSimpleKeywordTableIndex', 'GPTTreeIndex', 'GPTVectorStoreIndex', 'KeywordTableIndex', 'KnowledgeGraphIndex', 'ListIndex', 'MultiModalVectorStoreIndex', 'PandasIndex', 'PropertyGraphIndex', 'RAKEKeywordTableIndex', 'SQLStructStoreIndex', 'SimpleKeywordTableIndex', 'SummaryIndex', 'TreeIndex', 'VectorStoreIndex']\n"
     ]
    }
   ],
   "source": [
    "from llama_index.core import indices\n",
    "\n",
    "indexs=list(filter(lambda att:att.find('Index')>=0,dir(indices)))\n",
    "print(indexs)"
   ]
  },
  {
   "cell_type": "code",
   "execution_count": 22,
   "metadata": {},
   "outputs": [
    {
     "name": "stdout",
     "output_type": "stream",
     "text": [
      "['AutoMergingRetriever', 'BaseImageRetriever', 'BasePGRetriever', 'BaseRetriever', 'CustomPGRetriever', 'CypherTemplateRetriever', 'EmptyIndexRetriever', 'KGTableRetriever', 'KeywordTableSimpleRetriever', 'KnowledgeGraphRAGRetriever', 'LLMSynonymRetriever', 'ListIndexEmbeddingRetriever', 'ListIndexRetriever', 'NLSQLRetriever', 'PGRetriever', 'QueryFusionRetriever', 'RecursiveRetriever', 'RouterRetriever', 'SQLRetriever', 'SummaryIndexEmbeddingRetriever', 'SummaryIndexLLMRetriever', 'SummaryIndexRetriever', 'TextToCypherRetriever', 'TransformRetriever', 'TreeAllLeafRetriever', 'TreeRootRetriever', 'TreeSelectLeafEmbeddingRetriever', 'TreeSelectLeafRetriever', 'VectorContextRetriever', 'VectorIndexAutoRetriever', 'VectorIndexRetriever']\n"
     ]
    }
   ],
   "source": [
    "from llama_index.core import retrievers\n",
    "\n",
    "indexs=list(filter(lambda att:att.find('Retriever')>=0,dir(retrievers)))\n",
    "print(indexs)"
   ]
  },
  {
   "cell_type": "code",
   "execution_count": 21,
   "metadata": {},
   "outputs": [
    {
     "name": "stdout",
     "output_type": "stream",
     "text": [
      "['BaseQueryEngine', 'CitationQueryEngine', 'CogniswitchQueryEngine', 'ComposableGraphQueryEngine', 'CustomQueryEngine', 'FLAREInstructQueryEngine', 'JSONalyzeQueryEngine', 'KnowledgeGraphQueryEngine', 'MultiStepQueryEngine', 'NLSQLTableQueryEngine', 'PGVectorSQLQueryEngine', 'PandasQueryEngine', 'RetrieverQueryEngine', 'RetrieverRouterQueryEngine', 'RetryGuidelineQueryEngine', 'RetryQueryEngine', 'RetrySourceQueryEngine', 'RouterQueryEngine', 'SQLAutoVectorQueryEngine', 'SQLJoinQueryEngine', 'SQLTableRetrieverQueryEngine', 'SimpleMultiModalQueryEngine', 'SubQuestionQueryEngine', 'ToolRetrieverRouterQueryEngine', 'TransformQueryEngine']\n"
     ]
    }
   ],
   "source": [
    "from llama_index.core import query_engine\n",
    "\n",
    "indexs=list(filter(lambda att:att.find('Engine')>=0,dir(query_engine)))\n",
    "print(indexs)"
   ]
  },
  {
   "cell_type": "code",
   "execution_count": 20,
   "metadata": {},
   "outputs": [
    {
     "name": "stdout",
     "output_type": "stream",
     "text": [
      "['AgentChatResponse', 'AgentRunner', 'CustomSimpleAgentWorker', 'FnAgentWorker', 'FunctionCallingAgent', 'FunctionCallingAgentWorker', 'MultimodalReActAgentWorker', 'ParallelAgentRunner', 'QueryPipelineAgentWorker', 'ReActAgent', 'ReActAgentWorker', 'StructuredPlannerAgent']\n"
     ]
    }
   ],
   "source": [
    "from llama_index.core import agent\n",
    "\n",
    "indexs=list(filter(lambda att:att.find('Agent')>=0,dir(agent)))\n",
    "print(indexs)"
   ]
  },
  {
   "cell_type": "code",
   "execution_count": 19,
   "metadata": {},
   "outputs": [
    {
     "name": "stdout",
     "output_type": "stream",
     "text": [
      "['Workflow', 'WorkflowCheckpointer', 'WorkflowRuntimeError', 'WorkflowTimeoutError', 'WorkflowValidationError']\n"
     ]
    }
   ],
   "source": [
    "from llama_index.core import workflow\n",
    "\n",
    "indexs=list(filter(lambda att:att.find('Workflow')>=0,dir(workflow)))\n",
    "print(indexs)"
   ]
  }
 ],
 "metadata": {
  "kernelspec": {
   "display_name": "langchian",
   "language": "python",
   "name": "python3"
  },
  "language_info": {
   "codemirror_mode": {
    "name": "ipython",
    "version": 3
   },
   "file_extension": ".py",
   "mimetype": "text/x-python",
   "name": "python",
   "nbconvert_exporter": "python",
   "pygments_lexer": "ipython3",
   "version": "3.10.14"
  }
 },
 "nbformat": 4,
 "nbformat_minor": 2
}
